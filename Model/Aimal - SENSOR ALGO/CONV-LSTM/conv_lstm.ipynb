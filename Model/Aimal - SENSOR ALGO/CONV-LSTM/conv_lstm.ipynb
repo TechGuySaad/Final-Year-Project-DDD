{
  "cells": [
    {
      "cell_type": "code",
      "execution_count": 1,
      "id": "efed0b72",
      "metadata": {
        "execution": {
          "iopub.execute_input": "2022-06-05T16:48:00.883201Z",
          "iopub.status.busy": "2022-06-05T16:48:00.882552Z",
          "iopub.status.idle": "2022-06-05T16:48:00.934119Z",
          "shell.execute_reply": "2022-06-05T16:48:00.933083Z"
        },
        "papermill": {
          "duration": 0.066645,
          "end_time": "2022-06-05T16:48:00.936750",
          "exception": false,
          "start_time": "2022-06-05T16:48:00.870105",
          "status": "completed"
        },
        "tags": [],
        "colab": {
          "base_uri": "https://localhost:8080/"
        },
        "id": "efed0b72",
        "outputId": "7c6906c8-7441-439c-f6cb-3ad71e3a0eb2"
      },
      "outputs": [
        {
          "output_type": "stream",
          "name": "stdout",
          "text": [
            "Collecting keras-tuner\n",
            "  Downloading keras_tuner-1.4.7-py3-none-any.whl.metadata (5.4 kB)\n",
            "Requirement already satisfied: keras in /usr/local/lib/python3.10/dist-packages (from keras-tuner) (3.4.1)\n",
            "Requirement already satisfied: packaging in /usr/local/lib/python3.10/dist-packages (from keras-tuner) (24.1)\n",
            "Requirement already satisfied: requests in /usr/local/lib/python3.10/dist-packages (from keras-tuner) (2.32.3)\n",
            "Collecting kt-legacy (from keras-tuner)\n",
            "  Downloading kt_legacy-1.0.5-py3-none-any.whl.metadata (221 bytes)\n",
            "Requirement already satisfied: absl-py in /usr/local/lib/python3.10/dist-packages (from keras->keras-tuner) (1.4.0)\n",
            "Requirement already satisfied: numpy in /usr/local/lib/python3.10/dist-packages (from keras->keras-tuner) (1.26.4)\n",
            "Requirement already satisfied: rich in /usr/local/lib/python3.10/dist-packages (from keras->keras-tuner) (13.9.2)\n",
            "Requirement already satisfied: namex in /usr/local/lib/python3.10/dist-packages (from keras->keras-tuner) (0.0.8)\n",
            "Requirement already satisfied: h5py in /usr/local/lib/python3.10/dist-packages (from keras->keras-tuner) (3.11.0)\n",
            "Requirement already satisfied: optree in /usr/local/lib/python3.10/dist-packages (from keras->keras-tuner) (0.13.0)\n",
            "Requirement already satisfied: ml-dtypes in /usr/local/lib/python3.10/dist-packages (from keras->keras-tuner) (0.4.1)\n",
            "Requirement already satisfied: charset-normalizer<4,>=2 in /usr/local/lib/python3.10/dist-packages (from requests->keras-tuner) (3.4.0)\n",
            "Requirement already satisfied: idna<4,>=2.5 in /usr/local/lib/python3.10/dist-packages (from requests->keras-tuner) (3.10)\n",
            "Requirement already satisfied: urllib3<3,>=1.21.1 in /usr/local/lib/python3.10/dist-packages (from requests->keras-tuner) (2.2.3)\n",
            "Requirement already satisfied: certifi>=2017.4.17 in /usr/local/lib/python3.10/dist-packages (from requests->keras-tuner) (2024.8.30)\n",
            "Requirement already satisfied: typing-extensions>=4.5.0 in /usr/local/lib/python3.10/dist-packages (from optree->keras->keras-tuner) (4.12.2)\n",
            "Requirement already satisfied: markdown-it-py>=2.2.0 in /usr/local/lib/python3.10/dist-packages (from rich->keras->keras-tuner) (3.0.0)\n",
            "Requirement already satisfied: pygments<3.0.0,>=2.13.0 in /usr/local/lib/python3.10/dist-packages (from rich->keras->keras-tuner) (2.18.0)\n",
            "Requirement already satisfied: mdurl~=0.1 in /usr/local/lib/python3.10/dist-packages (from markdown-it-py>=2.2.0->rich->keras->keras-tuner) (0.1.2)\n",
            "Downloading keras_tuner-1.4.7-py3-none-any.whl (129 kB)\n",
            "\u001b[2K   \u001b[90m━━━━━━━━━━━━━━━━━━━━━━━━━━━━━━━━━━━━━━━━\u001b[0m \u001b[32m129.1/129.1 kB\u001b[0m \u001b[31m2.4 MB/s\u001b[0m eta \u001b[36m0:00:00\u001b[0m\n",
            "\u001b[?25hDownloading kt_legacy-1.0.5-py3-none-any.whl (9.6 kB)\n",
            "Installing collected packages: kt-legacy, keras-tuner\n",
            "Successfully installed keras-tuner-1.4.7 kt-legacy-1.0.5\n"
          ]
        }
      ],
      "source": [
        "!pip install keras-tuner"
      ]
    },
    {
      "cell_type": "code",
      "source": [
        "from google.colab import drive\n",
        "drive.mount('/content/drive')\n",
        "\n",
        "\n",
        "import pandas as pd\n",
        "\n",
        "df_train = pd.read_csv('/content/drive/MyDrive/LSTM DATASET /train_motion_data.csv')\n",
        "df_test = pd.read_csv('/content/drive/MyDrive/LSTM DATASET /test_motion_data.csv')"
      ],
      "metadata": {
        "colab": {
          "base_uri": "https://localhost:8080/"
        },
        "id": "hAVuyMSR1Sdx",
        "outputId": "d917f424-3d11-4183-9a76-876fe0e42d8c"
      },
      "id": "hAVuyMSR1Sdx",
      "execution_count": 2,
      "outputs": [
        {
          "output_type": "stream",
          "name": "stdout",
          "text": [
            "Mounted at /content/drive\n"
          ]
        }
      ]
    },
    {
      "cell_type": "code",
      "execution_count": 3,
      "id": "cdad3262",
      "metadata": {
        "execution": {
          "iopub.execute_input": "2022-06-05T16:48:00.953624Z",
          "iopub.status.busy": "2022-06-05T16:48:00.952836Z",
          "iopub.status.idle": "2022-06-05T16:48:00.958281Z",
          "shell.execute_reply": "2022-06-05T16:48:00.957298Z"
        },
        "papermill": {
          "duration": 0.016002,
          "end_time": "2022-06-05T16:48:00.960354",
          "exception": false,
          "start_time": "2022-06-05T16:48:00.944352",
          "status": "completed"
        },
        "tags": [],
        "id": "cdad3262"
      },
      "outputs": [],
      "source": [
        "# Global constants\n",
        "TIMESTEPS = 20 # the number of sample to be fed to the NN\n",
        "FEATURES = 6\n",
        "LABELS = 3\n",
        "N_RECORDS = 11\n",
        "# CNN constantS\n",
        "N_COLUMNS = 4\n",
        "N_LENGTH = TIMESTEPS // N_COLUMNS\n",
        "N_ROWS = 1 # 1 for 1D data"
      ]
    },
    {
      "cell_type": "code",
      "execution_count": 4,
      "id": "2904c4de",
      "metadata": {
        "execution": {
          "iopub.execute_input": "2022-06-05T16:48:00.976652Z",
          "iopub.status.busy": "2022-06-05T16:48:00.976061Z",
          "iopub.status.idle": "2022-06-05T16:48:00.997911Z",
          "shell.execute_reply": "2022-06-05T16:48:00.997086Z"
        },
        "papermill": {
          "duration": 0.032652,
          "end_time": "2022-06-05T16:48:01.000140",
          "exception": false,
          "start_time": "2022-06-05T16:48:00.967488",
          "status": "completed"
        },
        "tags": [],
        "id": "2904c4de"
      },
      "outputs": [],
      "source": [
        "# Split the samples by class\n",
        "# so it can be trimmed to a desired shape\n",
        "df_train_normal = df_train.loc[df_train['Class'] == 'NORMAL']\n",
        "df_train_slow = df_train.loc[df_train['Class'] == 'SLOW']\n",
        "df_train_aggressive = df_train.loc[df_train['Class'] == 'AGGRESSIVE']\n",
        "\n",
        "df_test_normal = df_test.loc[df_test['Class'] == 'NORMAL']\n",
        "df_test_slow = df_test.loc[df_test['Class'] == 'SLOW']\n",
        "df_test_aggressive = df_test.loc[df_test['Class'] == 'AGGRESSIVE']"
      ]
    },
    {
      "cell_type": "code",
      "execution_count": 5,
      "id": "740ea289",
      "metadata": {
        "execution": {
          "iopub.execute_input": "2022-06-05T16:48:01.017090Z",
          "iopub.status.busy": "2022-06-05T16:48:01.016167Z",
          "iopub.status.idle": "2022-06-05T16:48:01.330863Z",
          "shell.execute_reply": "2022-06-05T16:48:01.329919Z"
        },
        "papermill": {
          "duration": 0.326352,
          "end_time": "2022-06-05T16:48:01.333805",
          "exception": false,
          "start_time": "2022-06-05T16:48:01.007453",
          "status": "completed"
        },
        "tags": [],
        "colab": {
          "base_uri": "https://localhost:8080/",
          "height": 472
        },
        "id": "740ea289",
        "outputId": "23961608-a3ae-453a-bf00-3d17485ed6bc"
      },
      "outputs": [
        {
          "output_type": "display_data",
          "data": {
            "text/plain": [
              "<Figure size 640x480 with 1 Axes>"
            ],
            "image/png": "[encoded data removed]"
          },
          "metadata": {}
        }
      ],
      "source": [
        "# Normal driving behavior's acceleration\n",
        "import matplotlib.pyplot as plt\n",
        "\n",
        "plt.plot(df_train_normal['Timestamp'], df_train_normal['AccX'], label='Acceleration X')\n",
        "plt.plot(df_train_normal['Timestamp'], df_train_normal['AccY'], label='Acceleration Y')\n",
        "plt.plot(df_train_normal['Timestamp'], df_train_normal['AccZ'], label='Acceleration Z')\n",
        "\n",
        "plt.title('Normal driving [Acceleration]')\n",
        "plt.xlabel('Timestamp')\n",
        "plt.legend()\n",
        "plt.show()"
      ]
    },
    {
      "cell_type": "code",
      "execution_count": null,
      "id": "3ff187ee",
      "metadata": {
        "execution": {
          "iopub.execute_input": "2022-06-05T16:48:01.353149Z",
          "iopub.status.busy": "2022-06-05T16:48:01.352428Z",
          "iopub.status.idle": "2022-06-05T16:48:01.612528Z",
          "shell.execute_reply": "2022-06-05T16:48:01.611429Z"
        },
        "papermill": {
          "duration": 0.273452,
          "end_time": "2022-06-05T16:48:01.615816",
          "exception": false,
          "start_time": "2022-06-05T16:48:01.342364",
          "status": "completed"
        },
        "tags": [],
        "id": "3ff187ee",
        "outputId": "e6324731-bc3f-475b-bd89-ea2762753bd4"
      },
      "outputs": [
        {
          "data": {
            "image/png": "[encoded data removed]",
            "text/plain": [
              "<Figure size 432x288 with 1 Axes>"
            ]
          },
          "metadata": {
            "needs_background": "light"
          },
          "output_type": "display_data"
        }
      ],
      "source": [
        "# Slow driving behavior's acceleration\n",
        "import matplotlib.pyplot as plt\n",
        "\n",
        "plt.plot(df_train_slow['Timestamp'], df_train_slow['AccX'], label='Acceleration X')\n",
        "plt.plot(df_train_slow['Timestamp'], df_train_slow['AccY'], label='Acceleration Y')\n",
        "plt.plot(df_train_slow['Timestamp'], df_train_slow['AccZ'], label='Acceleration Z')\n",
        "\n",
        "plt.title('Slow driving [Acceleration]')\n",
        "plt.xlabel('Timestamp')\n",
        "plt.legend()\n",
        "plt.show()"
      ]
    },
    {
      "cell_type": "code",
      "execution_count": null,
      "id": "5b0f2eec",
      "metadata": {
        "execution": {
          "iopub.execute_input": "2022-06-05T16:48:01.635976Z",
          "iopub.status.busy": "2022-06-05T16:48:01.635168Z",
          "iopub.status.idle": "2022-06-05T16:48:01.879809Z",
          "shell.execute_reply": "2022-06-05T16:48:01.879054Z"
        },
        "papermill": {
          "duration": 0.256952,
          "end_time": "2022-06-05T16:48:01.882042",
          "exception": false,
          "start_time": "2022-06-05T16:48:01.625090",
          "status": "completed"
        },
        "tags": [],
        "id": "5b0f2eec",
        "outputId": "cdc45d69-8da4-4ea1-8bbe-99376c0bfa38"
      },
      "outputs": [
        {
          "data": {
            "image/png": "[encoded data removed]",
            "text/plain": [
              "<Figure size 432x288 with 1 Axes>"
            ]
          },
          "metadata": {
            "needs_background": "light"
          },
          "output_type": "display_data"
        }
      ],
      "source": [
        "# Aggresive driving behavior's acceleration\n",
        "import matplotlib.pyplot as plt\n",
        "\n",
        "plt.plot(df_train_aggressive['Timestamp'], df_train_aggressive['AccX'], label='Acceleration X')\n",
        "plt.plot(df_train_aggressive['Timestamp'], df_train_aggressive['AccY'], label='Acceleration Y')\n",
        "plt.plot(df_train_aggressive['Timestamp'], df_train_aggressive['AccZ'], label='Acceleration Z')\n",
        "\n",
        "plt.title('Aggressive driving [Acceleration]')\n",
        "plt.xlabel('Timestamp')\n",
        "plt.legend()\n",
        "plt.show()"
      ]
    },
    {
      "cell_type": "code",
      "execution_count": null,
      "id": "1a7c8a4e",
      "metadata": {
        "execution": {
          "iopub.execute_input": "2022-06-05T16:48:01.903925Z",
          "iopub.status.busy": "2022-06-05T16:48:01.903323Z",
          "iopub.status.idle": "2022-06-05T16:48:02.161683Z",
          "shell.execute_reply": "2022-06-05T16:48:02.160951Z"
        },
        "papermill": {
          "duration": 0.271564,
          "end_time": "2022-06-05T16:48:02.163747",
          "exception": false,
          "start_time": "2022-06-05T16:48:01.892183",
          "status": "completed"
        },
        "tags": [],
        "id": "1a7c8a4e",
        "outputId": "0481e7d2-511d-4551-ad13-77b3121196a7"
      },
      "outputs": [
        {
          "data": {
            "image/png": "[encoded data removed]",
            "text/plain": [
              "<Figure size 432x288 with 1 Axes>"
            ]
          },
          "metadata": {
            "needs_background": "light"
          },
          "output_type": "display_data"
        }
      ],
      "source": [
        "# Normal driving behavior's gyroscope orientation\n",
        "import matplotlib.pyplot as plt\n",
        "\n",
        "plt.plot(df_train_normal['Timestamp'], df_train_normal['GyroX'], label='Gyro X')\n",
        "plt.plot(df_train_normal['Timestamp'], df_train_normal['GyroY'], label='Gyro Y')\n",
        "plt.plot(df_train_normal['Timestamp'], df_train_normal['GyroZ'], label='Gyro Z')\n",
        "\n",
        "plt.title('Normal driving [Gyroscope]')\n",
        "plt.xlabel('Timestamp')\n",
        "plt.legend()\n",
        "plt.show()"
      ]
    },
    {
      "cell_type": "code",
      "execution_count": null,
      "id": "15280167",
      "metadata": {
        "execution": {
          "iopub.execute_input": "2022-06-05T16:48:02.185783Z",
          "iopub.status.busy": "2022-06-05T16:48:02.185348Z",
          "iopub.status.idle": "2022-06-05T16:48:02.425196Z",
          "shell.execute_reply": "2022-06-05T16:48:02.424047Z"
        },
        "papermill": {
          "duration": 0.253807,
          "end_time": "2022-06-05T16:48:02.427567",
          "exception": false,
          "start_time": "2022-06-05T16:48:02.173760",
          "status": "completed"
        },
        "tags": [],
        "id": "15280167",
        "outputId": "cd6da646-f934-4a19-972d-0c9674ae1ea3"
      },
      "outputs": [
        {
          "data": {
            "image/png": "[encoded data removed]",
            "text/plain": [
              "<Figure size 432x288 with 1 Axes>"
            ]
          },
          "metadata": {
            "needs_background": "light"
          },
          "output_type": "display_data"
        }
      ],
      "source": [
        "# Slow driving behavior's gyroscope orientation\n",
        "import matplotlib.pyplot as plt\n",
        "\n",
        "plt.plot(df_train_slow['Timestamp'], df_train_slow['GyroX'], label='Gyro X')\n",
        "plt.plot(df_train_slow['Timestamp'], df_train_slow['GyroY'], label='Gyro Y')\n",
        "plt.plot(df_train_slow['Timestamp'], df_train_slow['GyroZ'], label='Gyro Z')\n",
        "\n",
        "plt.title('Slow driving [Gyroscope]')\n",
        "plt.xlabel('Timestamp')\n",
        "plt.legend()\n",
        "plt.show()"
      ]
    },
    {
      "cell_type": "code",
      "execution_count": null,
      "id": "7982786e",
      "metadata": {
        "execution": {
          "iopub.execute_input": "2022-06-05T16:48:02.451928Z",
          "iopub.status.busy": "2022-06-05T16:48:02.451468Z",
          "iopub.status.idle": "2022-06-05T16:48:02.747200Z",
          "shell.execute_reply": "2022-06-05T16:48:02.746042Z"
        },
        "papermill": {
          "duration": 0.311046,
          "end_time": "2022-06-05T16:48:02.749873",
          "exception": false,
          "start_time": "2022-06-05T16:48:02.438827",
          "status": "completed"
        },
        "tags": [],
        "id": "7982786e",
        "outputId": "22818427-d3ef-4870-c9dd-8a44c6bd1b3b"
      },
      "outputs": [
        {
          "data": {
            "image/png": "[encoded data removed]",
            "text/plain": [
              "<Figure size 432x288 with 1 Axes>"
            ]
          },
          "metadata": {
            "needs_background": "light"
          },
          "output_type": "display_data"
        }
      ],
      "source": [
        "# Agressive driving behavior's gyroscope orientation\n",
        "import matplotlib.pyplot as plt\n",
        "\n",
        "plt.plot(df_train_aggressive['Timestamp'], df_train_aggressive['GyroX'], label='Gyro X')\n",
        "plt.plot(df_train_aggressive['Timestamp'], df_train_aggressive['GyroY'], label='Gyro Y')\n",
        "plt.plot(df_train_aggressive['Timestamp'], df_train_aggressive['GyroZ'], label='Gyro Z')\n",
        "\n",
        "plt.title('Aggressive driving [Gyroscope]')\n",
        "plt.xlabel('Timestamp')\n",
        "plt.legend()\n",
        "plt.show()"
      ]
    },
    {
      "cell_type": "code",
      "execution_count": 6,
      "id": "d56647ff",
      "metadata": {
        "execution": {
          "iopub.execute_input": "2022-06-05T16:48:02.776081Z",
          "iopub.status.busy": "2022-06-05T16:48:02.775163Z",
          "iopub.status.idle": "2022-06-05T16:48:02.785386Z",
          "shell.execute_reply": "2022-06-05T16:48:02.784452Z"
        },
        "papermill": {
          "duration": 0.026221,
          "end_time": "2022-06-05T16:48:02.787931",
          "exception": false,
          "start_time": "2022-06-05T16:48:02.761710",
          "status": "completed"
        },
        "tags": [],
        "id": "d56647ff"
      },
      "outputs": [],
      "source": [
        "# As it may be noticed, there is some noice\n",
        "# at the beggin and end of every time series\n",
        "# It is caused because of the class switching\n",
        "# ---------------------------------------------\n",
        "# A solution would be to just remove the first and last N samples\n",
        "df_train_slow = df_train_slow.iloc[N_RECORDS:]\n",
        "df_train_slow = df_train_slow.iloc[:-N_RECORDS]\n",
        "\n",
        "df_test_slow = df_test_slow.iloc[N_RECORDS:]\n",
        "df_test_slow = df_test_slow.iloc[:-N_RECORDS]\n",
        "\n",
        "df_train_normal = df_train_normal.iloc[N_RECORDS:]\n",
        "df_train_normal = df_train_normal.iloc[:-N_RECORDS]\n",
        "\n",
        "df_test_normal = df_test_normal.iloc[N_RECORDS:]\n",
        "df_test_normal = df_test_normal.iloc[:-N_RECORDS]\n",
        "\n",
        "df_train_aggressive = df_train_aggressive.iloc[N_RECORDS:]\n",
        "df_train_aggressive = df_train_aggressive.iloc[:-N_RECORDS]\n",
        "\n",
        "df_test_aggressive = df_test_aggressive.iloc[N_RECORDS:]\n",
        "df_test_aggressive = df_test_aggressive.iloc[:-N_RECORDS]"
      ]
    },
    {
      "cell_type": "code",
      "execution_count": 7,
      "id": "d84492e3",
      "metadata": {
        "execution": {
          "iopub.execute_input": "2022-06-05T16:48:02.813200Z",
          "iopub.status.busy": "2022-06-05T16:48:02.812134Z",
          "iopub.status.idle": "2022-06-05T16:48:02.820713Z",
          "shell.execute_reply": "2022-06-05T16:48:02.819774Z"
        },
        "papermill": {
          "duration": 0.023182,
          "end_time": "2022-06-05T16:48:02.822801",
          "exception": false,
          "start_time": "2022-06-05T16:48:02.799619",
          "status": "completed"
        },
        "tags": [],
        "colab": {
          "base_uri": "https://localhost:8080/"
        },
        "id": "d84492e3",
        "outputId": "05bba250-183a-4cd9-8d90-4eedb29faeb2"
      },
      "outputs": [
        {
          "output_type": "stream",
          "name": "stdout",
          "text": [
            "---Train---\n",
            "Slow samples: 1309\n",
            "Normal samples: 1178\n",
            "Aggressive samples: 1091\n"
          ]
        }
      ],
      "source": [
        "# Check train data per label\n",
        "train_slow_samples = df_train_slow.__len__()\n",
        "train_normal_samples = df_train_normal.__len__()\n",
        "train_aggressive_samples = df_train_aggressive.__len__()\n",
        "\n",
        "print('---Train---')\n",
        "print('Slow samples: ' + str(train_slow_samples))\n",
        "print('Normal samples: ' + str(train_normal_samples))\n",
        "print('Aggressive samples: ' + str(train_aggressive_samples))\n",
        "\n",
        "df_train_slow = df_train_slow.tail(1300)\n",
        "df_train_normal = df_train_normal.tail(1160)\n",
        "df_train_aggressive = df_train_aggressive.tail(1080)"
      ]
    },
    {
      "cell_type": "code",
      "execution_count": 8,
      "id": "460e4ddb",
      "metadata": {
        "execution": {
          "iopub.execute_input": "2022-06-05T16:48:02.847864Z",
          "iopub.status.busy": "2022-06-05T16:48:02.847006Z",
          "iopub.status.idle": "2022-06-05T16:48:02.854657Z",
          "shell.execute_reply": "2022-06-05T16:48:02.853741Z"
        },
        "papermill": {
          "duration": 0.022447,
          "end_time": "2022-06-05T16:48:02.856798",
          "exception": false,
          "start_time": "2022-06-05T16:48:02.834351",
          "status": "completed"
        },
        "tags": [],
        "colab": {
          "base_uri": "https://localhost:8080/"
        },
        "id": "460e4ddb",
        "outputId": "e63dd0af-b08f-4864-d889-5066d0dd7dfc"
      },
      "outputs": [
        {
          "output_type": "stream",
          "name": "stdout",
          "text": [
            "---Test---\n",
            "Slow samples: 1251\n",
            "Normal samples: 975\n",
            "Aggressive samples: 792\n"
          ]
        }
      ],
      "source": [
        "# Check test data per label\n",
        "test_slow_samples = df_test_slow.__len__()\n",
        "test_normal_samples = df_test_normal.__len__()\n",
        "test_aggressive_samples = df_test_aggressive.__len__()\n",
        "\n",
        "print('---Test---')\n",
        "print('Slow samples: ' + str(test_slow_samples))\n",
        "print('Normal samples: ' + str(test_normal_samples))\n",
        "print('Aggressive samples: ' + str(test_aggressive_samples))\n",
        "\n",
        "df_test_slow = df_test_slow.tail(1240)\n",
        "df_test_normal = df_test_normal.tail(960)\n",
        "df_test_aggressive = df_test_aggressive.tail(780)"
      ]
    },
    {
      "cell_type": "code",
      "execution_count": 9,
      "id": "95467d08",
      "metadata": {
        "execution": {
          "iopub.execute_input": "2022-06-05T16:48:02.882024Z",
          "iopub.status.busy": "2022-06-05T16:48:02.881577Z",
          "iopub.status.idle": "2022-06-05T16:48:02.891892Z",
          "shell.execute_reply": "2022-06-05T16:48:02.890758Z"
        },
        "papermill": {
          "duration": 0.025261,
          "end_time": "2022-06-05T16:48:02.893822",
          "exception": false,
          "start_time": "2022-06-05T16:48:02.868561",
          "status": "completed"
        },
        "tags": [],
        "id": "95467d08"
      },
      "outputs": [],
      "source": [
        "# Separating features from labels\n",
        "\n",
        "# Features\n",
        "X_train_normal = df_train_normal.iloc[: , :FEATURES]\n",
        "X_train_slow = df_train_slow.iloc[: , :FEATURES]\n",
        "X_train_aggressive = df_train_aggressive.iloc[: , :FEATURES]\n",
        "\n",
        "X_test_normal = df_test_normal.iloc[: , :FEATURES]\n",
        "X_test_slow = df_test_slow.iloc[: , :FEATURES]\n",
        "X_test_aggressive = df_test_aggressive.iloc[: , :FEATURES]\n",
        "\n",
        "# Labels\n",
        "y_train_normal = df_train_normal.Class\n",
        "y_train_slow = df_train_slow.Class\n",
        "y_train_aggressive = df_train_aggressive.Class\n",
        "\n",
        "y_test_normal = df_test_normal.Class\n",
        "y_test_slow = df_test_slow.Class\n",
        "y_test_aggressive = df_test_aggressive.Class"
      ]
    },
    {
      "cell_type": "code",
      "execution_count": 10,
      "id": "b518241e",
      "metadata": {
        "execution": {
          "iopub.execute_input": "2022-06-05T16:48:02.919162Z",
          "iopub.status.busy": "2022-06-05T16:48:02.918529Z",
          "iopub.status.idle": "2022-06-05T16:48:02.926351Z",
          "shell.execute_reply": "2022-06-05T16:48:02.925301Z"
        },
        "papermill": {
          "duration": 0.023128,
          "end_time": "2022-06-05T16:48:02.928548",
          "exception": false,
          "start_time": "2022-06-05T16:48:02.905420",
          "status": "completed"
        },
        "tags": [],
        "id": "b518241e"
      },
      "outputs": [],
      "source": [
        "# Combine all the samples intro a train dataset\n",
        "X_train = pd.concat([X_train_slow, X_train_normal, X_train_aggressive])\n",
        "y_train = pd.concat([y_train_slow, y_train_normal, y_train_aggressive])\n",
        "\n",
        "X_test = pd.concat([X_test_slow, X_test_normal, X_test_aggressive])\n",
        "y_test = pd.concat([y_test_slow, y_test_normal, y_test_aggressive])"
      ]
    },
    {
      "cell_type": "code",
      "execution_count": 11,
      "id": "368983fb",
      "metadata": {
        "execution": {
          "iopub.execute_input": "2022-06-05T16:48:02.955139Z",
          "iopub.status.busy": "2022-06-05T16:48:02.954687Z",
          "iopub.status.idle": "2022-06-05T16:48:03.868795Z",
          "shell.execute_reply": "2022-06-05T16:48:03.867782Z"
        },
        "papermill": {
          "duration": 0.930466,
          "end_time": "2022-06-05T16:48:03.871274",
          "exception": false,
          "start_time": "2022-06-05T16:48:02.940808",
          "status": "completed"
        },
        "tags": [],
        "id": "368983fb"
      },
      "outputs": [],
      "source": [
        "# As ML/DL algorithms are working with numbers\n",
        "# the labels should be mapped to numbers\n",
        "from sklearn.preprocessing import LabelEncoder\n",
        "\n",
        "labelEncoder = LabelEncoder()\n",
        "y_train = labelEncoder.fit_transform(y_train)\n",
        "y_test = labelEncoder.transform(y_test)"
      ]
    },
    {
      "cell_type": "code",
      "execution_count": 12,
      "id": "a1f140f7",
      "metadata": {
        "execution": {
          "iopub.execute_input": "2022-06-05T16:48:03.896486Z",
          "iopub.status.busy": "2022-06-05T16:48:03.896078Z",
          "iopub.status.idle": "2022-06-05T16:48:10.353511Z",
          "shell.execute_reply": "2022-06-05T16:48:10.352339Z"
        },
        "papermill": {
          "duration": 6.473205,
          "end_time": "2022-06-05T16:48:10.356332",
          "exception": false,
          "start_time": "2022-06-05T16:48:03.883127",
          "status": "completed"
        },
        "tags": [],
        "id": "a1f140f7"
      },
      "outputs": [],
      "source": [
        "# Because I'm using CategoricalCrossentropy loss function\n",
        "# I have to convert my labels to one-hot encoded vectors\n",
        "from tensorflow.keras.utils import to_categorical\n",
        "\n",
        "y_train = to_categorical(y_train, num_classes=LABELS)\n",
        "y_test = to_categorical(y_test, num_classes=LABELS)"
      ]
    },
    {
      "cell_type": "code",
      "execution_count": 13,
      "id": "8c91625e",
      "metadata": {
        "execution": {
          "iopub.execute_input": "2022-06-05T16:48:10.382077Z",
          "iopub.status.busy": "2022-06-05T16:48:10.381334Z",
          "iopub.status.idle": "2022-06-05T16:48:10.393641Z",
          "shell.execute_reply": "2022-06-05T16:48:10.392605Z"
        },
        "papermill": {
          "duration": 0.027934,
          "end_time": "2022-06-05T16:48:10.396109",
          "exception": false,
          "start_time": "2022-06-05T16:48:10.368175",
          "status": "completed"
        },
        "tags": [],
        "id": "8c91625e"
      },
      "outputs": [],
      "source": [
        "# As the dataset contains variables that are different in scale,\n",
        "# a good solution will be to standardize it\n",
        "from sklearn.preprocessing import StandardScaler\n",
        "\n",
        "scaler = StandardScaler(with_mean=True, with_std=True)\n",
        "X_train = scaler.fit_transform(X_train)\n",
        "X_test = scaler.transform(X_test)"
      ]
    },
    {
      "cell_type": "code",
      "execution_count": 14,
      "id": "84fc2fa3",
      "metadata": {
        "execution": {
          "iopub.execute_input": "2022-06-05T16:48:10.422407Z",
          "iopub.status.busy": "2022-06-05T16:48:10.422012Z",
          "iopub.status.idle": "2022-06-05T16:48:10.428730Z",
          "shell.execute_reply": "2022-06-05T16:48:10.427923Z"
        },
        "papermill": {
          "duration": 0.022015,
          "end_time": "2022-06-05T16:48:10.430638",
          "exception": false,
          "start_time": "2022-06-05T16:48:10.408623",
          "status": "completed"
        },
        "tags": [],
        "colab": {
          "base_uri": "https://localhost:8080/"
        },
        "id": "84fc2fa3",
        "outputId": "5b0c4dea-67aa-42e7-859c-9f9f74e6fa68"
      },
      "outputs": [
        {
          "output_type": "stream",
          "name": "stdout",
          "text": [
            "Train features shape: 177\n",
            "Test features shape: 149\n"
          ]
        }
      ],
      "source": [
        "# Reshaping the input for the Conv-LSTM network (Features)\n",
        "train_samples = X_train.shape[0]//TIMESTEPS\n",
        "X_train = X_train.reshape(train_samples, N_COLUMNS, N_ROWS, N_LENGTH, FEATURES)\n",
        "\n",
        "test_samples = X_test.shape[0]//TIMESTEPS\n",
        "X_test = X_test.reshape(test_samples, N_COLUMNS, N_ROWS, N_LENGTH, FEATURES)\n",
        "\n",
        "print('Train features shape: ' + str(X_train.shape[0]))\n",
        "print('Test features shape: ' + str(X_test.shape[0]))"
      ]
    },
    {
      "cell_type": "code",
      "execution_count": 15,
      "id": "10462b98",
      "metadata": {
        "execution": {
          "iopub.execute_input": "2022-06-05T16:48:10.456258Z",
          "iopub.status.busy": "2022-06-05T16:48:10.455829Z",
          "iopub.status.idle": "2022-06-05T16:48:10.461183Z",
          "shell.execute_reply": "2022-06-05T16:48:10.460539Z"
        },
        "papermill": {
          "duration": 0.020333,
          "end_time": "2022-06-05T16:48:10.462917",
          "exception": false,
          "start_time": "2022-06-05T16:48:10.442584",
          "status": "completed"
        },
        "tags": [],
        "colab": {
          "base_uri": "https://localhost:8080/"
        },
        "id": "10462b98",
        "outputId": "45504876-4a3b-4999-c8af-e25d322ae6ac"
      },
      "outputs": [
        {
          "output_type": "stream",
          "name": "stdout",
          "text": [
            "Train labels shape: 177\n",
            "Test labels shape: 149\n"
          ]
        }
      ],
      "source": [
        "y_train = y_train[::TIMESTEPS]\n",
        "y_test = y_test[::TIMESTEPS]\n",
        "\n",
        "print('Train labels shape: ' + str(y_train.shape[0]))\n",
        "print('Test labels shape: ' + str(y_test.shape[0]))"
      ]
    },
    {
      "cell_type": "code",
      "execution_count": 16,
      "id": "44e3d042",
      "metadata": {
        "execution": {
          "iopub.execute_input": "2022-06-05T16:48:10.488939Z",
          "iopub.status.busy": "2022-06-05T16:48:10.488258Z",
          "iopub.status.idle": "2022-06-05T16:48:10.690361Z",
          "shell.execute_reply": "2022-06-05T16:48:10.688973Z"
        },
        "papermill": {
          "duration": 0.21891,
          "end_time": "2022-06-05T16:48:10.693642",
          "exception": false,
          "start_time": "2022-06-05T16:48:10.474732",
          "status": "completed"
        },
        "tags": [],
        "id": "44e3d042"
      },
      "outputs": [],
      "source": [
        "import tensorflow as tf\n",
        "from tensorflow import keras, lite\n",
        "from tensorflow.keras.layers import Dense, Dropout, Flatten, ConvLSTM2D, LSTM, RepeatVector\n",
        "import keras_tuner as kt\n",
        "\n",
        "# Set a global random seed for a better random result\n",
        "tf.random.set_seed(42)\n",
        "\n",
        "# Build the model by assigning\n",
        "# the number of layers and number of neurons for each layer\n",
        "# the learning rate\n",
        "# the number of epochs\n",
        "# ------------------------------------------------------------------------\n",
        "# To get these optimal parameters I will use the Keras Tuner library\n",
        "# so it will get the optimal parameters for the NN\n",
        "# and pass it to the model_builder function\n",
        "def model_builder(hp):\n",
        "    model = tf.keras.Sequential()\n",
        "\n",
        "    model.add(\n",
        "        ConvLSTM2D(\n",
        "            filters=hp.Int('filter_units', min_value=16, max_value=64, step=16),\n",
        "            kernel_size=(1,3),\n",
        "            activation='relu',\n",
        "            input_shape=(N_COLUMNS, N_ROWS, N_LENGTH, FEATURES)\n",
        "            )\n",
        "        )\n",
        "\n",
        "    model.add(Dropout(hp.Float('dropout_0_rate', min_value=0, max_value=0.5, step=0.1)))\n",
        "\n",
        "    model.add(Flatten())\n",
        "\n",
        "    model.add(Dense(hp.Int('dense_units', min_value=32, max_value=512, step=32), activation='relu'))\n",
        "\n",
        "    model.add(Dense(LABELS, activation='softmax'))\n",
        "\n",
        "\n",
        "    # Tune the learning rate for the optimizer\n",
        "    # Choose an optimal value from 0.1, 0.01, 0.001, or 0.0001\n",
        "    hp_learning_rate = hp.Choice('learning_rate', values=[1e-1, 1e-2, 1e-3, 1e-4])\n",
        "\n",
        "    model.compile(\n",
        "        loss=tf.keras.losses.CategoricalCrossentropy(),\n",
        "        optimizer=tf.keras.optimizers.Adam(learning_rate=hp_learning_rate),\n",
        "        metrics=[\n",
        "            tf.keras.metrics.CategoricalAccuracy(name='accuracy'),\n",
        "            tf.keras.metrics.Precision(name='precision'),\n",
        "            tf.keras.metrics.Recall(name='recall')\n",
        "        ]\n",
        "    )\n",
        "\n",
        "    return model"
      ]
    },
    {
      "cell_type": "code",
      "execution_count": 17,
      "id": "d6a386ac",
      "metadata": {
        "execution": {
          "iopub.execute_input": "2022-06-05T16:48:10.726323Z",
          "iopub.status.busy": "2022-06-05T16:48:10.725317Z",
          "iopub.status.idle": "2022-06-05T16:48:11.038614Z",
          "shell.execute_reply": "2022-06-05T16:48:11.037663Z"
        },
        "papermill": {
          "duration": 0.331381,
          "end_time": "2022-06-05T16:48:11.041127",
          "exception": false,
          "start_time": "2022-06-05T16:48:10.709746",
          "status": "completed"
        },
        "tags": [],
        "colab": {
          "base_uri": "https://localhost:8080/"
        },
        "id": "d6a386ac",
        "outputId": "162e02f8-fc42-4d3d-ea97-eff6421775f9"
      },
      "outputs": [
        {
          "output_type": "stream",
          "name": "stderr",
          "text": [
            "/usr/local/lib/python3.10/dist-packages/keras/src/layers/rnn/rnn.py:204: UserWarning: Do not pass an `input_shape`/`input_dim` argument to a layer. When using Sequential models, prefer using an `Input(shape)` object as the first layer in the model instead.\n",
            "  super().__init__(**kwargs)\n"
          ]
        }
      ],
      "source": [
        "# To be able to get the optimal parameters for our network\n",
        "# we have to create a Tuner with the following setup\n",
        "# 'objective' -> will use to create test models\n",
        "# 'max_epochs' -> the maximum number of epochs to train one model\n",
        "# 'factor' -> the reduction factor for the number of epochs and number of models for each bracket\n",
        "# 'directory' -> will save the training history there\n",
        "tuner = kt.Hyperband(model_builder,\n",
        "                     objective='val_accuracy',\n",
        "                     max_epochs=50,\n",
        "                     factor=3,\n",
        "                     directory='conv_lstm_dir',\n",
        "                     project_name='driving_behavior')"
      ]
    },
    {
      "cell_type": "code",
      "execution_count": 18,
      "id": "e588e147",
      "metadata": {
        "execution": {
          "iopub.execute_input": "2022-06-05T16:48:11.069225Z",
          "iopub.status.busy": "2022-06-05T16:48:11.068121Z",
          "iopub.status.idle": "2022-06-05T16:48:11.073086Z",
          "shell.execute_reply": "2022-06-05T16:48:11.072368Z"
        },
        "papermill": {
          "duration": 0.021148,
          "end_time": "2022-06-05T16:48:11.075070",
          "exception": false,
          "start_time": "2022-06-05T16:48:11.053922",
          "status": "completed"
        },
        "tags": [],
        "id": "e588e147"
      },
      "outputs": [],
      "source": [
        "# Define an event that will stop the training\n",
        "# depending of the value of \"val_loss\"\n",
        "# ------------------------------------------------------------------\n",
        "# Will stop training if the \"val_loss\" hasn't improved in 5 epochs.\n",
        "stop_early = tf.keras.callbacks.EarlyStopping(monitor='val_loss', patience=5)"
      ]
    },
    {
      "cell_type": "code",
      "execution_count": 19,
      "id": "631a0994",
      "metadata": {
        "execution": {
          "iopub.execute_input": "2022-06-05T16:48:11.103160Z",
          "iopub.status.busy": "2022-06-05T16:48:11.102457Z",
          "iopub.status.idle": "2022-06-05T16:57:58.883521Z",
          "shell.execute_reply": "2022-06-05T16:57:58.882263Z"
        },
        "papermill": {
          "duration": 587.797711,
          "end_time": "2022-06-05T16:57:58.885589",
          "exception": false,
          "start_time": "2022-06-05T16:48:11.087878",
          "status": "completed"
        },
        "tags": [],
        "colab": {
          "base_uri": "https://localhost:8080/"
        },
        "id": "631a0994",
        "outputId": "fb02262e-5f4b-4f36-9310-842ab9833f8f"
      },
      "outputs": [
        {
          "output_type": "stream",
          "name": "stdout",
          "text": [
            "Trial 90 Complete [00h 00m 17s]\n",
            "val_accuracy: 0.42953020334243774\n",
            "\n",
            "Best val_accuracy So Far: 0.6174496412277222\n",
            "Total elapsed time: 00h 22m 33s\n"
          ]
        }
      ],
      "source": [
        "# The algorithm trains a large number of models for a few epochs and\n",
        "# carries forward only the top-performing half of models to the next round.\n",
        "tuner.search(\n",
        "        x=X_train,\n",
        "        y=y_train,\n",
        "        epochs=50,\n",
        "        validation_data=(X_test, y_test),\n",
        "        callbacks=[stop_early],\n",
        "        shuffle=True\n",
        ")"
      ]
    },
    {
      "cell_type": "code",
      "execution_count": 20,
      "id": "b5629837",
      "metadata": {
        "execution": {
          "iopub.execute_input": "2022-06-05T16:57:58.913313Z",
          "iopub.status.busy": "2022-06-05T16:57:58.912840Z",
          "iopub.status.idle": "2022-06-05T16:57:59.375064Z",
          "shell.execute_reply": "2022-06-05T16:57:59.374075Z"
        },
        "papermill": {
          "duration": 0.47935,
          "end_time": "2022-06-05T16:57:59.378086",
          "exception": false,
          "start_time": "2022-06-05T16:57:58.898736",
          "status": "completed"
        },
        "tags": [],
        "id": "b5629837"
      },
      "outputs": [],
      "source": [
        "# Get best hyperparameters that were found during the search\n",
        "best_model = tuner.get_best_models()[0]"
      ]
    },
    {
      "cell_type": "code",
      "execution_count": 21,
      "id": "96d2f598",
      "metadata": {
        "execution": {
          "iopub.execute_input": "2022-06-05T16:57:59.405299Z",
          "iopub.status.busy": "2022-06-05T16:57:59.404875Z",
          "iopub.status.idle": "2022-06-05T16:58:00.127192Z",
          "shell.execute_reply": "2022-06-05T16:58:00.126121Z"
        },
        "papermill": {
          "duration": 0.73952,
          "end_time": "2022-06-05T16:58:00.130217",
          "exception": false,
          "start_time": "2022-06-05T16:57:59.390697",
          "status": "completed"
        },
        "tags": [],
        "colab": {
          "base_uri": "https://localhost:8080/"
        },
        "id": "96d2f598",
        "outputId": "faab6cf0-6c27-4317-fb2c-dd7f321316dc"
      },
      "outputs": [
        {
          "output_type": "stream",
          "name": "stdout",
          "text": [
            "\u001b[1m5/5\u001b[0m \u001b[32m━━━━━━━━━━━━━━━━━━━━\u001b[0m\u001b[37m\u001b[0m \u001b[1m2s\u001b[0m 175ms/step - accuracy: 0.6303 - loss: 1.3402 - precision: 0.6295 - recall: 0.5674\n"
          ]
        }
      ],
      "source": [
        "# Get the metrics for our trained model\n",
        "eval_result = best_model.evaluate(X_test, y_test)"
      ]
    },
    {
      "cell_type": "code",
      "execution_count": 22,
      "id": "a3affa57",
      "metadata": {
        "execution": {
          "iopub.execute_input": "2022-06-05T16:58:00.158460Z",
          "iopub.status.busy": "2022-06-05T16:58:00.158064Z",
          "iopub.status.idle": "2022-06-05T16:58:00.561145Z",
          "shell.execute_reply": "2022-06-05T16:58:00.560049Z"
        },
        "papermill": {
          "duration": 0.420705,
          "end_time": "2022-06-05T16:58:00.563711",
          "exception": false,
          "start_time": "2022-06-05T16:58:00.143006",
          "status": "completed"
        },
        "tags": [],
        "colab": {
          "base_uri": "https://localhost:8080/"
        },
        "id": "a3affa57",
        "outputId": "415b54fb-5093-4a76-ad80-4505d87b3cf0"
      },
      "outputs": [
        {
          "output_type": "stream",
          "name": "stdout",
          "text": [
            "\u001b[1m5/5\u001b[0m \u001b[32m━━━━━━━━━━━━━━━━━━━━\u001b[0m\u001b[37m\u001b[0m \u001b[1m1s\u001b[0m 145ms/step\n"
          ]
        }
      ],
      "source": [
        "# Get the predictions\n",
        "y_pred=best_model.predict(x=X_test)"
      ]
    },
    {
      "cell_type": "code",
      "execution_count": 23,
      "id": "579fb2d9",
      "metadata": {
        "execution": {
          "iopub.execute_input": "2022-06-05T16:58:00.593424Z",
          "iopub.status.busy": "2022-06-05T16:58:00.592307Z",
          "iopub.status.idle": "2022-06-05T16:58:00.613071Z",
          "shell.execute_reply": "2022-06-05T16:58:00.612058Z"
        },
        "papermill": {
          "duration": 0.038043,
          "end_time": "2022-06-05T16:58:00.615240",
          "exception": false,
          "start_time": "2022-06-05T16:58:00.577197",
          "status": "completed"
        },
        "tags": [],
        "colab": {
          "base_uri": "https://localhost:8080/",
          "height": 423
        },
        "id": "579fb2d9",
        "outputId": "8eb5a5c7-d43d-4929-a741-cdb9e8bd9b64"
      },
      "outputs": [
        {
          "output_type": "execute_result",
          "data": {
            "text/plain": [
              "     AGGRESSIVE        NORMAL          SLOW\n",
              "0      0.362871  1.779520e-01  4.591773e-01\n",
              "1      0.261230  1.135965e-01  6.251737e-01\n",
              "2      0.053498  4.557076e-01  4.907946e-01\n",
              "3      0.004654  2.437978e-02  9.709666e-01\n",
              "4      0.082939  5.076320e-01  4.094286e-01\n",
              "..          ...           ...           ...\n",
              "144    0.855915  9.426541e-03  1.346582e-01\n",
              "145    1.000000  3.000932e-11  1.875635e-10\n",
              "146    0.999722  6.422343e-05  2.136763e-04\n",
              "147    0.049344  7.739972e-02  8.732563e-01\n",
              "148    0.000028  9.877659e-01  1.220595e-02\n",
              "\n",
              "[149 rows x 3 columns]"
            ],
            "text/html": [
              "\n",
              "  <div id=\"df-1066aff8-08fa-42ff-a773-8dadba432144\" class=\"colab-df-container\">\n",
              "    <div>\n",
              "<style scoped>\n",
              "    .dataframe tbody tr th:only-of-type {\n",
              "        vertical-align: middle;\n",
              "    }\n",
              "\n",
              "    .dataframe tbody tr th {\n",
              "        vertical-align: top;\n",
              "    }\n",
              "\n",
              "    .dataframe thead th {\n",
              "        text-align: right;\n",
              "    }\n",
              "</style>\n",
              "<table border=\"1\" class=\"dataframe\">\n",
              "  <thead>\n",
              "    <tr style=\"text-align: right;\">\n",
              "      <th></th>\n",
              "      <th>AGGRESSIVE</th>\n",
              "      <th>NORMAL</th>\n",
              "      <th>SLOW</th>\n",
              "    </tr>\n",
              "  </thead>\n",
              "  <tbody>\n",
              "    <tr>\n",
              "      <th>0</th>\n",
              "      <td>0.362871</td>\n",
              "      <td>1.779520e-01</td>\n",
              "      <td>4.591773e-01</td>\n",
              "    </tr>\n",
              "    <tr>\n",
              "      <th>1</th>\n",
              "      <td>0.261230</td>\n",
              "      <td>1.135965e-01</td>\n",
              "      <td>6.251737e-01</td>\n",
              "    </tr>\n",
              "    <tr>\n",
              "      <th>2</th>\n",
              "      <td>0.053498</td>\n",
              "      <td>4.557076e-01</td>\n",
              "      <td>4.907946e-01</td>\n",
              "    </tr>\n",
              "    <tr>\n",
              "      <th>3</th>\n",
              "      <td>0.004654</td>\n",
              "      <td>2.437978e-02</td>\n",
              "      <td>9.709666e-01</td>\n",
              "    </tr>\n",
              "    <tr>\n",
              "      <th>4</th>\n",
              "      <td>0.082939</td>\n",
              "      <td>5.076320e-01</td>\n",
              "      <td>4.094286e-01</td>\n",
              "    </tr>\n",
              "    <tr>\n",
              "      <th>...</th>\n",
              "      <td>...</td>\n",
              "      <td>...</td>\n",
              "      <td>...</td>\n",
              "    </tr>\n",
              "    <tr>\n",
              "      <th>144</th>\n",
              "      <td>0.855915</td>\n",
              "      <td>9.426541e-03</td>\n",
              "      <td>1.346582e-01</td>\n",
              "    </tr>\n",
              "    <tr>\n",
              "      <th>145</th>\n",
              "      <td>1.000000</td>\n",
              "      <td>3.000932e-11</td>\n",
              "      <td>1.875635e-10</td>\n",
              "    </tr>\n",
              "    <tr>\n",
              "      <th>146</th>\n",
              "      <td>0.999722</td>\n",
              "      <td>6.422343e-05</td>\n",
              "      <td>2.136763e-04</td>\n",
              "    </tr>\n",
              "    <tr>\n",
              "      <th>147</th>\n",
              "      <td>0.049344</td>\n",
              "      <td>7.739972e-02</td>\n",
              "      <td>8.732563e-01</td>\n",
              "    </tr>\n",
              "    <tr>\n",
              "      <th>148</th>\n",
              "      <td>0.000028</td>\n",
              "      <td>9.877659e-01</td>\n",
              "      <td>1.220595e-02</td>\n",
              "    </tr>\n",
              "  </tbody>\n",
              "</table>\n",
              "<p>149 rows × 3 columns</p>\n",
              "</div>\n",
              "    <div class=\"colab-df-buttons\">\n",
              "\n",
              "  <div class=\"colab-df-container\">\n",
              "    <button class=\"colab-df-convert\" onclick=\"convertToInteractive('df-1066aff8-08fa-42ff-a773-8dadba432144')\"\n",
              "            title=\"Convert this dataframe to an interactive table.\"\n",
              "            style=\"display:none;\">\n",
              "\n",
              "  <svg xmlns=\"http://www.w3.org/2000/svg\" height=\"24px\" viewBox=\"0 -960 960 960\">\n",
              "    <path d=\"M120-120v-720h720v720H120Zm60-500h600v-160H180v160Zm220 220h160v-160H400v160Zm0 220h160v-160H400v160ZM180-400h160v-160H180v160Zm440 0h160v-160H620v160ZM180-180h160v-160H180v160Zm440 0h160v-160H620v160Z\"/>\n",
              "  </svg>\n",
              "    </button>\n",
              "\n",
              "  <style>\n",
              "    .colab-df-container {\n",
              "      display:flex;\n",
              "      gap: 12px;\n",
              "    }\n",
              "\n",
              "    .colab-df-convert {\n",
              "      background-color: #E8F0FE;\n",
              "      border: none;\n",
              "      border-radius: 50%;\n",
              "      cursor: pointer;\n",
              "      display: none;\n",
              "      fill: #1967D2;\n",
              "      height: 32px;\n",
              "      padding: 0 0 0 0;\n",
              "      width: 32px;\n",
              "    }\n",
              "\n",
              "    .colab-df-convert:hover {\n",
              "      background-color: #E2EBFA;\n",
              "      box-shadow: 0px 1px 2px rgba(60, 64, 67, 0.3), 0px 1px 3px 1px rgba(60, 64, 67, 0.15);\n",
              "      fill: #174EA6;\n",
              "    }\n",
              "\n",
              "    .colab-df-buttons div {\n",
              "      margin-bottom: 4px;\n",
              "    }\n",
              "\n",
              "    [theme=dark] .colab-df-convert {\n",
              "      background-color: #3B4455;\n",
              "      fill: #D2E3FC;\n",
              "    }\n",
              "\n",
              "    [theme=dark] .colab-df-convert:hover {\n",
              "      background-color: #434B5C;\n",
              "      box-shadow: 0px 1px 3px 1px rgba(0, 0, 0, 0.15);\n",
              "      filter: drop-shadow(0px 1px 2px rgba(0, 0, 0, 0.3));\n",
              "      fill: #FFFFFF;\n",
              "    }\n",
              "  </style>\n",
              "\n",
              "    <script>\n",
              "      const buttonEl =\n",
              "        document.querySelector('#df-1066aff8-08fa-42ff-a773-8dadba432144 button.colab-df-convert');\n",
              "      buttonEl.style.display =\n",
              "        google.colab.kernel.accessAllowed ? 'block' : 'none';\n",
              "\n",
              "      async function convertToInteractive(key) {\n",
              "        const element = document.querySelector('#df-1066aff8-08fa-42ff-a773-8dadba432144');\n",
              "        const dataTable =\n",
              "          await google.colab.kernel.invokeFunction('convertToInteractive',\n",
              "                                                    [key], {});\n",
              "        if (!dataTable) return;\n",
              "\n",
              "        const docLinkHtml = 'Like what you see? Visit the ' +\n",
              "          '<a target=\"_blank\" href=https://colab.research.google.com/notebooks/data_table.ipynb>data table notebook</a>'\n",
              "          + ' to learn more about interactive tables.';\n",
              "        element.innerHTML = '';\n",
              "        dataTable['output_type'] = 'display_data';\n",
              "        await google.colab.output.renderOutput(dataTable, element);\n",
              "        const docLink = document.createElement('div');\n",
              "        docLink.innerHTML = docLinkHtml;\n",
              "        element.appendChild(docLink);\n",
              "      }\n",
              "    </script>\n",
              "  </div>\n",
              "\n",
              "\n",
              "<div id=\"df-9d55f9e1-05b3-4f48-b29a-4eb2d9274430\">\n",
              "  <button class=\"colab-df-quickchart\" onclick=\"quickchart('df-9d55f9e1-05b3-4f48-b29a-4eb2d9274430')\"\n",
              "            title=\"Suggest charts\"\n",
              "            style=\"display:none;\">\n",
              "\n",
              "<svg xmlns=\"http://www.w3.org/2000/svg\" height=\"24px\"viewBox=\"0 0 24 24\"\n",
              "     width=\"24px\">\n",
              "    <g>\n",
              "        <path d=\"M19 3H5c-1.1 0-2 .9-2 2v14c0 1.1.9 2 2 2h14c1.1 0 2-.9 2-2V5c0-1.1-.9-2-2-2zM9 17H7v-7h2v7zm4 0h-2V7h2v10zm4 0h-2v-4h2v4z\"/>\n",
              "    </g>\n",
              "</svg>\n",
              "  </button>\n",
              "\n",
              "<style>\n",
              "  .colab-df-quickchart {\n",
              "      --bg-color: #E8F0FE;\n",
              "      --fill-color: #1967D2;\n",
              "      --hover-bg-color: #E2EBFA;\n",
              "      --hover-fill-color: #174EA6;\n",
              "      --disabled-fill-color: #AAA;\n",
              "      --disabled-bg-color: #DDD;\n",
              "  }\n",
              "\n",
              "  [theme=dark] .colab-df-quickchart {\n",
              "      --bg-color: #3B4455;\n",
              "      --fill-color: #D2E3FC;\n",
              "      --hover-bg-color: #434B5C;\n",
              "      --hover-fill-color: #FFFFFF;\n",
              "      --disabled-bg-color: #3B4455;\n",
              "      --disabled-fill-color: #666;\n",
              "  }\n",
              "\n",
              "  .colab-df-quickchart {\n",
              "    background-color: var(--bg-color);\n",
              "    border: none;\n",
              "    border-radius: 50%;\n",
              "    cursor: pointer;\n",
              "    display: none;\n",
              "    fill: var(--fill-color);\n",
              "    height: 32px;\n",
              "    padding: 0;\n",
              "    width: 32px;\n",
              "  }\n",
              "\n",
              "  .colab-df-quickchart:hover {\n",
              "    background-color: var(--hover-bg-color);\n",
              "    box-shadow: 0 1px 2px rgba(60, 64, 67, 0.3), 0 1px 3px 1px rgba(60, 64, 67, 0.15);\n",
              "    fill: var(--button-hover-fill-color);\n",
              "  }\n",
              "\n",
              "  .colab-df-quickchart-complete:disabled,\n",
              "  .colab-df-quickchart-complete:disabled:hover {\n",
              "    background-color: var(--disabled-bg-color);\n",
              "    fill: var(--disabled-fill-color);\n",
              "    box-shadow: none;\n",
              "  }\n",
              "\n",
              "  .colab-df-spinner {\n",
              "    border: 2px solid var(--fill-color);\n",
              "    border-color: transparent;\n",
              "    border-bottom-color: var(--fill-color);\n",
              "    animation:\n",
              "      spin 1s steps(1) infinite;\n",
              "  }\n",
              "\n",
              "  @keyframes spin {\n",
              "    0% {\n",
              "      border-color: transparent;\n",
              "      border-bottom-color: var(--fill-color);\n",
              "      border-left-color: var(--fill-color);\n",
              "    }\n",
              "    20% {\n",
              "      border-color: transparent;\n",
              "      border-left-color: var(--fill-color);\n",
              "      border-top-color: var(--fill-color);\n",
              "    }\n",
              "    30% {\n",
              "      border-color: transparent;\n",
              "      border-left-color: var(--fill-color);\n",
              "      border-top-color: var(--fill-color);\n",
              "      border-right-color: var(--fill-color);\n",
              "    }\n",
              "    40% {\n",
              "      border-color: transparent;\n",
              "      border-right-color: var(--fill-color);\n",
              "      border-top-color: var(--fill-color);\n",
              "    }\n",
              "    60% {\n",
              "      border-color: transparent;\n",
              "      border-right-color: var(--fill-color);\n",
              "    }\n",
              "    80% {\n",
              "      border-color: transparent;\n",
              "      border-right-color: var(--fill-color);\n",
              "      border-bottom-color: var(--fill-color);\n",
              "    }\n",
              "    90% {\n",
              "      border-color: transparent;\n",
              "      border-bottom-color: var(--fill-color);\n",
              "    }\n",
              "  }\n",
              "</style>\n",
              "\n",
              "  <script>\n",
              "    async function quickchart(key) {\n",
              "      const quickchartButtonEl =\n",
              "        document.querySelector('#' + key + ' button');\n",
              "      quickchartButtonEl.disabled = true;  // To prevent multiple clicks.\n",
              "      quickchartButtonEl.classList.add('colab-df-spinner');\n",
              "      try {\n",
              "        const charts = await google.colab.kernel.invokeFunction(\n",
              "            'suggestCharts', [key], {});\n",
              "      } catch (error) {\n",
              "        console.error('Error during call to suggestCharts:', error);\n",
              "      }\n",
              "      quickchartButtonEl.classList.remove('colab-df-spinner');\n",
              "      quickchartButtonEl.classList.add('colab-df-quickchart-complete');\n",
              "    }\n",
              "    (() => {\n",
              "      let quickchartButtonEl =\n",
              "        document.querySelector('#df-9d55f9e1-05b3-4f48-b29a-4eb2d9274430 button');\n",
              "      quickchartButtonEl.style.display =\n",
              "        google.colab.kernel.accessAllowed ? 'block' : 'none';\n",
              "    })();\n",
              "  </script>\n",
              "</div>\n",
              "\n",
              "  <div id=\"id_a5274f31-687a-4b1b-a671-0edea60900a7\">\n",
              "    <style>\n",
              "      .colab-df-generate {\n",
              "        background-color: #E8F0FE;\n",
              "        border: none;\n",
              "        border-radius: 50%;\n",
              "        cursor: pointer;\n",
              "        display: none;\n",
              "        fill: #1967D2;\n",
              "        height: 32px;\n",
              "        padding: 0 0 0 0;\n",
              "        width: 32px;\n",
              "      }\n",
              "\n",
              "      .colab-df-generate:hover {\n",
              "        background-color: #E2EBFA;\n",
              "        box-shadow: 0px 1px 2px rgba(60, 64, 67, 0.3), 0px 1px 3px 1px rgba(60, 64, 67, 0.15);\n",
              "        fill: #174EA6;\n",
              "      }\n",
              "\n",
              "      [theme=dark] .colab-df-generate {\n",
              "        background-color: #3B4455;\n",
              "        fill: #D2E3FC;\n",
              "      }\n",
              "\n",
              "      [theme=dark] .colab-df-generate:hover {\n",
              "        background-color: #434B5C;\n",
              "        box-shadow: 0px 1px 3px 1px rgba(0, 0, 0, 0.15);\n",
              "        filter: drop-shadow(0px 1px 2px rgba(0, 0, 0, 0.3));\n",
              "        fill: #FFFFFF;\n",
              "      }\n",
              "    </style>\n",
              "    <button class=\"colab-df-generate\" onclick=\"generateWithVariable('df_predicted')\"\n",
              "            title=\"Generate code using this dataframe.\"\n",
              "            style=\"display:none;\">\n",
              "\n",
              "  <svg xmlns=\"http://www.w3.org/2000/svg\" height=\"24px\"viewBox=\"0 0 24 24\"\n",
              "       width=\"24px\">\n",
              "    <path d=\"M7,19H8.4L18.45,9,17,7.55,7,17.6ZM5,21V16.75L18.45,3.32a2,2,0,0,1,2.83,0l1.4,1.43a1.91,1.91,0,0,1,.58,1.4,1.91,1.91,0,0,1-.58,1.4L9.25,21ZM18.45,9,17,7.55Zm-12,3A5.31,5.31,0,0,0,4.9,8.1,5.31,5.31,0,0,0,1,6.5,5.31,5.31,0,0,0,4.9,4.9,5.31,5.31,0,0,0,6.5,1,5.31,5.31,0,0,0,8.1,4.9,5.31,5.31,0,0,0,12,6.5,5.46,5.46,0,0,0,6.5,12Z\"/>\n",
              "  </svg>\n",
              "    </button>\n",
              "    <script>\n",
              "      (() => {\n",
              "      const buttonEl =\n",
              "        document.querySelector('#id_a5274f31-687a-4b1b-a671-0edea60900a7 button.colab-df-generate');\n",
              "      buttonEl.style.display =\n",
              "        google.colab.kernel.accessAllowed ? 'block' : 'none';\n",
              "\n",
              "      buttonEl.onclick = () => {\n",
              "        google.colab.notebook.generateWithVariable('df_predicted');\n",
              "      }\n",
              "      })();\n",
              "    </script>\n",
              "  </div>\n",
              "\n",
              "    </div>\n",
              "  </div>\n"
            ],
            "application/vnd.google.colaboratory.intrinsic+json": {
              "type": "dataframe",
              "variable_name": "df_predicted",
              "summary": "{\n  \"name\": \"df_predicted\",\n  \"rows\": 149,\n  \"fields\": [\n    {\n      \"column\": \"AGGRESSIVE\",\n      \"properties\": {\n        \"dtype\": \"float32\",\n        \"num_unique_values\": 144,\n        \"samples\": [\n          0.7340530157089233,\n          0.12942151725292206,\n          0.0012094143312424421\n        ],\n        \"semantic_type\": \"\",\n        \"description\": \"\"\n      }\n    },\n    {\n      \"column\": \"NORMAL\",\n      \"properties\": {\n        \"dtype\": \"float32\",\n        \"num_unique_values\": 149,\n        \"samples\": [\n          2.275666884088423e-05,\n          0.02116427756845951,\n          0.25684499740600586\n        ],\n        \"semantic_type\": \"\",\n        \"description\": \"\"\n      }\n    },\n    {\n      \"column\": \"SLOW\",\n      \"properties\": {\n        \"dtype\": \"float32\",\n        \"num_unique_values\": 149,\n        \"samples\": [\n          0.000315182056510821,\n          0.11936697363853455,\n          0.00910197850316763\n        ],\n        \"semantic_type\": \"\",\n        \"description\": \"\"\n      }\n    }\n  ]\n}"
            }
          },
          "metadata": {},
          "execution_count": 23
        }
      ],
      "source": [
        "# Transform the predicted scores array to a pretty Dataframe ^^\n",
        "df_predicted = pd.DataFrame(y_pred, columns=['AGGRESSIVE', 'NORMAL', 'SLOW'])\n",
        "df_predicted"
      ]
    },
    {
      "cell_type": "code",
      "execution_count": 25,
      "id": "d2e2790c",
      "metadata": {
        "execution": {
          "iopub.execute_input": "2022-06-05T16:58:00.644466Z",
          "iopub.status.busy": "2022-06-05T16:58:00.644053Z",
          "iopub.status.idle": "2022-06-05T16:58:00.657886Z",
          "shell.execute_reply": "2022-06-05T16:58:00.657035Z"
        },
        "papermill": {
          "duration": 0.031658,
          "end_time": "2022-06-05T16:58:00.660119",
          "exception": false,
          "start_time": "2022-06-05T16:58:00.628461",
          "status": "completed"
        },
        "tags": [],
        "colab": {
          "base_uri": "https://localhost:8080/",
          "height": 423
        },
        "id": "d2e2790c",
        "outputId": "ea8921cf-3c16-4b18-9be1-ef2211e75e5d"
      },
      "outputs": [
        {
          "output_type": "execute_result",
          "data": {
            "text/plain": [
              "    Original Class\n",
              "0             SLOW\n",
              "1             SLOW\n",
              "2             SLOW\n",
              "3             SLOW\n",
              "4             SLOW\n",
              "..             ...\n",
              "144     AGGRESSIVE\n",
              "145     AGGRESSIVE\n",
              "146     AGGRESSIVE\n",
              "147     AGGRESSIVE\n",
              "148     AGGRESSIVE\n",
              "\n",
              "[149 rows x 1 columns]"
            ],
            "text/html": [
              "\n",
              "  <div id=\"df-3977ed92-c6dd-40cd-81fe-c6e2bc171dea\" class=\"colab-df-container\">\n",
              "    <div>\n",
              "<style scoped>\n",
              "    .dataframe tbody tr th:only-of-type {\n",
              "        vertical-align: middle;\n",
              "    }\n",
              "\n",
              "    .dataframe tbody tr th {\n",
              "        vertical-align: top;\n",
              "    }\n",
              "\n",
              "    .dataframe thead th {\n",
              "        text-align: right;\n",
              "    }\n",
              "</style>\n",
              "<table border=\"1\" class=\"dataframe\">\n",
              "  <thead>\n",
              "    <tr style=\"text-align: right;\">\n",
              "      <th></th>\n",
              "      <th>Original Class</th>\n",
              "    </tr>\n",
              "  </thead>\n",
              "  <tbody>\n",
              "    <tr>\n",
              "      <th>0</th>\n",
              "      <td>SLOW</td>\n",
              "    </tr>\n",
              "    <tr>\n",
              "      <th>1</th>\n",
              "      <td>SLOW</td>\n",
              "    </tr>\n",
              "    <tr>\n",
              "      <th>2</th>\n",
              "      <td>SLOW</td>\n",
              "    </tr>\n",
              "    <tr>\n",
              "      <th>3</th>\n",
              "      <td>SLOW</td>\n",
              "    </tr>\n",
              "    <tr>\n",
              "      <th>4</th>\n",
              "      <td>SLOW</td>\n",
              "    </tr>\n",
              "    <tr>\n",
              "      <th>...</th>\n",
              "      <td>...</td>\n",
              "    </tr>\n",
              "    <tr>\n",
              "      <th>144</th>\n",
              "      <td>AGGRESSIVE</td>\n",
              "    </tr>\n",
              "    <tr>\n",
              "      <th>145</th>\n",
              "      <td>AGGRESSIVE</td>\n",
              "    </tr>\n",
              "    <tr>\n",
              "      <th>146</th>\n",
              "      <td>AGGRESSIVE</td>\n",
              "    </tr>\n",
              "    <tr>\n",
              "      <th>147</th>\n",
              "      <td>AGGRESSIVE</td>\n",
              "    </tr>\n",
              "    <tr>\n",
              "      <th>148</th>\n",
              "      <td>AGGRESSIVE</td>\n",
              "    </tr>\n",
              "  </tbody>\n",
              "</table>\n",
              "<p>149 rows × 1 columns</p>\n",
              "</div>\n",
              "    <div class=\"colab-df-buttons\">\n",
              "\n",
              "  <div class=\"colab-df-container\">\n",
              "    <button class=\"colab-df-convert\" onclick=\"convertToInteractive('df-3977ed92-c6dd-40cd-81fe-c6e2bc171dea')\"\n",
              "            title=\"Convert this dataframe to an interactive table.\"\n",
              "            style=\"display:none;\">\n",
              "\n",
              "  <svg xmlns=\"http://www.w3.org/2000/svg\" height=\"24px\" viewBox=\"0 -960 960 960\">\n",
              "    <path d=\"M120-120v-720h720v720H120Zm60-500h600v-160H180v160Zm220 220h160v-160H400v160Zm0 220h160v-160H400v160ZM180-400h160v-160H180v160Zm440 0h160v-160H620v160ZM180-180h160v-160H180v160Zm440 0h160v-160H620v160Z\"/>\n",
              "  </svg>\n",
              "    </button>\n",
              "\n",
              "  <style>\n",
              "    .colab-df-container {\n",
              "      display:flex;\n",
              "      gap: 12px;\n",
              "    }\n",
              "\n",
              "    .colab-df-convert {\n",
              "      background-color: #E8F0FE;\n",
              "      border: none;\n",
              "      border-radius: 50%;\n",
              "      cursor: pointer;\n",
              "      display: none;\n",
              "      fill: #1967D2;\n",
              "      height: 32px;\n",
              "      padding: 0 0 0 0;\n",
              "      width: 32px;\n",
              "    }\n",
              "\n",
              "    .colab-df-convert:hover {\n",
              "      background-color: #E2EBFA;\n",
              "      box-shadow: 0px 1px 2px rgba(60, 64, 67, 0.3), 0px 1px 3px 1px rgba(60, 64, 67, 0.15);\n",
              "      fill: #174EA6;\n",
              "    }\n",
              "\n",
              "    .colab-df-buttons div {\n",
              "      margin-bottom: 4px;\n",
              "    }\n",
              "\n",
              "    [theme=dark] .colab-df-convert {\n",
              "      background-color: #3B4455;\n",
              "      fill: #D2E3FC;\n",
              "    }\n",
              "\n",
              "    [theme=dark] .colab-df-convert:hover {\n",
              "      background-color: #434B5C;\n",
              "      box-shadow: 0px 1px 3px 1px rgba(0, 0, 0, 0.15);\n",
              "      filter: drop-shadow(0px 1px 2px rgba(0, 0, 0, 0.3));\n",
              "      fill: #FFFFFF;\n",
              "    }\n",
              "  </style>\n",
              "\n",
              "    <script>\n",
              "      const buttonEl =\n",
              "        document.querySelector('#df-3977ed92-c6dd-40cd-81fe-c6e2bc171dea button.colab-df-convert');\n",
              "      buttonEl.style.display =\n",
              "        google.colab.kernel.accessAllowed ? 'block' : 'none';\n",
              "\n",
              "      async function convertToInteractive(key) {\n",
              "        const element = document.querySelector('#df-3977ed92-c6dd-40cd-81fe-c6e2bc171dea');\n",
              "        const dataTable =\n",
              "          await google.colab.kernel.invokeFunction('convertToInteractive',\n",
              "                                                    [key], {});\n",
              "        if (!dataTable) return;\n",
              "\n",
              "        const docLinkHtml = 'Like what you see? Visit the ' +\n",
              "          '<a target=\"_blank\" href=https://colab.research.google.com/notebooks/data_table.ipynb>data table notebook</a>'\n",
              "          + ' to learn more about interactive tables.';\n",
              "        element.innerHTML = '';\n",
              "        dataTable['output_type'] = 'display_data';\n",
              "        await google.colab.output.renderOutput(dataTable, element);\n",
              "        const docLink = document.createElement('div');\n",
              "        docLink.innerHTML = docLinkHtml;\n",
              "        element.appendChild(docLink);\n",
              "      }\n",
              "    </script>\n",
              "  </div>\n",
              "\n",
              "\n",
              "<div id=\"df-7c6eb3f4-afa0-42b6-87a8-72be3f0d9bb6\">\n",
              "  <button class=\"colab-df-quickchart\" onclick=\"quickchart('df-7c6eb3f4-afa0-42b6-87a8-72be3f0d9bb6')\"\n",
              "            title=\"Suggest charts\"\n",
              "            style=\"display:none;\">\n",
              "\n",
              "<svg xmlns=\"http://www.w3.org/2000/svg\" height=\"24px\"viewBox=\"0 0 24 24\"\n",
              "     width=\"24px\">\n",
              "    <g>\n",
              "        <path d=\"M19 3H5c-1.1 0-2 .9-2 2v14c0 1.1.9 2 2 2h14c1.1 0 2-.9 2-2V5c0-1.1-.9-2-2-2zM9 17H7v-7h2v7zm4 0h-2V7h2v10zm4 0h-2v-4h2v4z\"/>\n",
              "    </g>\n",
              "</svg>\n",
              "  </button>\n",
              "\n",
              "<style>\n",
              "  .colab-df-quickchart {\n",
              "      --bg-color: #E8F0FE;\n",
              "      --fill-color: #1967D2;\n",
              "      --hover-bg-color: #E2EBFA;\n",
              "      --hover-fill-color: #174EA6;\n",
              "      --disabled-fill-color: #AAA;\n",
              "      --disabled-bg-color: #DDD;\n",
              "  }\n",
              "\n",
              "  [theme=dark] .colab-df-quickchart {\n",
              "      --bg-color: #3B4455;\n",
              "      --fill-color: #D2E3FC;\n",
              "      --hover-bg-color: #434B5C;\n",
              "      --hover-fill-color: #FFFFFF;\n",
              "      --disabled-bg-color: #3B4455;\n",
              "      --disabled-fill-color: #666;\n",
              "  }\n",
              "\n",
              "  .colab-df-quickchart {\n",
              "    background-color: var(--bg-color);\n",
              "    border: none;\n",
              "    border-radius: 50%;\n",
              "    cursor: pointer;\n",
              "    display: none;\n",
              "    fill: var(--fill-color);\n",
              "    height: 32px;\n",
              "    padding: 0;\n",
              "    width: 32px;\n",
              "  }\n",
              "\n",
              "  .colab-df-quickchart:hover {\n",
              "    background-color: var(--hover-bg-color);\n",
              "    box-shadow: 0 1px 2px rgba(60, 64, 67, 0.3), 0 1px 3px 1px rgba(60, 64, 67, 0.15);\n",
              "    fill: var(--button-hover-fill-color);\n",
              "  }\n",
              "\n",
              "  .colab-df-quickchart-complete:disabled,\n",
              "  .colab-df-quickchart-complete:disabled:hover {\n",
              "    background-color: var(--disabled-bg-color);\n",
              "    fill: var(--disabled-fill-color);\n",
              "    box-shadow: none;\n",
              "  }\n",
              "\n",
              "  .colab-df-spinner {\n",
              "    border: 2px solid var(--fill-color);\n",
              "    border-color: transparent;\n",
              "    border-bottom-color: var(--fill-color);\n",
              "    animation:\n",
              "      spin 1s steps(1) infinite;\n",
              "  }\n",
              "\n",
              "  @keyframes spin {\n",
              "    0% {\n",
              "      border-color: transparent;\n",
              "      border-bottom-color: var(--fill-color);\n",
              "      border-left-color: var(--fill-color);\n",
              "    }\n",
              "    20% {\n",
              "      border-color: transparent;\n",
              "      border-left-color: var(--fill-color);\n",
              "      border-top-color: var(--fill-color);\n",
              "    }\n",
              "    30% {\n",
              "      border-color: transparent;\n",
              "      border-left-color: var(--fill-color);\n",
              "      border-top-color: var(--fill-color);\n",
              "      border-right-color: var(--fill-color);\n",
              "    }\n",
              "    40% {\n",
              "      border-color: transparent;\n",
              "      border-right-color: var(--fill-color);\n",
              "      border-top-color: var(--fill-color);\n",
              "    }\n",
              "    60% {\n",
              "      border-color: transparent;\n",
              "      border-right-color: var(--fill-color);\n",
              "    }\n",
              "    80% {\n",
              "      border-color: transparent;\n",
              "      border-right-color: var(--fill-color);\n",
              "      border-bottom-color: var(--fill-color);\n",
              "    }\n",
              "    90% {\n",
              "      border-color: transparent;\n",
              "      border-bottom-color: var(--fill-color);\n",
              "    }\n",
              "  }\n",
              "</style>\n",
              "\n",
              "  <script>\n",
              "    async function quickchart(key) {\n",
              "      const quickchartButtonEl =\n",
              "        document.querySelector('#' + key + ' button');\n",
              "      quickchartButtonEl.disabled = true;  // To prevent multiple clicks.\n",
              "      quickchartButtonEl.classList.add('colab-df-spinner');\n",
              "      try {\n",
              "        const charts = await google.colab.kernel.invokeFunction(\n",
              "            'suggestCharts', [key], {});\n",
              "      } catch (error) {\n",
              "        console.error('Error during call to suggestCharts:', error);\n",
              "      }\n",
              "      quickchartButtonEl.classList.remove('colab-df-spinner');\n",
              "      quickchartButtonEl.classList.add('colab-df-quickchart-complete');\n",
              "    }\n",
              "    (() => {\n",
              "      let quickchartButtonEl =\n",
              "        document.querySelector('#df-7c6eb3f4-afa0-42b6-87a8-72be3f0d9bb6 button');\n",
              "      quickchartButtonEl.style.display =\n",
              "        google.colab.kernel.accessAllowed ? 'block' : 'none';\n",
              "    })();\n",
              "  </script>\n",
              "</div>\n",
              "\n",
              "  <div id=\"id_0e878738-351f-4306-8d3b-50d036f7a5db\">\n",
              "    <style>\n",
              "      .colab-df-generate {\n",
              "        background-color: #E8F0FE;\n",
              "        border: none;\n",
              "        border-radius: 50%;\n",
              "        cursor: pointer;\n",
              "        display: none;\n",
              "        fill: #1967D2;\n",
              "        height: 32px;\n",
              "        padding: 0 0 0 0;\n",
              "        width: 32px;\n",
              "      }\n",
              "\n",
              "      .colab-df-generate:hover {\n",
              "        background-color: #E2EBFA;\n",
              "        box-shadow: 0px 1px 2px rgba(60, 64, 67, 0.3), 0px 1px 3px 1px rgba(60, 64, 67, 0.15);\n",
              "        fill: #174EA6;\n",
              "      }\n",
              "\n",
              "      [theme=dark] .colab-df-generate {\n",
              "        background-color: #3B4455;\n",
              "        fill: #D2E3FC;\n",
              "      }\n",
              "\n",
              "      [theme=dark] .colab-df-generate:hover {\n",
              "        background-color: #434B5C;\n",
              "        box-shadow: 0px 1px 3px 1px rgba(0, 0, 0, 0.15);\n",
              "        filter: drop-shadow(0px 1px 2px rgba(0, 0, 0, 0.3));\n",
              "        fill: #FFFFFF;\n",
              "      }\n",
              "    </style>\n",
              "    <button class=\"colab-df-generate\" onclick=\"generateWithVariable('df_actual')\"\n",
              "            title=\"Generate code using this dataframe.\"\n",
              "            style=\"display:none;\">\n",
              "\n",
              "  <svg xmlns=\"http://www.w3.org/2000/svg\" height=\"24px\"viewBox=\"0 0 24 24\"\n",
              "       width=\"24px\">\n",
              "    <path d=\"M7,19H8.4L18.45,9,17,7.55,7,17.6ZM5,21V16.75L18.45,3.32a2,2,0,0,1,2.83,0l1.4,1.43a1.91,1.91,0,0,1,.58,1.4,1.91,1.91,0,0,1-.58,1.4L9.25,21ZM18.45,9,17,7.55Zm-12,3A5.31,5.31,0,0,0,4.9,8.1,5.31,5.31,0,0,0,1,6.5,5.31,5.31,0,0,0,4.9,4.9,5.31,5.31,0,0,0,6.5,1,5.31,5.31,0,0,0,8.1,4.9,5.31,5.31,0,0,0,12,6.5,5.46,5.46,0,0,0,6.5,12Z\"/>\n",
              "  </svg>\n",
              "    </button>\n",
              "    <script>\n",
              "      (() => {\n",
              "      const buttonEl =\n",
              "        document.querySelector('#id_0e878738-351f-4306-8d3b-50d036f7a5db button.colab-df-generate');\n",
              "      buttonEl.style.display =\n",
              "        google.colab.kernel.accessAllowed ? 'block' : 'none';\n",
              "\n",
              "      buttonEl.onclick = () => {\n",
              "        google.colab.notebook.generateWithVariable('df_actual');\n",
              "      }\n",
              "      })();\n",
              "    </script>\n",
              "  </div>\n",
              "\n",
              "    </div>\n",
              "  </div>\n"
            ],
            "application/vnd.google.colaboratory.intrinsic+json": {
              "type": "dataframe",
              "variable_name": "df_actual",
              "summary": "{\n  \"name\": \"df_actual\",\n  \"rows\": 149,\n  \"fields\": [\n    {\n      \"column\": \"Original Class\",\n      \"properties\": {\n        \"dtype\": \"category\",\n        \"num_unique_values\": 3,\n        \"samples\": [\n          \"SLOW\",\n          \"NORMAL\",\n          \"AGGRESSIVE\"\n        ],\n        \"semantic_type\": \"\",\n        \"description\": \"\"\n      }\n    }\n  ]\n}"
            }
          },
          "metadata": {},
          "execution_count": 25
        }
      ],
      "source": [
        "import numpy as np\n",
        "# Reverse the one hot encoded vector\n",
        "actual_y_test = np.argmax(y_test, axis=1)\n",
        "array_actual = labelEncoder.inverse_transform(actual_y_test)\n",
        "\n",
        "# Transform the given class array to a Dataframe\n",
        "df_actual = pd.DataFrame(array_actual, columns = ['Original Class'])\n",
        "df_actual"
      ]
    },
    {
      "cell_type": "code",
      "execution_count": null,
      "id": "a7484477",
      "metadata": {
        "execution": {
          "iopub.execute_input": "2022-06-05T16:58:00.689768Z",
          "iopub.status.busy": "2022-06-05T16:58:00.689113Z",
          "iopub.status.idle": "2022-06-05T16:58:00.704408Z",
          "shell.execute_reply": "2022-06-05T16:58:00.703463Z"
        },
        "papermill": {
          "duration": 0.032324,
          "end_time": "2022-06-05T16:58:00.706668",
          "exception": false,
          "start_time": "2022-06-05T16:58:00.674344",
          "status": "completed"
        },
        "tags": [],
        "id": "a7484477",
        "outputId": "9f566e97-90b4-40fb-dc4e-f6f9a25226e5"
      },
      "outputs": [
        {
          "data": {
            "text/html": [
              "<div>\n",
              "<style scoped>\n",
              "    .dataframe tbody tr th:only-of-type {\n",
              "        vertical-align: middle;\n",
              "    }\n",
              "\n",
              "    .dataframe tbody tr th {\n",
              "        vertical-align: top;\n",
              "    }\n",
              "\n",
              "    .dataframe thead th {\n",
              "        text-align: right;\n",
              "    }\n",
              "</style>\n",
              "<table border=\"1\" class=\"dataframe\">\n",
              "  <thead>\n",
              "    <tr style=\"text-align: right;\">\n",
              "      <th></th>\n",
              "      <th>AGGRESSIVE</th>\n",
              "      <th>NORMAL</th>\n",
              "      <th>SLOW</th>\n",
              "      <th>Original Class</th>\n",
              "    </tr>\n",
              "  </thead>\n",
              "  <tbody>\n",
              "    <tr>\n",
              "      <th>0</th>\n",
              "      <td>0.067655</td>\n",
              "      <td>2.382777e-01</td>\n",
              "      <td>6.940671e-01</td>\n",
              "      <td>SLOW</td>\n",
              "    </tr>\n",
              "    <tr>\n",
              "      <th>1</th>\n",
              "      <td>0.046501</td>\n",
              "      <td>9.863400e-02</td>\n",
              "      <td>8.548654e-01</td>\n",
              "      <td>SLOW</td>\n",
              "    </tr>\n",
              "    <tr>\n",
              "      <th>2</th>\n",
              "      <td>0.053364</td>\n",
              "      <td>4.041389e-01</td>\n",
              "      <td>5.424969e-01</td>\n",
              "      <td>SLOW</td>\n",
              "    </tr>\n",
              "    <tr>\n",
              "      <th>3</th>\n",
              "      <td>0.015636</td>\n",
              "      <td>4.318659e-01</td>\n",
              "      <td>5.524978e-01</td>\n",
              "      <td>SLOW</td>\n",
              "    </tr>\n",
              "    <tr>\n",
              "      <th>4</th>\n",
              "      <td>0.010266</td>\n",
              "      <td>7.460076e-01</td>\n",
              "      <td>2.437264e-01</td>\n",
              "      <td>SLOW</td>\n",
              "    </tr>\n",
              "    <tr>\n",
              "      <th>...</th>\n",
              "      <td>...</td>\n",
              "      <td>...</td>\n",
              "      <td>...</td>\n",
              "      <td>...</td>\n",
              "    </tr>\n",
              "    <tr>\n",
              "      <th>144</th>\n",
              "      <td>0.440835</td>\n",
              "      <td>3.372770e-02</td>\n",
              "      <td>5.254372e-01</td>\n",
              "      <td>AGGRESSIVE</td>\n",
              "    </tr>\n",
              "    <tr>\n",
              "      <th>145</th>\n",
              "      <td>1.000000</td>\n",
              "      <td>8.133322e-09</td>\n",
              "      <td>7.134010e-09</td>\n",
              "      <td>AGGRESSIVE</td>\n",
              "    </tr>\n",
              "    <tr>\n",
              "      <th>146</th>\n",
              "      <td>0.945292</td>\n",
              "      <td>1.046726e-02</td>\n",
              "      <td>4.424083e-02</td>\n",
              "      <td>AGGRESSIVE</td>\n",
              "    </tr>\n",
              "    <tr>\n",
              "      <th>147</th>\n",
              "      <td>0.088048</td>\n",
              "      <td>3.975578e-02</td>\n",
              "      <td>8.721958e-01</td>\n",
              "      <td>AGGRESSIVE</td>\n",
              "    </tr>\n",
              "    <tr>\n",
              "      <th>148</th>\n",
              "      <td>0.001340</td>\n",
              "      <td>9.736245e-01</td>\n",
              "      <td>2.503536e-02</td>\n",
              "      <td>AGGRESSIVE</td>\n",
              "    </tr>\n",
              "  </tbody>\n",
              "</table>\n",
              "<p>149 rows × 4 columns</p>\n",
              "</div>"
            ],
            "text/plain": [
              "     AGGRESSIVE        NORMAL          SLOW Original Class\n",
              "0      0.067655  2.382777e-01  6.940671e-01           SLOW\n",
              "1      0.046501  9.863400e-02  8.548654e-01           SLOW\n",
              "2      0.053364  4.041389e-01  5.424969e-01           SLOW\n",
              "3      0.015636  4.318659e-01  5.524978e-01           SLOW\n",
              "4      0.010266  7.460076e-01  2.437264e-01           SLOW\n",
              "..          ...           ...           ...            ...\n",
              "144    0.440835  3.372770e-02  5.254372e-01     AGGRESSIVE\n",
              "145    1.000000  8.133322e-09  7.134010e-09     AGGRESSIVE\n",
              "146    0.945292  1.046726e-02  4.424083e-02     AGGRESSIVE\n",
              "147    0.088048  3.975578e-02  8.721958e-01     AGGRESSIVE\n",
              "148    0.001340  9.736245e-01  2.503536e-02     AGGRESSIVE\n",
              "\n",
              "[149 rows x 4 columns]"
            ]
          },
          "execution_count": 29,
          "metadata": {},
          "output_type": "execute_result"
        }
      ],
      "source": [
        "# Combine the actual and resulted classes\n",
        "df_result = pd.concat([df_predicted, df_actual], axis=1)\n",
        "df_result"
      ]
    },
    {
      "cell_type": "code",
      "execution_count": 26,
      "id": "2148271f",
      "metadata": {
        "execution": {
          "iopub.execute_input": "2022-06-05T16:58:00.737334Z",
          "iopub.status.busy": "2022-06-05T16:58:00.736621Z",
          "iopub.status.idle": "2022-06-05T16:58:00.915776Z",
          "shell.execute_reply": "2022-06-05T16:58:00.915047Z"
        },
        "papermill": {
          "duration": 0.196986,
          "end_time": "2022-06-05T16:58:00.918108",
          "exception": false,
          "start_time": "2022-06-05T16:58:00.721122",
          "status": "completed"
        },
        "tags": [],
        "colab": {
          "base_uri": "https://localhost:8080/",
          "height": 449
        },
        "id": "2148271f",
        "outputId": "3d9548f6-964b-498c-d532-facb54cda032"
      },
      "outputs": [
        {
          "output_type": "display_data",
          "data": {
            "text/plain": [
              "<Figure size 640x480 with 2 Axes>"
            ],
            "image/png": "[encoded data removed]"
          },
          "metadata": {}
        }
      ],
      "source": [
        "from sklearn.metrics import confusion_matrix, ConfusionMatrixDisplay\n",
        "\n",
        "y_pred = np.argmax(y_pred, axis=1)\n",
        "cm = confusion_matrix(actual_y_test, y_pred)\n",
        "\n",
        "classes = ['AGGRESSIVE', 'NORMAL', 'SLOW']\n",
        "disp = ConfusionMatrixDisplay.from_predictions(actual_y_test, y_pred, display_labels=classes)\n",
        "\n",
        "plt.rcParams['figure.figsize'] = [20, 10]\n",
        "plt.show()\n"
      ]
    },
    {
      "cell_type": "code",
      "source": [
        "best_model.summary()"
      ],
      "metadata": {
        "colab": {
          "base_uri": "https://localhost:8080/",
          "height": 289
        },
        "id": "VrEyGA758S9z",
        "outputId": "23346ba9-47eb-4d5a-f761-afb44bdc0f5a"
      },
      "id": "VrEyGA758S9z",
      "execution_count": 27,
      "outputs": [
        {
          "output_type": "display_data",
          "data": {
            "text/plain": [
              "\u001b[1mModel: \"sequential\"\u001b[0m\n"
            ],
            "text/html": [
              "<pre style=\"white-space:pre;overflow-x:auto;line-height:normal;font-family:Menlo,'DejaVu Sans Mono',consolas,'Courier New',monospace\"><span style=\"font-weight: bold\">Model: \"sequential\"</span>\n",
              "</pre>\n"
            ]
          },
          "metadata": {}
        },
        {
          "output_type": "display_data",
          "data": {
            "text/plain": [
              "┏━━━━━━━━━━━━━━━━━━━━━━━━━━━━━━━━━━━━━━┳━━━━━━━━━━━━━━━━━━━━━━━━━━━━━┳━━━━━━━━━━━━━━━━━┓\n",
              "┃\u001b[1m \u001b[0m\u001b[1mLayer (type)                        \u001b[0m\u001b[1m \u001b[0m┃\u001b[1m \u001b[0m\u001b[1mOutput Shape               \u001b[0m\u001b[1m \u001b[0m┃\u001b[1m \u001b[0m\u001b[1m        Param #\u001b[0m\u001b[1m \u001b[0m┃\n",
              "┡━━━━━━━━━━━━━━━━━━━━━━━━━━━━━━━━━━━━━━╇━━━━━━━━━━━━━━━━━━━━━━━━━━━━━╇━━━━━━━━━━━━━━━━━┩\n",
              "│ conv_lstm2d (\u001b[38;5;33mConvLSTM2D\u001b[0m)             │ (\u001b[38;5;45mNone\u001b[0m, \u001b[38;5;34m1\u001b[0m, \u001b[38;5;34m3\u001b[0m, \u001b[38;5;34m48\u001b[0m)            │          \u001b[38;5;34m31,296\u001b[0m │\n",
              "├──────────────────────────────────────┼─────────────────────────────┼─────────────────┤\n",
              "│ dropout (\u001b[38;5;33mDropout\u001b[0m)                    │ (\u001b[38;5;45mNone\u001b[0m, \u001b[38;5;34m1\u001b[0m, \u001b[38;5;34m3\u001b[0m, \u001b[38;5;34m48\u001b[0m)            │               \u001b[38;5;34m0\u001b[0m │\n",
              "├──────────────────────────────────────┼─────────────────────────────┼─────────────────┤\n",
              "│ flatten (\u001b[38;5;33mFlatten\u001b[0m)                    │ (\u001b[38;5;45mNone\u001b[0m, \u001b[38;5;34m144\u001b[0m)                 │               \u001b[38;5;34m0\u001b[0m │\n",
              "├──────────────────────────────────────┼─────────────────────────────┼─────────────────┤\n",
              "│ dense (\u001b[38;5;33mDense\u001b[0m)                        │ (\u001b[38;5;45mNone\u001b[0m, \u001b[38;5;34m288\u001b[0m)                 │          \u001b[38;5;34m41,760\u001b[0m │\n",
              "├──────────────────────────────────────┼─────────────────────────────┼─────────────────┤\n",
              "│ dense_1 (\u001b[38;5;33mDense\u001b[0m)                      │ (\u001b[38;5;45mNone\u001b[0m, \u001b[38;5;34m3\u001b[0m)                   │             \u001b[38;5;34m867\u001b[0m │\n",
              "└──────────────────────────────────────┴─────────────────────────────┴─────────────────┘\n"
            ],
            "text/html": [
              "<pre style=\"white-space:pre;overflow-x:auto;line-height:normal;font-family:Menlo,'DejaVu Sans Mono',consolas,'Courier New',monospace\">┏━━━━━━━━━━━━━━━━━━━━━━━━━━━━━━━━━━━━━━┳━━━━━━━━━━━━━━━━━━━━━━━━━━━━━┳━━━━━━━━━━━━━━━━━┓\n",
              "┃<span style=\"font-weight: bold\"> Layer (type)                         </span>┃<span style=\"font-weight: bold\"> Output Shape                </span>┃<span style=\"font-weight: bold\">         Param # </span>┃\n",
              "┡━━━━━━━━━━━━━━━━━━━━━━━━━━━━━━━━━━━━━━╇━━━━━━━━━━━━━━━━━━━━━━━━━━━━━╇━━━━━━━━━━━━━━━━━┩\n",
              "│ conv_lstm2d (<span style=\"color: #0087ff; text-decoration-color: #0087ff\">ConvLSTM2D</span>)             │ (<span style=\"color: #00d7ff; text-decoration-color: #00d7ff\">None</span>, <span style=\"color: #00af00; text-decoration-color: #00af00\">1</span>, <span style=\"color: #00af00; text-decoration-color: #00af00\">3</span>, <span style=\"color: #00af00; text-decoration-color: #00af00\">48</span>)            │          <span style=\"color: #00af00; text-decoration-color: #00af00\">31,296</span> │\n",
              "├──────────────────────────────────────┼─────────────────────────────┼─────────────────┤\n",
              "│ dropout (<span style=\"color: #0087ff; text-decoration-color: #0087ff\">Dropout</span>)                    │ (<span style=\"color: #00d7ff; text-decoration-color: #00d7ff\">None</span>, <span style=\"color: #00af00; text-decoration-color: #00af00\">1</span>, <span style=\"color: #00af00; text-decoration-color: #00af00\">3</span>, <span style=\"color: #00af00; text-decoration-color: #00af00\">48</span>)            │               <span style=\"color: #00af00; text-decoration-color: #00af00\">0</span> │\n",
              "├──────────────────────────────────────┼─────────────────────────────┼─────────────────┤\n",
              "│ flatten (<span style=\"color: #0087ff; text-decoration-color: #0087ff\">Flatten</span>)                    │ (<span style=\"color: #00d7ff; text-decoration-color: #00d7ff\">None</span>, <span style=\"color: #00af00; text-decoration-color: #00af00\">144</span>)                 │               <span style=\"color: #00af00; text-decoration-color: #00af00\">0</span> │\n",
              "├──────────────────────────────────────┼─────────────────────────────┼─────────────────┤\n",
              "│ dense (<span style=\"color: #0087ff; text-decoration-color: #0087ff\">Dense</span>)                        │ (<span style=\"color: #00d7ff; text-decoration-color: #00d7ff\">None</span>, <span style=\"color: #00af00; text-decoration-color: #00af00\">288</span>)                 │          <span style=\"color: #00af00; text-decoration-color: #00af00\">41,760</span> │\n",
              "├──────────────────────────────────────┼─────────────────────────────┼─────────────────┤\n",
              "│ dense_1 (<span style=\"color: #0087ff; text-decoration-color: #0087ff\">Dense</span>)                      │ (<span style=\"color: #00d7ff; text-decoration-color: #00d7ff\">None</span>, <span style=\"color: #00af00; text-decoration-color: #00af00\">3</span>)                   │             <span style=\"color: #00af00; text-decoration-color: #00af00\">867</span> │\n",
              "└──────────────────────────────────────┴─────────────────────────────┴─────────────────┘\n",
              "</pre>\n"
            ]
          },
          "metadata": {}
        },
        {
          "output_type": "display_data",
          "data": {
            "text/plain": [
              "\u001b[1m Total params: \u001b[0m\u001b[38;5;34m73,923\u001b[0m (288.76 KB)\n"
            ],
            "text/html": [
              "<pre style=\"white-space:pre;overflow-x:auto;line-height:normal;font-family:Menlo,'DejaVu Sans Mono',consolas,'Courier New',monospace\"><span style=\"font-weight: bold\"> Total params: </span><span style=\"color: #00af00; text-decoration-color: #00af00\">73,923</span> (288.76 KB)\n",
              "</pre>\n"
            ]
          },
          "metadata": {}
        },
        {
          "output_type": "display_data",
          "data": {
            "text/plain": [
              "\u001b[1m Trainable params: \u001b[0m\u001b[38;5;34m73,923\u001b[0m (288.76 KB)\n"
            ],
            "text/html": [
              "<pre style=\"white-space:pre;overflow-x:auto;line-height:normal;font-family:Menlo,'DejaVu Sans Mono',consolas,'Courier New',monospace\"><span style=\"font-weight: bold\"> Trainable params: </span><span style=\"color: #00af00; text-decoration-color: #00af00\">73,923</span> (288.76 KB)\n",
              "</pre>\n"
            ]
          },
          "metadata": {}
        },
        {
          "output_type": "display_data",
          "data": {
            "text/plain": [
              "\u001b[1m Non-trainable params: \u001b[0m\u001b[38;5;34m0\u001b[0m (0.00 B)\n"
            ],
            "text/html": [
              "<pre style=\"white-space:pre;overflow-x:auto;line-height:normal;font-family:Menlo,'DejaVu Sans Mono',consolas,'Courier New',monospace\"><span style=\"font-weight: bold\"> Non-trainable params: </span><span style=\"color: #00af00; text-decoration-color: #00af00\">0</span> (0.00 B)\n",
              "</pre>\n"
            ]
          },
          "metadata": {}
        }
      ]
    },
    {
      "cell_type": "code",
      "execution_count": null,
      "id": "91b0d0c9",
      "metadata": {
        "execution": {
          "iopub.execute_input": "2022-06-05T16:58:00.948352Z",
          "iopub.status.busy": "2022-06-05T16:58:00.947924Z",
          "iopub.status.idle": "2022-06-05T16:58:00.956685Z",
          "shell.execute_reply": "2022-06-05T16:58:00.955780Z"
        },
        "papermill": {
          "duration": 0.026799,
          "end_time": "2022-06-05T16:58:00.959149",
          "exception": false,
          "start_time": "2022-06-05T16:58:00.932350",
          "status": "completed"
        },
        "tags": [],
        "id": "91b0d0c9"
      },
      "outputs": [],
      "source": [
        "df_result.to_csv('conv_lstm_20.csv')"
      ]
    }
  ],
  "metadata": {
    "kernelspec": {
      "display_name": "Python 3",
      "name": "python3"
    },
    "language_info": {
      "codemirror_mode": {
        "name": "ipython",
        "version": 3
      },
      "file_extension": ".py",
      "mimetype": "text/x-python",
      "name": "python",
      "nbconvert_exporter": "python",
      "pygments_lexer": "ipython3",
      "version": "3.7.12"
    },
    "papermill": {
      "default_parameters": {},
      "duration": 613.890648,
      "end_time": "2022-06-05T16:58:04.507151",
      "environment_variables": {},
      "exception": null,
      "input_path": "__notebook__.ipynb",
      "output_path": "__notebook__.ipynb",
      "parameters": {},
      "start_time": "2022-06-05T16:47:50.616503",
      "version": "2.3.4"
    },
    "colab": {
      "provenance": [],
      "gpuType": "T4"
    },
    "accelerator": "GPU"
  },
  "nbformat": 4,
  "nbformat_minor": 5
}