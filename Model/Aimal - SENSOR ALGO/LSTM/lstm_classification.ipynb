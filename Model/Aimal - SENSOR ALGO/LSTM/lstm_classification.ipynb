{
  "cells": [
    {
      "cell_type": "code",
      "source": [
        "!pip install keras-tuner"
      ],
      "metadata": {
        "colab": {
          "base_uri": "https://localhost:8080/"
        },
        "id": "HbPvrzmig5jG",
        "outputId": "dfa3cbd1-b992-42f2-8f10-d074d368dcb4"
      },
      "id": "HbPvrzmig5jG",
      "execution_count": 1,
      "outputs": [
        {
          "output_type": "stream",
          "name": "stdout",
          "text": [
            "Collecting keras-tuner\n",
            "  Downloading keras_tuner-1.4.7-py3-none-any.whl.metadata (5.4 kB)\n",
            "Requirement already satisfied: keras in /usr/local/lib/python3.10/dist-packages (from keras-tuner) (3.4.1)\n",
            "Requirement already satisfied: packaging in /usr/local/lib/python3.10/dist-packages (from keras-tuner) (24.1)\n",
            "Requirement already satisfied: requests in /usr/local/lib/python3.10/dist-packages (from keras-tuner) (2.32.3)\n",
            "Collecting kt-legacy (from keras-tuner)\n",
            "  Downloading kt_legacy-1.0.5-py3-none-any.whl.metadata (221 bytes)\n",
            "Requirement already satisfied: absl-py in /usr/local/lib/python3.10/dist-packages (from keras->keras-tuner) (1.4.0)\n",
            "Requirement already satisfied: numpy in /usr/local/lib/python3.10/dist-packages (from keras->keras-tuner) (1.26.4)\n",
            "Requirement already satisfied: rich in /usr/local/lib/python3.10/dist-packages (from keras->keras-tuner) (13.9.2)\n",
            "Requirement already satisfied: namex in /usr/local/lib/python3.10/dist-packages (from keras->keras-tuner) (0.0.8)\n",
            "Requirement already satisfied: h5py in /usr/local/lib/python3.10/dist-packages (from keras->keras-tuner) (3.11.0)\n",
            "Requirement already satisfied: optree in /usr/local/lib/python3.10/dist-packages (from keras->keras-tuner) (0.13.0)\n",
            "Requirement already satisfied: ml-dtypes in /usr/local/lib/python3.10/dist-packages (from keras->keras-tuner) (0.4.1)\n",
            "Requirement already satisfied: charset-normalizer<4,>=2 in /usr/local/lib/python3.10/dist-packages (from requests->keras-tuner) (3.4.0)\n",
            "Requirement already satisfied: idna<4,>=2.5 in /usr/local/lib/python3.10/dist-packages (from requests->keras-tuner) (3.10)\n",
            "Requirement already satisfied: urllib3<3,>=1.21.1 in /usr/local/lib/python3.10/dist-packages (from requests->keras-tuner) (2.2.3)\n",
            "Requirement already satisfied: certifi>=2017.4.17 in /usr/local/lib/python3.10/dist-packages (from requests->keras-tuner) (2024.8.30)\n",
            "Requirement already satisfied: typing-extensions>=4.5.0 in /usr/local/lib/python3.10/dist-packages (from optree->keras->keras-tuner) (4.12.2)\n",
            "Requirement already satisfied: markdown-it-py>=2.2.0 in /usr/local/lib/python3.10/dist-packages (from rich->keras->keras-tuner) (3.0.0)\n",
            "Requirement already satisfied: pygments<3.0.0,>=2.13.0 in /usr/local/lib/python3.10/dist-packages (from rich->keras->keras-tuner) (2.18.0)\n",
            "Requirement already satisfied: mdurl~=0.1 in /usr/local/lib/python3.10/dist-packages (from markdown-it-py>=2.2.0->rich->keras->keras-tuner) (0.1.2)\n",
            "Downloading keras_tuner-1.4.7-py3-none-any.whl (129 kB)\n",
            "\u001b[2K   \u001b[90m━━━━━━━━━━━━━━━━━━━━━━━━━━━━━━━━━━━━━━━━\u001b[0m \u001b[32m129.1/129.1 kB\u001b[0m \u001b[31m3.1 MB/s\u001b[0m eta \u001b[36m0:00:00\u001b[0m\n",
            "\u001b[?25hDownloading kt_legacy-1.0.5-py3-none-any.whl (9.6 kB)\n",
            "Installing collected packages: kt-legacy, keras-tuner\n",
            "Successfully installed keras-tuner-1.4.7 kt-legacy-1.0.5\n"
          ]
        }
      ]
    },
    {
      "cell_type": "code",
      "source": [
        "from google.colab import drive\n",
        "drive.mount('/content/drive')"
      ],
      "metadata": {
        "colab": {
          "base_uri": "https://localhost:8080/"
        },
        "id": "aUdD9T4chALe",
        "outputId": "7527aa14-724b-4755-e4a6-ac4e71be1e68"
      },
      "id": "aUdD9T4chALe",
      "execution_count": 2,
      "outputs": [
        {
          "output_type": "stream",
          "name": "stdout",
          "text": [
            "Mounted at /content/drive\n"
          ]
        }
      ]
    },
    {
      "cell_type": "code",
      "execution_count": 3,
      "id": "39eab985",
      "metadata": {
        "execution": {
          "iopub.execute_input": "2022-06-05T13:03:39.271693Z",
          "iopub.status.busy": "2022-06-05T13:03:39.271244Z",
          "iopub.status.idle": "2022-06-05T13:03:39.324359Z",
          "shell.execute_reply": "2022-06-05T13:03:39.323507Z"
        },
        "papermill": {
          "duration": 0.067871,
          "end_time": "2022-06-05T13:03:39.326885",
          "exception": false,
          "start_time": "2022-06-05T13:03:39.259014",
          "status": "completed"
        },
        "tags": [],
        "id": "39eab985"
      },
      "outputs": [],
      "source": [
        "import pandas as pd\n",
        "\n",
        "df_train = pd.read_csv('/content/drive/MyDrive/LSTM DATASET /train_motion_data.csv')\n",
        "df_test = pd.read_csv('/content/drive/MyDrive/LSTM DATASET /test_motion_data.csv')"
      ]
    },
    {
      "cell_type": "code",
      "execution_count": 4,
      "id": "12ea9c93",
      "metadata": {
        "execution": {
          "iopub.execute_input": "2022-06-05T13:03:39.343741Z",
          "iopub.status.busy": "2022-06-05T13:03:39.342974Z",
          "iopub.status.idle": "2022-06-05T13:03:39.347113Z",
          "shell.execute_reply": "2022-06-05T13:03:39.346490Z"
        },
        "papermill": {
          "duration": 0.014771,
          "end_time": "2022-06-05T13:03:39.349164",
          "exception": false,
          "start_time": "2022-06-05T13:03:39.334393",
          "status": "completed"
        },
        "tags": [],
        "id": "12ea9c93"
      },
      "outputs": [],
      "source": [
        "# Global constants\n",
        "TIMESTEPS = 20 # the number of sample to be fed to the NN\n",
        "FEATURES = 6\n",
        "LABELS = 3\n",
        "N_RECORDS = 11"
      ]
    },
    {
      "cell_type": "code",
      "execution_count": 5,
      "id": "c3c3701b",
      "metadata": {
        "execution": {
          "iopub.execute_input": "2022-06-05T13:03:39.365439Z",
          "iopub.status.busy": "2022-06-05T13:03:39.364780Z",
          "iopub.status.idle": "2022-06-05T13:03:39.385495Z",
          "shell.execute_reply": "2022-06-05T13:03:39.384696Z"
        },
        "papermill": {
          "duration": 0.031428,
          "end_time": "2022-06-05T13:03:39.387811",
          "exception": false,
          "start_time": "2022-06-05T13:03:39.356383",
          "status": "completed"
        },
        "tags": [],
        "id": "c3c3701b"
      },
      "outputs": [],
      "source": [
        "# Split the samples by class\n",
        "# so it can be trimmed to a desired shape\n",
        "df_train_normal = df_train.loc[df_train['Class'] == 'NORMAL']\n",
        "df_train_slow = df_train.loc[df_train['Class'] == 'SLOW']\n",
        "df_train_aggressive = df_train.loc[df_train['Class'] == 'AGGRESSIVE']\n",
        "\n",
        "df_test_normal = df_test.loc[df_test['Class'] == 'NORMAL']\n",
        "df_test_slow = df_test.loc[df_test['Class'] == 'SLOW']\n",
        "df_test_aggressive = df_test.loc[df_test['Class'] == 'AGGRESSIVE']"
      ]
    },
    {
      "cell_type": "code",
      "execution_count": 6,
      "id": "a1640389",
      "metadata": {
        "execution": {
          "iopub.execute_input": "2022-06-05T13:03:39.404425Z",
          "iopub.status.busy": "2022-06-05T13:03:39.403448Z",
          "iopub.status.idle": "2022-06-05T13:03:39.723811Z",
          "shell.execute_reply": "2022-06-05T13:03:39.723011Z"
        },
        "papermill": {
          "duration": 0.331354,
          "end_time": "2022-06-05T13:03:39.726462",
          "exception": false,
          "start_time": "2022-06-05T13:03:39.395108",
          "status": "completed"
        },
        "tags": [],
        "colab": {
          "base_uri": "https://localhost:8080/",
          "height": 472
        },
        "id": "a1640389",
        "outputId": "9ee25f1a-11c2-4f5c-d56f-59899f87f470"
      },
      "outputs": [
        {
          "output_type": "display_data",
          "data": {
            "text/plain": [
              "<Figure size 640x480 with 1 Axes>"
            ],
            "image/png": "[encoded data removed]"
          },
          "metadata": {}
        }
      ],
      "source": [
        "# Normal driving behavior's acceleration\n",
        "import matplotlib.pyplot as plt\n",
        "\n",
        "plt.plot(df_train_normal['Timestamp'], df_train_normal['AccX'], label='Acceleration X')\n",
        "plt.plot(df_train_normal['Timestamp'], df_train_normal['AccY'], label='Acceleration Y')\n",
        "plt.plot(df_train_normal['Timestamp'], df_train_normal['AccZ'], label='Acceleration Z')\n",
        "\n",
        "plt.title('Normal driving [Acceleration]')\n",
        "plt.xlabel('Timestamp')\n",
        "plt.legend()\n",
        "plt.show()"
      ]
    },
    {
      "cell_type": "code",
      "execution_count": 7,
      "id": "b7b5f4f9",
      "metadata": {
        "execution": {
          "iopub.execute_input": "2022-06-05T13:03:39.745169Z",
          "iopub.status.busy": "2022-06-05T13:03:39.744596Z",
          "iopub.status.idle": "2022-06-05T13:03:40.005978Z",
          "shell.execute_reply": "2022-06-05T13:03:40.005045Z"
        },
        "papermill": {
          "duration": 0.273348,
          "end_time": "2022-06-05T13:03:40.008266",
          "exception": false,
          "start_time": "2022-06-05T13:03:39.734918",
          "status": "completed"
        },
        "tags": [],
        "colab": {
          "base_uri": "https://localhost:8080/",
          "height": 472
        },
        "id": "b7b5f4f9",
        "outputId": "6ae7c9a9-8821-4e56-9662-816015e1ef9b"
      },
      "outputs": [
        {
          "output_type": "display_data",
          "data": {
            "text/plain": [
              "<Figure size 640x480 with 1 Axes>"
            ],
            "image/png": "[encoded data removed]"
          },
          "metadata": {}
        }
      ],
      "source": [
        "# Slow driving behavior's acceleration\n",
        "import matplotlib.pyplot as plt\n",
        "\n",
        "plt.plot(df_train_slow['Timestamp'], df_train_slow['AccX'], label='Acceleration X')\n",
        "plt.plot(df_train_slow['Timestamp'], df_train_slow['AccY'], label='Acceleration Y')\n",
        "plt.plot(df_train_slow['Timestamp'], df_train_slow['AccZ'], label='Acceleration Z')\n",
        "\n",
        "plt.title('Slow driving [Acceleration]')\n",
        "plt.xlabel('Timestamp')\n",
        "plt.legend()\n",
        "plt.show()"
      ]
    },
    {
      "cell_type": "code",
      "execution_count": 8,
      "id": "300b0df8",
      "metadata": {
        "execution": {
          "iopub.execute_input": "2022-06-05T13:03:40.028413Z",
          "iopub.status.busy": "2022-06-05T13:03:40.027511Z",
          "iopub.status.idle": "2022-06-05T13:03:40.270386Z",
          "shell.execute_reply": "2022-06-05T13:03:40.269298Z"
        },
        "papermill": {
          "duration": 0.255639,
          "end_time": "2022-06-05T13:03:40.272934",
          "exception": false,
          "start_time": "2022-06-05T13:03:40.017295",
          "status": "completed"
        },
        "tags": [],
        "colab": {
          "base_uri": "https://localhost:8080/",
          "height": 472
        },
        "id": "300b0df8",
        "outputId": "19e96e37-5e43-4f7b-d7d9-b3cd06a84e40"
      },
      "outputs": [
        {
          "output_type": "display_data",
          "data": {
            "text/plain": [
              "<Figure size 640x480 with 1 Axes>"
            ],
            "image/png": "[encoded data removed]"
          },
          "metadata": {}
        }
      ],
      "source": [
        "# Aggresive driving behavior's acceleration\n",
        "import matplotlib.pyplot as plt\n",
        "\n",
        "plt.plot(df_train_aggressive['Timestamp'], df_train_aggressive['AccX'], label='Acceleration X')\n",
        "plt.plot(df_train_aggressive['Timestamp'], df_train_aggressive['AccY'], label='Acceleration Y')\n",
        "plt.plot(df_train_aggressive['Timestamp'], df_train_aggressive['AccZ'], label='Acceleration Z')\n",
        "\n",
        "plt.title('Aggressive driving [Acceleration]')\n",
        "plt.xlabel('Timestamp')\n",
        "plt.legend()\n",
        "plt.show()"
      ]
    },
    {
      "cell_type": "code",
      "execution_count": null,
      "id": "26db7f5e",
      "metadata": {
        "execution": {
          "iopub.execute_input": "2022-06-05T13:03:40.294605Z",
          "iopub.status.busy": "2022-06-05T13:03:40.294194Z",
          "iopub.status.idle": "2022-06-05T13:03:40.550000Z",
          "shell.execute_reply": "2022-06-05T13:03:40.549184Z"
        },
        "papermill": {
          "duration": 0.268628,
          "end_time": "2022-06-05T13:03:40.552159",
          "exception": false,
          "start_time": "2022-06-05T13:03:40.283531",
          "status": "completed"
        },
        "tags": [],
        "id": "26db7f5e",
        "outputId": "32a62cc9-dca2-4154-bb9a-a47618198e8c"
      },
      "outputs": [
        {
          "data": {
            "image/png": "[encoded data removed]",
            "text/plain": [
              "<Figure size 432x288 with 1 Axes>"
            ]
          },
          "metadata": {
            "needs_background": "light"
          },
          "output_type": "display_data"
        }
      ],
      "source": [
        "# Normal driving behavior's gyroscope orientation\n",
        "import matplotlib.pyplot as plt\n",
        "\n",
        "plt.plot(df_train_normal['Timestamp'], df_train_normal['GyroX'], label='Gyro X')\n",
        "plt.plot(df_train_normal['Timestamp'], df_train_normal['GyroY'], label='Gyro Y')\n",
        "plt.plot(df_train_normal['Timestamp'], df_train_normal['GyroZ'], label='Gyro Z')\n",
        "\n",
        "plt.title('Normal driving [Gyroscope]')\n",
        "plt.xlabel('Timestamp')\n",
        "plt.legend()\n",
        "plt.show()"
      ]
    },
    {
      "cell_type": "code",
      "execution_count": null,
      "id": "4ebf92a6",
      "metadata": {
        "execution": {
          "iopub.execute_input": "2022-06-05T13:03:40.574541Z",
          "iopub.status.busy": "2022-06-05T13:03:40.573712Z",
          "iopub.status.idle": "2022-06-05T13:03:40.814934Z",
          "shell.execute_reply": "2022-06-05T13:03:40.813938Z"
        },
        "papermill": {
          "duration": 0.254822,
          "end_time": "2022-06-05T13:03:40.817316",
          "exception": false,
          "start_time": "2022-06-05T13:03:40.562494",
          "status": "completed"
        },
        "tags": [],
        "id": "4ebf92a6",
        "outputId": "e6c9c48f-25a8-455e-c520-9cbc825f3cd6"
      },
      "outputs": [
        {
          "data": {
            "image/png": "[encoded data removed]",
            "text/plain": [
              "<Figure size 432x288 with 1 Axes>"
            ]
          },
          "metadata": {
            "needs_background": "light"
          },
          "output_type": "display_data"
        }
      ],
      "source": [
        "# Slow driving behavior's gyroscope orientation\n",
        "import matplotlib.pyplot as plt\n",
        "\n",
        "plt.plot(df_train_slow['Timestamp'], df_train_slow['GyroX'], label='Gyro X')\n",
        "plt.plot(df_train_slow['Timestamp'], df_train_slow['GyroY'], label='Gyro Y')\n",
        "plt.plot(df_train_slow['Timestamp'], df_train_slow['GyroZ'], label='Gyro Z')\n",
        "\n",
        "plt.title('Slow driving [Gyroscope]')\n",
        "plt.xlabel('Timestamp')\n",
        "plt.legend()\n",
        "plt.show()"
      ]
    },
    {
      "cell_type": "code",
      "execution_count": null,
      "id": "8e0e695d",
      "metadata": {
        "execution": {
          "iopub.execute_input": "2022-06-05T13:03:40.843680Z",
          "iopub.status.busy": "2022-06-05T13:03:40.842917Z",
          "iopub.status.idle": "2022-06-05T13:03:41.202150Z",
          "shell.execute_reply": "2022-06-05T13:03:41.201423Z"
        },
        "papermill": {
          "duration": 0.374658,
          "end_time": "2022-06-05T13:03:41.204398",
          "exception": false,
          "start_time": "2022-06-05T13:03:40.829740",
          "status": "completed"
        },
        "tags": [],
        "id": "8e0e695d",
        "outputId": "658b23af-bf1c-4dd2-86f3-cfd61e56e06f"
      },
      "outputs": [
        {
          "data": {
            "image/png": "[encoded data removed]",
            "text/plain": [
              "<Figure size 432x288 with 1 Axes>"
            ]
          },
          "metadata": {
            "needs_background": "light"
          },
          "output_type": "display_data"
        }
      ],
      "source": [
        "# Agressive driving behavior's gyroscope orientation\n",
        "import matplotlib.pyplot as plt\n",
        "\n",
        "plt.plot(df_train_aggressive['Timestamp'], df_train_aggressive['GyroX'], label='Gyro X')\n",
        "plt.plot(df_train_aggressive['Timestamp'], df_train_aggressive['GyroY'], label='Gyro Y')\n",
        "plt.plot(df_train_aggressive['Timestamp'], df_train_aggressive['GyroZ'], label='Gyro Z')\n",
        "\n",
        "plt.title('Aggressive driving [Gyroscope]')\n",
        "plt.xlabel('Timestamp')\n",
        "plt.legend()\n",
        "plt.show()"
      ]
    },
    {
      "cell_type": "code",
      "execution_count": 9,
      "id": "39bf8ffc",
      "metadata": {
        "execution": {
          "iopub.execute_input": "2022-06-05T13:03:41.228922Z",
          "iopub.status.busy": "2022-06-05T13:03:41.228511Z",
          "iopub.status.idle": "2022-06-05T13:03:41.236690Z",
          "shell.execute_reply": "2022-06-05T13:03:41.235945Z"
        },
        "papermill": {
          "duration": 0.022778,
          "end_time": "2022-06-05T13:03:41.238532",
          "exception": false,
          "start_time": "2022-06-05T13:03:41.215754",
          "status": "completed"
        },
        "tags": [],
        "id": "39bf8ffc"
      },
      "outputs": [],
      "source": [
        "# As it may be noticed, there is some noice\n",
        "# at the beggin and end of every time series\n",
        "# It is caused because of the class switching\n",
        "# ---------------------------------------------\n",
        "# A solution would be to just remove the first and last N samples\n",
        "df_train_slow = df_train_slow.iloc[N_RECORDS:]\n",
        "df_train_slow = df_train_slow.iloc[:-N_RECORDS]\n",
        "\n",
        "df_test_slow = df_test_slow.iloc[N_RECORDS:]\n",
        "df_test_slow = df_test_slow.iloc[:-N_RECORDS]\n",
        "\n",
        "df_train_normal = df_train_normal.iloc[N_RECORDS:]\n",
        "df_train_normal = df_train_normal.iloc[:-N_RECORDS]\n",
        "\n",
        "df_test_normal = df_test_normal.iloc[N_RECORDS:]\n",
        "df_test_normal = df_test_normal.iloc[:-N_RECORDS]\n",
        "\n",
        "df_train_aggressive = df_train_aggressive.iloc[N_RECORDS:]\n",
        "df_train_aggressive = df_train_aggressive.iloc[:-N_RECORDS]\n",
        "\n",
        "df_test_aggressive = df_test_aggressive.iloc[N_RECORDS:]\n",
        "df_test_aggressive = df_test_aggressive.iloc[:-N_RECORDS]"
      ]
    },
    {
      "cell_type": "code",
      "execution_count": 10,
      "id": "000a0a1f",
      "metadata": {
        "execution": {
          "iopub.execute_input": "2022-06-05T13:03:41.263688Z",
          "iopub.status.busy": "2022-06-05T13:03:41.262999Z",
          "iopub.status.idle": "2022-06-05T13:03:41.270903Z",
          "shell.execute_reply": "2022-06-05T13:03:41.269611Z"
        },
        "papermill": {
          "duration": 0.023475,
          "end_time": "2022-06-05T13:03:41.273585",
          "exception": false,
          "start_time": "2022-06-05T13:03:41.250110",
          "status": "completed"
        },
        "tags": [],
        "colab": {
          "base_uri": "https://localhost:8080/"
        },
        "id": "000a0a1f",
        "outputId": "7fc3d1a9-4a2e-4b9e-c28b-68303d168868"
      },
      "outputs": [
        {
          "output_type": "stream",
          "name": "stdout",
          "text": [
            "---Train---\n",
            "Slow samples: 1309\n",
            "Normal samples: 1178\n",
            "Aggressive samples: 1091\n"
          ]
        }
      ],
      "source": [
        "# Check train data per label\n",
        "train_slow_samples = df_train_slow.__len__()\n",
        "train_normal_samples = df_train_normal.__len__()\n",
        "train_aggressive_samples = df_train_aggressive.__len__()\n",
        "\n",
        "print('---Train---')\n",
        "print('Slow samples: ' + str(train_slow_samples))\n",
        "print('Normal samples: ' + str(train_normal_samples))\n",
        "print('Aggressive samples: ' + str(train_aggressive_samples))\n",
        "\n",
        "df_train_slow = df_train_slow.tail(1300)\n",
        "df_train_normal = df_train_normal.tail(1160)\n",
        "df_train_aggressive = df_train_aggressive.tail(1080)"
      ]
    },
    {
      "cell_type": "code",
      "execution_count": 11,
      "id": "51c5b7f4",
      "metadata": {
        "execution": {
          "iopub.execute_input": "2022-06-05T13:03:41.298943Z",
          "iopub.status.busy": "2022-06-05T13:03:41.298123Z",
          "iopub.status.idle": "2022-06-05T13:03:41.307682Z",
          "shell.execute_reply": "2022-06-05T13:03:41.306119Z"
        },
        "papermill": {
          "duration": 0.025259,
          "end_time": "2022-06-05T13:03:41.310544",
          "exception": false,
          "start_time": "2022-06-05T13:03:41.285285",
          "status": "completed"
        },
        "tags": [],
        "colab": {
          "base_uri": "https://localhost:8080/"
        },
        "id": "51c5b7f4",
        "outputId": "d0d726f5-a618-434f-df40-af9e7aab838b"
      },
      "outputs": [
        {
          "output_type": "stream",
          "name": "stdout",
          "text": [
            "---Test---\n",
            "Slow samples: 1251\n",
            "Normal samples: 975\n",
            "Aggressive samples: 792\n"
          ]
        }
      ],
      "source": [
        "# Check test data per label\n",
        "test_slow_samples = df_test_slow.__len__()\n",
        "test_normal_samples = df_test_normal.__len__()\n",
        "test_aggressive_samples = df_test_aggressive.__len__()\n",
        "\n",
        "print('---Test---')\n",
        "print('Slow samples: ' + str(test_slow_samples))\n",
        "print('Normal samples: ' + str(test_normal_samples))\n",
        "print('Aggressive samples: ' + str(test_aggressive_samples))\n",
        "\n",
        "df_test_slow = df_test_slow.tail(1240)\n",
        "df_test_normal = df_test_normal.tail(960)\n",
        "df_test_aggressive = df_test_aggressive.tail(780)"
      ]
    },
    {
      "cell_type": "code",
      "execution_count": 12,
      "id": "4ab52fef",
      "metadata": {
        "execution": {
          "iopub.execute_input": "2022-06-05T13:03:41.336115Z",
          "iopub.status.busy": "2022-06-05T13:03:41.335707Z",
          "iopub.status.idle": "2022-06-05T13:03:41.346090Z",
          "shell.execute_reply": "2022-06-05T13:03:41.344962Z"
        },
        "papermill": {
          "duration": 0.025732,
          "end_time": "2022-06-05T13:03:41.348469",
          "exception": false,
          "start_time": "2022-06-05T13:03:41.322737",
          "status": "completed"
        },
        "tags": [],
        "id": "4ab52fef"
      },
      "outputs": [],
      "source": [
        "# Separating features from labels\n",
        "\n",
        "# Features\n",
        "X_train_normal = df_train_normal.iloc[: , :FEATURES]\n",
        "X_train_slow = df_train_slow.iloc[: , :FEATURES]\n",
        "X_train_aggressive = df_train_aggressive.iloc[: , :FEATURES]\n",
        "\n",
        "X_test_normal = df_test_normal.iloc[: , :FEATURES]\n",
        "X_test_slow = df_test_slow.iloc[: , :FEATURES]\n",
        "X_test_aggressive = df_test_aggressive.iloc[: , :FEATURES]\n",
        "\n",
        "# Labels\n",
        "y_train_normal = df_train_normal.Class\n",
        "y_train_slow = df_train_slow.Class\n",
        "y_train_aggressive = df_train_aggressive.Class\n",
        "\n",
        "y_test_normal = df_test_normal.Class\n",
        "y_test_slow = df_test_slow.Class\n",
        "y_test_aggressive = df_test_aggressive.Class"
      ]
    },
    {
      "cell_type": "code",
      "execution_count": 13,
      "id": "511fd047",
      "metadata": {
        "execution": {
          "iopub.execute_input": "2022-06-05T13:03:41.374161Z",
          "iopub.status.busy": "2022-06-05T13:03:41.373726Z",
          "iopub.status.idle": "2022-06-05T13:03:41.382881Z",
          "shell.execute_reply": "2022-06-05T13:03:41.381961Z"
        },
        "papermill": {
          "duration": 0.024323,
          "end_time": "2022-06-05T13:03:41.384887",
          "exception": false,
          "start_time": "2022-06-05T13:03:41.360564",
          "status": "completed"
        },
        "tags": [],
        "id": "511fd047"
      },
      "outputs": [],
      "source": [
        "# Combine all the samples intro a train dataset\n",
        "X_train = pd.concat([X_train_slow, X_train_normal, X_train_aggressive])\n",
        "y_train = pd.concat([y_train_slow, y_train_normal, y_train_aggressive])\n",
        "\n",
        "X_test = pd.concat([X_test_slow, X_test_normal, X_test_aggressive])\n",
        "y_test = pd.concat([y_test_slow, y_test_normal, y_test_aggressive])"
      ]
    },
    {
      "cell_type": "code",
      "execution_count": 14,
      "id": "5b61cbf8",
      "metadata": {
        "execution": {
          "iopub.execute_input": "2022-06-05T13:03:41.410591Z",
          "iopub.status.busy": "2022-06-05T13:03:41.409945Z",
          "iopub.status.idle": "2022-06-05T13:03:42.471721Z",
          "shell.execute_reply": "2022-06-05T13:03:42.470606Z"
        },
        "papermill": {
          "duration": 1.077413,
          "end_time": "2022-06-05T13:03:42.474242",
          "exception": false,
          "start_time": "2022-06-05T13:03:41.396829",
          "status": "completed"
        },
        "tags": [],
        "id": "5b61cbf8"
      },
      "outputs": [],
      "source": [
        "# As ML/DL algorithms are working with numbers\n",
        "# the labels should be mapped to numbers\n",
        "from sklearn.preprocessing import LabelEncoder\n",
        "\n",
        "labelEncoder = LabelEncoder()\n",
        "y_train = labelEncoder.fit_transform(y_train)\n",
        "y_test = labelEncoder.transform(y_test)"
      ]
    },
    {
      "cell_type": "code",
      "execution_count": 15,
      "id": "8a21815c",
      "metadata": {
        "execution": {
          "iopub.execute_input": "2022-06-05T13:03:42.500956Z",
          "iopub.status.busy": "2022-06-05T13:03:42.500511Z",
          "iopub.status.idle": "2022-06-05T13:03:49.486080Z",
          "shell.execute_reply": "2022-06-05T13:03:49.485083Z"
        },
        "papermill": {
          "duration": 7.001674,
          "end_time": "2022-06-05T13:03:49.488728",
          "exception": false,
          "start_time": "2022-06-05T13:03:42.487054",
          "status": "completed"
        },
        "tags": [],
        "id": "8a21815c"
      },
      "outputs": [],
      "source": [
        "# Because I'm using CategoricalCrossentropy loss function\n",
        "# I have to convert my labels to one-hot encoded vectors\n",
        "from tensorflow.keras.utils import to_categorical\n",
        "\n",
        "y_train = to_categorical(y_train, num_classes=LABELS)\n",
        "y_test = to_categorical(y_test, num_classes=LABELS)"
      ]
    },
    {
      "cell_type": "code",
      "execution_count": 16,
      "id": "cde80057",
      "metadata": {
        "execution": {
          "iopub.execute_input": "2022-06-05T13:03:49.515107Z",
          "iopub.status.busy": "2022-06-05T13:03:49.514033Z",
          "iopub.status.idle": "2022-06-05T13:03:49.525648Z",
          "shell.execute_reply": "2022-06-05T13:03:49.524768Z"
        },
        "papermill": {
          "duration": 0.026809,
          "end_time": "2022-06-05T13:03:49.527598",
          "exception": false,
          "start_time": "2022-06-05T13:03:49.500789",
          "status": "completed"
        },
        "tags": [],
        "id": "cde80057"
      },
      "outputs": [],
      "source": [
        "# As the dataset contains variables that are different in scale,\n",
        "# a good solution will be to standardize it\n",
        "from sklearn.preprocessing import StandardScaler\n",
        "\n",
        "scaler = StandardScaler(with_mean=True, with_std=True)\n",
        "X_train = scaler.fit_transform(X_train)\n",
        "X_test = scaler.transform(X_test)"
      ]
    },
    {
      "cell_type": "code",
      "execution_count": 17,
      "id": "62695c21",
      "metadata": {
        "execution": {
          "iopub.execute_input": "2022-06-05T13:03:49.553513Z",
          "iopub.status.busy": "2022-06-05T13:03:49.552932Z",
          "iopub.status.idle": "2022-06-05T13:03:49.559425Z",
          "shell.execute_reply": "2022-06-05T13:03:49.558535Z"
        },
        "papermill": {
          "duration": 0.022227,
          "end_time": "2022-06-05T13:03:49.561927",
          "exception": false,
          "start_time": "2022-06-05T13:03:49.539700",
          "status": "completed"
        },
        "tags": [],
        "colab": {
          "base_uri": "https://localhost:8080/"
        },
        "id": "62695c21",
        "outputId": "024e3f81-f1dd-4c1f-f627-bde085e21e8e"
      },
      "outputs": [
        {
          "output_type": "stream",
          "name": "stdout",
          "text": [
            "Train features shape: 177\n",
            "Test features shape: 149\n"
          ]
        }
      ],
      "source": [
        "# Reshaping the input for the Conv-LSTM network (Features)\n",
        "train_samples = X_train.shape[0]//TIMESTEPS\n",
        "X_train = X_train.reshape(train_samples, TIMESTEPS, FEATURES)\n",
        "\n",
        "test_samples = X_test.shape[0]//TIMESTEPS\n",
        "X_test = X_test.reshape(test_samples, TIMESTEPS, FEATURES)\n",
        "\n",
        "print('Train features shape: ' + str(X_train.shape[0]))\n",
        "print('Test features shape: ' + str(X_test.shape[0]))"
      ]
    },
    {
      "cell_type": "code",
      "execution_count": 18,
      "id": "3803cf87",
      "metadata": {
        "execution": {
          "iopub.execute_input": "2022-06-05T13:03:49.588845Z",
          "iopub.status.busy": "2022-06-05T13:03:49.588431Z",
          "iopub.status.idle": "2022-06-05T13:03:49.594279Z",
          "shell.execute_reply": "2022-06-05T13:03:49.593329Z"
        },
        "papermill": {
          "duration": 0.022819,
          "end_time": "2022-06-05T13:03:49.597547",
          "exception": false,
          "start_time": "2022-06-05T13:03:49.574728",
          "status": "completed"
        },
        "tags": [],
        "colab": {
          "base_uri": "https://localhost:8080/"
        },
        "id": "3803cf87",
        "outputId": "2e8f7ddb-af3d-47b1-920c-4f9d88ee9b5a"
      },
      "outputs": [
        {
          "output_type": "stream",
          "name": "stdout",
          "text": [
            "Train labels shape: 177\n",
            "Test labels shape: 149\n"
          ]
        }
      ],
      "source": [
        "y_train = y_train[::TIMESTEPS]\n",
        "y_test = y_test[::TIMESTEPS]\n",
        "\n",
        "print('Train labels shape: ' + str(y_train.shape[0]))\n",
        "print('Test labels shape: ' + str(y_test.shape[0]))"
      ]
    },
    {
      "cell_type": "code",
      "execution_count": 19,
      "id": "5ac71912",
      "metadata": {
        "execution": {
          "iopub.execute_input": "2022-06-05T13:03:49.625136Z",
          "iopub.status.busy": "2022-06-05T13:03:49.624739Z",
          "iopub.status.idle": "2022-06-05T13:03:49.846057Z",
          "shell.execute_reply": "2022-06-05T13:03:49.845044Z"
        },
        "papermill": {
          "duration": 0.237683,
          "end_time": "2022-06-05T13:03:49.848590",
          "exception": false,
          "start_time": "2022-06-05T13:03:49.610907",
          "status": "completed"
        },
        "tags": [],
        "id": "5ac71912"
      },
      "outputs": [],
      "source": [
        "import tensorflow as tf\n",
        "from tensorflow import keras, lite\n",
        "from tensorflow.keras.layers import Dense, Dropout, Flatten, ConvLSTM2D, LSTM, RepeatVector\n",
        "import keras_tuner as kt\n",
        "\n",
        "# Set a global random seed for a better random result\n",
        "tf.random.set_seed(42)\n",
        "\n",
        "# Build the model by assigning\n",
        "# the number of layers and number of neurons for each layer\n",
        "# the learning rate\n",
        "# the number of epochs\n",
        "# ------------------------------------------------------------------------\n",
        "# To get these optimal parameters I will use the Keras Tuner library\n",
        "# so it will get the optimal parameters for the NN\n",
        "# and pass it to the model_builder function\n",
        "def model_builder(hp):\n",
        "    model = tf.keras.Sequential()\n",
        "\n",
        "    model.add(LSTM(hp.Int('input_unit', min_value=32, max_value=512, step=32), input_shape=(TIMESTEPS, FEATURES), return_sequences=True))\n",
        "\n",
        "    for i in range(hp.Int('n_layers', 1, 4)):\n",
        "        model.add(LSTM(\n",
        "            hp.Int(f'lstm_{i}_units', min_value=32, max_value=512, step=32),\n",
        "            dropout=hp.Float(f'dropout_{i}_rate', min_value=0, max_value=0.5, step=0.1),\n",
        "            return_sequences=True\n",
        "        ))\n",
        "\n",
        "    model.add(LSTM(hp.Int('lstm_output_neurons', min_value=32, max_value=512, step=32), return_sequences=False))\n",
        "\n",
        "    model.add(Dropout(hp.Float('output_dropout_rate', min_value=0, max_value=0.5, step=0.1)))\n",
        "\n",
        "    model.add(Dense(hp.Int('dense_neurons', min_value=32, max_value=512, step=32)))\n",
        "\n",
        "    model.add(Dense(LABELS, activation='softmax'))\n",
        "\n",
        "\n",
        "    # Tune the learning rate for the optimizer\n",
        "    # Choose an optimal value from 0.1, 0.01, 0.001, or 0.0001\n",
        "    hp_learning_rate = hp.Choice('learning_rate', values=[1e-1, 1e-2, 1e-3, 1e-4])\n",
        "\n",
        "    model.compile(\n",
        "        loss=tf.keras.losses.CategoricalCrossentropy(),\n",
        "        optimizer=tf.keras.optimizers.Adam(learning_rate=hp_learning_rate),\n",
        "        metrics=[\n",
        "            tf.keras.metrics.CategoricalAccuracy(name='accuracy'),\n",
        "            tf.keras.metrics.Precision(name='precision'),\n",
        "            tf.keras.metrics.Recall(name='recall')\n",
        "        ]\n",
        "    )\n",
        "\n",
        "    return model"
      ]
    },
    {
      "cell_type": "code",
      "execution_count": 20,
      "id": "08b1b1c3",
      "metadata": {
        "execution": {
          "iopub.execute_input": "2022-06-05T13:03:49.875430Z",
          "iopub.status.busy": "2022-06-05T13:03:49.875029Z",
          "iopub.status.idle": "2022-06-05T13:03:50.801994Z",
          "shell.execute_reply": "2022-06-05T13:03:50.800807Z"
        },
        "papermill": {
          "duration": 0.943935,
          "end_time": "2022-06-05T13:03:50.805049",
          "exception": false,
          "start_time": "2022-06-05T13:03:49.861114",
          "status": "completed"
        },
        "tags": [],
        "colab": {
          "base_uri": "https://localhost:8080/"
        },
        "id": "08b1b1c3",
        "outputId": "dfd5c6c2-b06a-401e-e932-544b904049c9"
      },
      "outputs": [
        {
          "output_type": "stream",
          "name": "stderr",
          "text": [
            "/usr/local/lib/python3.10/dist-packages/keras/src/layers/rnn/rnn.py:204: UserWarning: Do not pass an `input_shape`/`input_dim` argument to a layer. When using Sequential models, prefer using an `Input(shape)` object as the first layer in the model instead.\n",
            "  super().__init__(**kwargs)\n"
          ]
        }
      ],
      "source": [
        "# To be able to get the optimal parameters for our network\n",
        "# we have to create a Tuner with the following setup\n",
        "# 'objective' -> will use to create test models\n",
        "# 'max_epochs' -> the maximum number of epochs to train one model\n",
        "# 'factor' -> the reduction factor for the number of epochs and number of models for each bracket\n",
        "# 'directory' -> will save the training history there\n",
        "tuner = kt.Hyperband(model_builder,\n",
        "                     objective='val_accuracy',\n",
        "                     max_epochs=50,\n",
        "                     factor=3,\n",
        "                     directory='lstm_dir',\n",
        "                     project_name='driving_behavior')"
      ]
    },
    {
      "cell_type": "code",
      "execution_count": 21,
      "id": "f1da246e",
      "metadata": {
        "execution": {
          "iopub.execute_input": "2022-06-05T13:03:50.847694Z",
          "iopub.status.busy": "2022-06-05T13:03:50.845287Z",
          "iopub.status.idle": "2022-06-05T13:03:50.853508Z",
          "shell.execute_reply": "2022-06-05T13:03:50.852553Z"
        },
        "papermill": {
          "duration": 0.025638,
          "end_time": "2022-06-05T13:03:50.856634",
          "exception": false,
          "start_time": "2022-06-05T13:03:50.830996",
          "status": "completed"
        },
        "tags": [],
        "id": "f1da246e"
      },
      "outputs": [],
      "source": [
        "# Define an event that will stop the training\n",
        "# depending of the value of \"val_loss\"\n",
        "# ------------------------------------------------------------------\n",
        "# Will stop training if the \"val_loss\" hasn't improved in 5 epochs.\n",
        "stop_early = tf.keras.callbacks.EarlyStopping(monitor='val_loss', patience=5)"
      ]
    },
    {
      "cell_type": "code",
      "execution_count": 22,
      "id": "c31f4d38",
      "metadata": {
        "execution": {
          "iopub.execute_input": "2022-06-05T13:03:50.890845Z",
          "iopub.status.busy": "2022-06-05T13:03:50.889990Z",
          "iopub.status.idle": "2022-06-05T13:46:27.444507Z",
          "shell.execute_reply": "2022-06-05T13:46:27.443421Z"
        },
        "papermill": {
          "duration": 2556.572785,
          "end_time": "2022-06-05T13:46:27.448096",
          "exception": false,
          "start_time": "2022-06-05T13:03:50.875311",
          "status": "completed"
        },
        "tags": [],
        "colab": {
          "base_uri": "https://localhost:8080/"
        },
        "id": "c31f4d38",
        "outputId": "728d20e9-dce3-4846-fa41-82a1882f7bc5"
      },
      "outputs": [
        {
          "output_type": "stream",
          "name": "stdout",
          "text": [
            "Trial 90 Complete [00h 00m 59s]\n",
            "val_accuracy: 0.463087260723114\n",
            "\n",
            "Best val_accuracy So Far: 0.5906040072441101\n",
            "Total elapsed time: 01h 11m 37s\n"
          ]
        }
      ],
      "source": [
        "# The algorithm trains a large number of models for a few epochs and\n",
        "# carries forward only the top-performing half of models to the next round.\n",
        "tuner.search(\n",
        "        x=X_train,\n",
        "        y=y_train,\n",
        "        epochs=50,\n",
        "        validation_data=(X_test, y_test),\n",
        "        callbacks=[stop_early],\n",
        "        shuffle=True\n",
        ")"
      ]
    },
    {
      "cell_type": "code",
      "execution_count": 23,
      "id": "e0ad98e8",
      "metadata": {
        "execution": {
          "iopub.execute_input": "2022-06-05T13:46:27.476165Z",
          "iopub.status.busy": "2022-06-05T13:46:27.475339Z",
          "iopub.status.idle": "2022-06-05T13:46:29.429916Z",
          "shell.execute_reply": "2022-06-05T13:46:29.428878Z"
        },
        "papermill": {
          "duration": 1.972027,
          "end_time": "2022-06-05T13:46:29.432881",
          "exception": false,
          "start_time": "2022-06-05T13:46:27.460854",
          "status": "completed"
        },
        "tags": [],
        "id": "e0ad98e8"
      },
      "outputs": [],
      "source": [
        "# Get best hyperparameters that were found during the search\n",
        "best_model = tuner.get_best_models()[0]"
      ]
    },
    {
      "cell_type": "code",
      "execution_count": 31,
      "id": "f9771c7a",
      "metadata": {
        "execution": {
          "iopub.execute_input": "2022-06-05T13:46:29.465275Z",
          "iopub.status.busy": "2022-06-05T13:46:29.464722Z",
          "iopub.status.idle": "2022-06-05T13:46:31.952237Z",
          "shell.execute_reply": "2022-06-05T13:46:31.950909Z"
        },
        "papermill": {
          "duration": 2.505016,
          "end_time": "2022-06-05T13:46:31.955182",
          "exception": false,
          "start_time": "2022-06-05T13:46:29.450166",
          "status": "completed"
        },
        "tags": [],
        "colab": {
          "base_uri": "https://localhost:8080/"
        },
        "id": "f9771c7a",
        "outputId": "0bd58064-298b-44ed-db02-a20cc20f91bf"
      },
      "outputs": [
        {
          "output_type": "stream",
          "name": "stdout",
          "text": [
            "\u001b[1m5/5\u001b[0m \u001b[32m━━━━━━━━━━━━━━━━━━━━\u001b[0m\u001b[37m\u001b[0m \u001b[1m0s\u001b[0m 47ms/step - accuracy: 0.6964 - loss: 1.0017 - precision: 0.7102 - recall: 0.6623\n"
          ]
        }
      ],
      "source": [
        "# Get the metrics for our trained model\n",
        "eval_result = best_model.evaluate(X_test, y_test)"
      ]
    },
    {
      "cell_type": "code",
      "execution_count": 25,
      "id": "e3ead292",
      "metadata": {
        "execution": {
          "iopub.execute_input": "2022-06-05T13:46:31.984115Z",
          "iopub.status.busy": "2022-06-05T13:46:31.983364Z",
          "iopub.status.idle": "2022-06-05T13:46:34.019875Z",
          "shell.execute_reply": "2022-06-05T13:46:34.018977Z"
        },
        "papermill": {
          "duration": 2.053524,
          "end_time": "2022-06-05T13:46:34.022408",
          "exception": false,
          "start_time": "2022-06-05T13:46:31.968884",
          "status": "completed"
        },
        "tags": [],
        "colab": {
          "base_uri": "https://localhost:8080/"
        },
        "id": "e3ead292",
        "outputId": "964607a6-3473-40cb-a77a-38c169531d4a"
      },
      "outputs": [
        {
          "output_type": "stream",
          "name": "stdout",
          "text": [
            "\u001b[1m5/5\u001b[0m \u001b[32m━━━━━━━━━━━━━━━━━━━━\u001b[0m\u001b[37m\u001b[0m \u001b[1m1s\u001b[0m 144ms/step\n"
          ]
        }
      ],
      "source": [
        "# Get the predictions\n",
        "y_pred=best_model.predict(x=X_test)"
      ]
    },
    {
      "cell_type": "code",
      "execution_count": 26,
      "id": "747e2de7",
      "metadata": {
        "execution": {
          "iopub.execute_input": "2022-06-05T13:46:34.050931Z",
          "iopub.status.busy": "2022-06-05T13:46:34.050039Z",
          "iopub.status.idle": "2022-06-05T13:46:34.078062Z",
          "shell.execute_reply": "2022-06-05T13:46:34.077383Z"
        },
        "papermill": {
          "duration": 0.045282,
          "end_time": "2022-06-05T13:46:34.080829",
          "exception": false,
          "start_time": "2022-06-05T13:46:34.035547",
          "status": "completed"
        },
        "tags": [],
        "colab": {
          "base_uri": "https://localhost:8080/",
          "height": 423
        },
        "id": "747e2de7",
        "outputId": "a17c8958-7f7f-46a7-c7fc-bd1066bea7db"
      },
      "outputs": [
        {
          "output_type": "execute_result",
          "data": {
            "text/plain": [
              "     AGGRESSIVE    NORMAL      SLOW\n",
              "0      0.062607  0.361603  0.575790\n",
              "1      0.062668  0.362977  0.574355\n",
              "2      0.059955  0.359396  0.580650\n",
              "3      0.059901  0.360850  0.579249\n",
              "4      0.072945  0.369366  0.557688\n",
              "..          ...       ...       ...\n",
              "144    0.980233  0.015911  0.003856\n",
              "145    0.976427  0.018492  0.005081\n",
              "146    0.674110  0.188575  0.137316\n",
              "147    0.058363  0.357696  0.583941\n",
              "148    0.070250  0.379199  0.550552\n",
              "\n",
              "[149 rows x 3 columns]"
            ],
            "text/html": [
              "\n",
              "  <div id=\"df-8bc61a49-21a9-4b71-a5a3-3930337e46ac\" class=\"colab-df-container\">\n",
              "    <div>\n",
              "<style scoped>\n",
              "    .dataframe tbody tr th:only-of-type {\n",
              "        vertical-align: middle;\n",
              "    }\n",
              "\n",
              "    .dataframe tbody tr th {\n",
              "        vertical-align: top;\n",
              "    }\n",
              "\n",
              "    .dataframe thead th {\n",
              "        text-align: right;\n",
              "    }\n",
              "</style>\n",
              "<table border=\"1\" class=\"dataframe\">\n",
              "  <thead>\n",
              "    <tr style=\"text-align: right;\">\n",
              "      <th></th>\n",
              "      <th>AGGRESSIVE</th>\n",
              "      <th>NORMAL</th>\n",
              "      <th>SLOW</th>\n",
              "    </tr>\n",
              "  </thead>\n",
              "  <tbody>\n",
              "    <tr>\n",
              "      <th>0</th>\n",
              "      <td>0.062607</td>\n",
              "      <td>0.361603</td>\n",
              "      <td>0.575790</td>\n",
              "    </tr>\n",
              "    <tr>\n",
              "      <th>1</th>\n",
              "      <td>0.062668</td>\n",
              "      <td>0.362977</td>\n",
              "      <td>0.574355</td>\n",
              "    </tr>\n",
              "    <tr>\n",
              "      <th>2</th>\n",
              "      <td>0.059955</td>\n",
              "      <td>0.359396</td>\n",
              "      <td>0.580650</td>\n",
              "    </tr>\n",
              "    <tr>\n",
              "      <th>3</th>\n",
              "      <td>0.059901</td>\n",
              "      <td>0.360850</td>\n",
              "      <td>0.579249</td>\n",
              "    </tr>\n",
              "    <tr>\n",
              "      <th>4</th>\n",
              "      <td>0.072945</td>\n",
              "      <td>0.369366</td>\n",
              "      <td>0.557688</td>\n",
              "    </tr>\n",
              "    <tr>\n",
              "      <th>...</th>\n",
              "      <td>...</td>\n",
              "      <td>...</td>\n",
              "      <td>...</td>\n",
              "    </tr>\n",
              "    <tr>\n",
              "      <th>144</th>\n",
              "      <td>0.980233</td>\n",
              "      <td>0.015911</td>\n",
              "      <td>0.003856</td>\n",
              "    </tr>\n",
              "    <tr>\n",
              "      <th>145</th>\n",
              "      <td>0.976427</td>\n",
              "      <td>0.018492</td>\n",
              "      <td>0.005081</td>\n",
              "    </tr>\n",
              "    <tr>\n",
              "      <th>146</th>\n",
              "      <td>0.674110</td>\n",
              "      <td>0.188575</td>\n",
              "      <td>0.137316</td>\n",
              "    </tr>\n",
              "    <tr>\n",
              "      <th>147</th>\n",
              "      <td>0.058363</td>\n",
              "      <td>0.357696</td>\n",
              "      <td>0.583941</td>\n",
              "    </tr>\n",
              "    <tr>\n",
              "      <th>148</th>\n",
              "      <td>0.070250</td>\n",
              "      <td>0.379199</td>\n",
              "      <td>0.550552</td>\n",
              "    </tr>\n",
              "  </tbody>\n",
              "</table>\n",
              "<p>149 rows × 3 columns</p>\n",
              "</div>\n",
              "    <div class=\"colab-df-buttons\">\n",
              "\n",
              "  <div class=\"colab-df-container\">\n",
              "    <button class=\"colab-df-convert\" onclick=\"convertToInteractive('df-8bc61a49-21a9-4b71-a5a3-3930337e46ac')\"\n",
              "            title=\"Convert this dataframe to an interactive table.\"\n",
              "            style=\"display:none;\">\n",
              "\n",
              "  <svg xmlns=\"http://www.w3.org/2000/svg\" height=\"24px\" viewBox=\"0 -960 960 960\">\n",
              "    <path d=\"M120-120v-720h720v720H120Zm60-500h600v-160H180v160Zm220 220h160v-160H400v160Zm0 220h160v-160H400v160ZM180-400h160v-160H180v160Zm440 0h160v-160H620v160ZM180-180h160v-160H180v160Zm440 0h160v-160H620v160Z\"/>\n",
              "  </svg>\n",
              "    </button>\n",
              "\n",
              "  <style>\n",
              "    .colab-df-container {\n",
              "      display:flex;\n",
              "      gap: 12px;\n",
              "    }\n",
              "\n",
              "    .colab-df-convert {\n",
              "      background-color: #E8F0FE;\n",
              "      border: none;\n",
              "      border-radius: 50%;\n",
              "      cursor: pointer;\n",
              "      display: none;\n",
              "      fill: #1967D2;\n",
              "      height: 32px;\n",
              "      padding: 0 0 0 0;\n",
              "      width: 32px;\n",
              "    }\n",
              "\n",
              "    .colab-df-convert:hover {\n",
              "      background-color: #E2EBFA;\n",
              "      box-shadow: 0px 1px 2px rgba(60, 64, 67, 0.3), 0px 1px 3px 1px rgba(60, 64, 67, 0.15);\n",
              "      fill: #174EA6;\n",
              "    }\n",
              "\n",
              "    .colab-df-buttons div {\n",
              "      margin-bottom: 4px;\n",
              "    }\n",
              "\n",
              "    [theme=dark] .colab-df-convert {\n",
              "      background-color: #3B4455;\n",
              "      fill: #D2E3FC;\n",
              "    }\n",
              "\n",
              "    [theme=dark] .colab-df-convert:hover {\n",
              "      background-color: #434B5C;\n",
              "      box-shadow: 0px 1px 3px 1px rgba(0, 0, 0, 0.15);\n",
              "      filter: drop-shadow(0px 1px 2px rgba(0, 0, 0, 0.3));\n",
              "      fill: #FFFFFF;\n",
              "    }\n",
              "  </style>\n",
              "\n",
              "    <script>\n",
              "      const buttonEl =\n",
              "        document.querySelector('#df-8bc61a49-21a9-4b71-a5a3-3930337e46ac button.colab-df-convert');\n",
              "      buttonEl.style.display =\n",
              "        google.colab.kernel.accessAllowed ? 'block' : 'none';\n",
              "\n",
              "      async function convertToInteractive(key) {\n",
              "        const element = document.querySelector('#df-8bc61a49-21a9-4b71-a5a3-3930337e46ac');\n",
              "        const dataTable =\n",
              "          await google.colab.kernel.invokeFunction('convertToInteractive',\n",
              "                                                    [key], {});\n",
              "        if (!dataTable) return;\n",
              "\n",
              "        const docLinkHtml = 'Like what you see? Visit the ' +\n",
              "          '<a target=\"_blank\" href=https://colab.research.google.com/notebooks/data_table.ipynb>data table notebook</a>'\n",
              "          + ' to learn more about interactive tables.';\n",
              "        element.innerHTML = '';\n",
              "        dataTable['output_type'] = 'display_data';\n",
              "        await google.colab.output.renderOutput(dataTable, element);\n",
              "        const docLink = document.createElement('div');\n",
              "        docLink.innerHTML = docLinkHtml;\n",
              "        element.appendChild(docLink);\n",
              "      }\n",
              "    </script>\n",
              "  </div>\n",
              "\n",
              "\n",
              "<div id=\"df-a2205298-efc0-42db-a9ae-4d6150e40e63\">\n",
              "  <button class=\"colab-df-quickchart\" onclick=\"quickchart('df-a2205298-efc0-42db-a9ae-4d6150e40e63')\"\n",
              "            title=\"Suggest charts\"\n",
              "            style=\"display:none;\">\n",
              "\n",
              "<svg xmlns=\"http://www.w3.org/2000/svg\" height=\"24px\"viewBox=\"0 0 24 24\"\n",
              "     width=\"24px\">\n",
              "    <g>\n",
              "        <path d=\"M19 3H5c-1.1 0-2 .9-2 2v14c0 1.1.9 2 2 2h14c1.1 0 2-.9 2-2V5c0-1.1-.9-2-2-2zM9 17H7v-7h2v7zm4 0h-2V7h2v10zm4 0h-2v-4h2v4z\"/>\n",
              "    </g>\n",
              "</svg>\n",
              "  </button>\n",
              "\n",
              "<style>\n",
              "  .colab-df-quickchart {\n",
              "      --bg-color: #E8F0FE;\n",
              "      --fill-color: #1967D2;\n",
              "      --hover-bg-color: #E2EBFA;\n",
              "      --hover-fill-color: #174EA6;\n",
              "      --disabled-fill-color: #AAA;\n",
              "      --disabled-bg-color: #DDD;\n",
              "  }\n",
              "\n",
              "  [theme=dark] .colab-df-quickchart {\n",
              "      --bg-color: #3B4455;\n",
              "      --fill-color: #D2E3FC;\n",
              "      --hover-bg-color: #434B5C;\n",
              "      --hover-fill-color: #FFFFFF;\n",
              "      --disabled-bg-color: #3B4455;\n",
              "      --disabled-fill-color: #666;\n",
              "  }\n",
              "\n",
              "  .colab-df-quickchart {\n",
              "    background-color: var(--bg-color);\n",
              "    border: none;\n",
              "    border-radius: 50%;\n",
              "    cursor: pointer;\n",
              "    display: none;\n",
              "    fill: var(--fill-color);\n",
              "    height: 32px;\n",
              "    padding: 0;\n",
              "    width: 32px;\n",
              "  }\n",
              "\n",
              "  .colab-df-quickchart:hover {\n",
              "    background-color: var(--hover-bg-color);\n",
              "    box-shadow: 0 1px 2px rgba(60, 64, 67, 0.3), 0 1px 3px 1px rgba(60, 64, 67, 0.15);\n",
              "    fill: var(--button-hover-fill-color);\n",
              "  }\n",
              "\n",
              "  .colab-df-quickchart-complete:disabled,\n",
              "  .colab-df-quickchart-complete:disabled:hover {\n",
              "    background-color: var(--disabled-bg-color);\n",
              "    fill: var(--disabled-fill-color);\n",
              "    box-shadow: none;\n",
              "  }\n",
              "\n",
              "  .colab-df-spinner {\n",
              "    border: 2px solid var(--fill-color);\n",
              "    border-color: transparent;\n",
              "    border-bottom-color: var(--fill-color);\n",
              "    animation:\n",
              "      spin 1s steps(1) infinite;\n",
              "  }\n",
              "\n",
              "  @keyframes spin {\n",
              "    0% {\n",
              "      border-color: transparent;\n",
              "      border-bottom-color: var(--fill-color);\n",
              "      border-left-color: var(--fill-color);\n",
              "    }\n",
              "    20% {\n",
              "      border-color: transparent;\n",
              "      border-left-color: var(--fill-color);\n",
              "      border-top-color: var(--fill-color);\n",
              "    }\n",
              "    30% {\n",
              "      border-color: transparent;\n",
              "      border-left-color: var(--fill-color);\n",
              "      border-top-color: var(--fill-color);\n",
              "      border-right-color: var(--fill-color);\n",
              "    }\n",
              "    40% {\n",
              "      border-color: transparent;\n",
              "      border-right-color: var(--fill-color);\n",
              "      border-top-color: var(--fill-color);\n",
              "    }\n",
              "    60% {\n",
              "      border-color: transparent;\n",
              "      border-right-color: var(--fill-color);\n",
              "    }\n",
              "    80% {\n",
              "      border-color: transparent;\n",
              "      border-right-color: var(--fill-color);\n",
              "      border-bottom-color: var(--fill-color);\n",
              "    }\n",
              "    90% {\n",
              "      border-color: transparent;\n",
              "      border-bottom-color: var(--fill-color);\n",
              "    }\n",
              "  }\n",
              "</style>\n",
              "\n",
              "  <script>\n",
              "    async function quickchart(key) {\n",
              "      const quickchartButtonEl =\n",
              "        document.querySelector('#' + key + ' button');\n",
              "      quickchartButtonEl.disabled = true;  // To prevent multiple clicks.\n",
              "      quickchartButtonEl.classList.add('colab-df-spinner');\n",
              "      try {\n",
              "        const charts = await google.colab.kernel.invokeFunction(\n",
              "            'suggestCharts', [key], {});\n",
              "      } catch (error) {\n",
              "        console.error('Error during call to suggestCharts:', error);\n",
              "      }\n",
              "      quickchartButtonEl.classList.remove('colab-df-spinner');\n",
              "      quickchartButtonEl.classList.add('colab-df-quickchart-complete');\n",
              "    }\n",
              "    (() => {\n",
              "      let quickchartButtonEl =\n",
              "        document.querySelector('#df-a2205298-efc0-42db-a9ae-4d6150e40e63 button');\n",
              "      quickchartButtonEl.style.display =\n",
              "        google.colab.kernel.accessAllowed ? 'block' : 'none';\n",
              "    })();\n",
              "  </script>\n",
              "</div>\n",
              "\n",
              "  <div id=\"id_65d12743-900a-4c69-b233-bf3f420f7b14\">\n",
              "    <style>\n",
              "      .colab-df-generate {\n",
              "        background-color: #E8F0FE;\n",
              "        border: none;\n",
              "        border-radius: 50%;\n",
              "        cursor: pointer;\n",
              "        display: none;\n",
              "        fill: #1967D2;\n",
              "        height: 32px;\n",
              "        padding: 0 0 0 0;\n",
              "        width: 32px;\n",
              "      }\n",
              "\n",
              "      .colab-df-generate:hover {\n",
              "        background-color: #E2EBFA;\n",
              "        box-shadow: 0px 1px 2px rgba(60, 64, 67, 0.3), 0px 1px 3px 1px rgba(60, 64, 67, 0.15);\n",
              "        fill: #174EA6;\n",
              "      }\n",
              "\n",
              "      [theme=dark] .colab-df-generate {\n",
              "        background-color: #3B4455;\n",
              "        fill: #D2E3FC;\n",
              "      }\n",
              "\n",
              "      [theme=dark] .colab-df-generate:hover {\n",
              "        background-color: #434B5C;\n",
              "        box-shadow: 0px 1px 3px 1px rgba(0, 0, 0, 0.15);\n",
              "        filter: drop-shadow(0px 1px 2px rgba(0, 0, 0, 0.3));\n",
              "        fill: #FFFFFF;\n",
              "      }\n",
              "    </style>\n",
              "    <button class=\"colab-df-generate\" onclick=\"generateWithVariable('df_predicted')\"\n",
              "            title=\"Generate code using this dataframe.\"\n",
              "            style=\"display:none;\">\n",
              "\n",
              "  <svg xmlns=\"http://www.w3.org/2000/svg\" height=\"24px\"viewBox=\"0 0 24 24\"\n",
              "       width=\"24px\">\n",
              "    <path d=\"M7,19H8.4L18.45,9,17,7.55,7,17.6ZM5,21V16.75L18.45,3.32a2,2,0,0,1,2.83,0l1.4,1.43a1.91,1.91,0,0,1,.58,1.4,1.91,1.91,0,0,1-.58,1.4L9.25,21ZM18.45,9,17,7.55Zm-12,3A5.31,5.31,0,0,0,4.9,8.1,5.31,5.31,0,0,0,1,6.5,5.31,5.31,0,0,0,4.9,4.9,5.31,5.31,0,0,0,6.5,1,5.31,5.31,0,0,0,8.1,4.9,5.31,5.31,0,0,0,12,6.5,5.46,5.46,0,0,0,6.5,12Z\"/>\n",
              "  </svg>\n",
              "    </button>\n",
              "    <script>\n",
              "      (() => {\n",
              "      const buttonEl =\n",
              "        document.querySelector('#id_65d12743-900a-4c69-b233-bf3f420f7b14 button.colab-df-generate');\n",
              "      buttonEl.style.display =\n",
              "        google.colab.kernel.accessAllowed ? 'block' : 'none';\n",
              "\n",
              "      buttonEl.onclick = () => {\n",
              "        google.colab.notebook.generateWithVariable('df_predicted');\n",
              "      }\n",
              "      })();\n",
              "    </script>\n",
              "  </div>\n",
              "\n",
              "    </div>\n",
              "  </div>\n"
            ],
            "application/vnd.google.colaboratory.intrinsic+json": {
              "type": "dataframe",
              "variable_name": "df_predicted",
              "summary": "{\n  \"name\": \"df_predicted\",\n  \"rows\": 149,\n  \"fields\": [\n    {\n      \"column\": \"AGGRESSIVE\",\n      \"properties\": {\n        \"dtype\": \"float32\",\n        \"num_unique_values\": 149,\n        \"samples\": [\n          0.05895638093352318,\n          0.07816460728645325,\n          0.982619047164917\n        ],\n        \"semantic_type\": \"\",\n        \"description\": \"\"\n      }\n    },\n    {\n      \"column\": \"NORMAL\",\n      \"properties\": {\n        \"dtype\": \"float32\",\n        \"num_unique_values\": 149,\n        \"samples\": [\n          0.3577699363231659,\n          0.36816826462745667,\n          0.014141996391117573\n        ],\n        \"semantic_type\": \"\",\n        \"description\": \"\"\n      }\n    },\n    {\n      \"column\": \"SLOW\",\n      \"properties\": {\n        \"dtype\": \"float32\",\n        \"num_unique_values\": 149,\n        \"samples\": [\n          0.583273708820343,\n          0.5536671280860901,\n          0.003238988108932972\n        ],\n        \"semantic_type\": \"\",\n        \"description\": \"\"\n      }\n    }\n  ]\n}"
            }
          },
          "metadata": {},
          "execution_count": 26
        }
      ],
      "source": [
        "# Transform the predicted scores array to a pretty Dataframe ^^\n",
        "df_predicted = pd.DataFrame(y_pred, columns=['AGGRESSIVE', 'NORMAL', 'SLOW'])\n",
        "df_predicted"
      ]
    },
    {
      "cell_type": "code",
      "execution_count": 32,
      "id": "d6f46a3a",
      "metadata": {
        "execution": {
          "iopub.execute_input": "2022-06-05T13:46:34.109740Z",
          "iopub.status.busy": "2022-06-05T13:46:34.108715Z",
          "iopub.status.idle": "2022-06-05T13:46:34.125142Z",
          "shell.execute_reply": "2022-06-05T13:46:34.124427Z"
        },
        "papermill": {
          "duration": 0.032817,
          "end_time": "2022-06-05T13:46:34.127033",
          "exception": false,
          "start_time": "2022-06-05T13:46:34.094216",
          "status": "completed"
        },
        "tags": [],
        "colab": {
          "base_uri": "https://localhost:8080/",
          "height": 423
        },
        "id": "d6f46a3a",
        "outputId": "68d3583f-d312-4309-f5ae-add1bbc59d65"
      },
      "outputs": [
        {
          "output_type": "execute_result",
          "data": {
            "text/plain": [
              "    Original Class\n",
              "0             SLOW\n",
              "1             SLOW\n",
              "2             SLOW\n",
              "3             SLOW\n",
              "4             SLOW\n",
              "..             ...\n",
              "144     AGGRESSIVE\n",
              "145     AGGRESSIVE\n",
              "146     AGGRESSIVE\n",
              "147     AGGRESSIVE\n",
              "148     AGGRESSIVE\n",
              "\n",
              "[149 rows x 1 columns]"
            ],
            "text/html": [
              "\n",
              "  <div id=\"df-65ea164d-5281-4121-b617-22418ff24970\" class=\"colab-df-container\">\n",
              "    <div>\n",
              "<style scoped>\n",
              "    .dataframe tbody tr th:only-of-type {\n",
              "        vertical-align: middle;\n",
              "    }\n",
              "\n",
              "    .dataframe tbody tr th {\n",
              "        vertical-align: top;\n",
              "    }\n",
              "\n",
              "    .dataframe thead th {\n",
              "        text-align: right;\n",
              "    }\n",
              "</style>\n",
              "<table border=\"1\" class=\"dataframe\">\n",
              "  <thead>\n",
              "    <tr style=\"text-align: right;\">\n",
              "      <th></th>\n",
              "      <th>Original Class</th>\n",
              "    </tr>\n",
              "  </thead>\n",
              "  <tbody>\n",
              "    <tr>\n",
              "      <th>0</th>\n",
              "      <td>SLOW</td>\n",
              "    </tr>\n",
              "    <tr>\n",
              "      <th>1</th>\n",
              "      <td>SLOW</td>\n",
              "    </tr>\n",
              "    <tr>\n",
              "      <th>2</th>\n",
              "      <td>SLOW</td>\n",
              "    </tr>\n",
              "    <tr>\n",
              "      <th>3</th>\n",
              "      <td>SLOW</td>\n",
              "    </tr>\n",
              "    <tr>\n",
              "      <th>4</th>\n",
              "      <td>SLOW</td>\n",
              "    </tr>\n",
              "    <tr>\n",
              "      <th>...</th>\n",
              "      <td>...</td>\n",
              "    </tr>\n",
              "    <tr>\n",
              "      <th>144</th>\n",
              "      <td>AGGRESSIVE</td>\n",
              "    </tr>\n",
              "    <tr>\n",
              "      <th>145</th>\n",
              "      <td>AGGRESSIVE</td>\n",
              "    </tr>\n",
              "    <tr>\n",
              "      <th>146</th>\n",
              "      <td>AGGRESSIVE</td>\n",
              "    </tr>\n",
              "    <tr>\n",
              "      <th>147</th>\n",
              "      <td>AGGRESSIVE</td>\n",
              "    </tr>\n",
              "    <tr>\n",
              "      <th>148</th>\n",
              "      <td>AGGRESSIVE</td>\n",
              "    </tr>\n",
              "  </tbody>\n",
              "</table>\n",
              "<p>149 rows × 1 columns</p>\n",
              "</div>\n",
              "    <div class=\"colab-df-buttons\">\n",
              "\n",
              "  <div class=\"colab-df-container\">\n",
              "    <button class=\"colab-df-convert\" onclick=\"convertToInteractive('df-65ea164d-5281-4121-b617-22418ff24970')\"\n",
              "            title=\"Convert this dataframe to an interactive table.\"\n",
              "            style=\"display:none;\">\n",
              "\n",
              "  <svg xmlns=\"http://www.w3.org/2000/svg\" height=\"24px\" viewBox=\"0 -960 960 960\">\n",
              "    <path d=\"M120-120v-720h720v720H120Zm60-500h600v-160H180v160Zm220 220h160v-160H400v160Zm0 220h160v-160H400v160ZM180-400h160v-160H180v160Zm440 0h160v-160H620v160ZM180-180h160v-160H180v160Zm440 0h160v-160H620v160Z\"/>\n",
              "  </svg>\n",
              "    </button>\n",
              "\n",
              "  <style>\n",
              "    .colab-df-container {\n",
              "      display:flex;\n",
              "      gap: 12px;\n",
              "    }\n",
              "\n",
              "    .colab-df-convert {\n",
              "      background-color: #E8F0FE;\n",
              "      border: none;\n",
              "      border-radius: 50%;\n",
              "      cursor: pointer;\n",
              "      display: none;\n",
              "      fill: #1967D2;\n",
              "      height: 32px;\n",
              "      padding: 0 0 0 0;\n",
              "      width: 32px;\n",
              "    }\n",
              "\n",
              "    .colab-df-convert:hover {\n",
              "      background-color: #E2EBFA;\n",
              "      box-shadow: 0px 1px 2px rgba(60, 64, 67, 0.3), 0px 1px 3px 1px rgba(60, 64, 67, 0.15);\n",
              "      fill: #174EA6;\n",
              "    }\n",
              "\n",
              "    .colab-df-buttons div {\n",
              "      margin-bottom: 4px;\n",
              "    }\n",
              "\n",
              "    [theme=dark] .colab-df-convert {\n",
              "      background-color: #3B4455;\n",
              "      fill: #D2E3FC;\n",
              "    }\n",
              "\n",
              "    [theme=dark] .colab-df-convert:hover {\n",
              "      background-color: #434B5C;\n",
              "      box-shadow: 0px 1px 3px 1px rgba(0, 0, 0, 0.15);\n",
              "      filter: drop-shadow(0px 1px 2px rgba(0, 0, 0, 0.3));\n",
              "      fill: #FFFFFF;\n",
              "    }\n",
              "  </style>\n",
              "\n",
              "    <script>\n",
              "      const buttonEl =\n",
              "        document.querySelector('#df-65ea164d-5281-4121-b617-22418ff24970 button.colab-df-convert');\n",
              "      buttonEl.style.display =\n",
              "        google.colab.kernel.accessAllowed ? 'block' : 'none';\n",
              "\n",
              "      async function convertToInteractive(key) {\n",
              "        const element = document.querySelector('#df-65ea164d-5281-4121-b617-22418ff24970');\n",
              "        const dataTable =\n",
              "          await google.colab.kernel.invokeFunction('convertToInteractive',\n",
              "                                                    [key], {});\n",
              "        if (!dataTable) return;\n",
              "\n",
              "        const docLinkHtml = 'Like what you see? Visit the ' +\n",
              "          '<a target=\"_blank\" href=https://colab.research.google.com/notebooks/data_table.ipynb>data table notebook</a>'\n",
              "          + ' to learn more about interactive tables.';\n",
              "        element.innerHTML = '';\n",
              "        dataTable['output_type'] = 'display_data';\n",
              "        await google.colab.output.renderOutput(dataTable, element);\n",
              "        const docLink = document.createElement('div');\n",
              "        docLink.innerHTML = docLinkHtml;\n",
              "        element.appendChild(docLink);\n",
              "      }\n",
              "    </script>\n",
              "  </div>\n",
              "\n",
              "\n",
              "<div id=\"df-3c81e7f0-e5dc-46bc-802f-9e61be698969\">\n",
              "  <button class=\"colab-df-quickchart\" onclick=\"quickchart('df-3c81e7f0-e5dc-46bc-802f-9e61be698969')\"\n",
              "            title=\"Suggest charts\"\n",
              "            style=\"display:none;\">\n",
              "\n",
              "<svg xmlns=\"http://www.w3.org/2000/svg\" height=\"24px\"viewBox=\"0 0 24 24\"\n",
              "     width=\"24px\">\n",
              "    <g>\n",
              "        <path d=\"M19 3H5c-1.1 0-2 .9-2 2v14c0 1.1.9 2 2 2h14c1.1 0 2-.9 2-2V5c0-1.1-.9-2-2-2zM9 17H7v-7h2v7zm4 0h-2V7h2v10zm4 0h-2v-4h2v4z\"/>\n",
              "    </g>\n",
              "</svg>\n",
              "  </button>\n",
              "\n",
              "<style>\n",
              "  .colab-df-quickchart {\n",
              "      --bg-color: #E8F0FE;\n",
              "      --fill-color: #1967D2;\n",
              "      --hover-bg-color: #E2EBFA;\n",
              "      --hover-fill-color: #174EA6;\n",
              "      --disabled-fill-color: #AAA;\n",
              "      --disabled-bg-color: #DDD;\n",
              "  }\n",
              "\n",
              "  [theme=dark] .colab-df-quickchart {\n",
              "      --bg-color: #3B4455;\n",
              "      --fill-color: #D2E3FC;\n",
              "      --hover-bg-color: #434B5C;\n",
              "      --hover-fill-color: #FFFFFF;\n",
              "      --disabled-bg-color: #3B4455;\n",
              "      --disabled-fill-color: #666;\n",
              "  }\n",
              "\n",
              "  .colab-df-quickchart {\n",
              "    background-color: var(--bg-color);\n",
              "    border: none;\n",
              "    border-radius: 50%;\n",
              "    cursor: pointer;\n",
              "    display: none;\n",
              "    fill: var(--fill-color);\n",
              "    height: 32px;\n",
              "    padding: 0;\n",
              "    width: 32px;\n",
              "  }\n",
              "\n",
              "  .colab-df-quickchart:hover {\n",
              "    background-color: var(--hover-bg-color);\n",
              "    box-shadow: 0 1px 2px rgba(60, 64, 67, 0.3), 0 1px 3px 1px rgba(60, 64, 67, 0.15);\n",
              "    fill: var(--button-hover-fill-color);\n",
              "  }\n",
              "\n",
              "  .colab-df-quickchart-complete:disabled,\n",
              "  .colab-df-quickchart-complete:disabled:hover {\n",
              "    background-color: var(--disabled-bg-color);\n",
              "    fill: var(--disabled-fill-color);\n",
              "    box-shadow: none;\n",
              "  }\n",
              "\n",
              "  .colab-df-spinner {\n",
              "    border: 2px solid var(--fill-color);\n",
              "    border-color: transparent;\n",
              "    border-bottom-color: var(--fill-color);\n",
              "    animation:\n",
              "      spin 1s steps(1) infinite;\n",
              "  }\n",
              "\n",
              "  @keyframes spin {\n",
              "    0% {\n",
              "      border-color: transparent;\n",
              "      border-bottom-color: var(--fill-color);\n",
              "      border-left-color: var(--fill-color);\n",
              "    }\n",
              "    20% {\n",
              "      border-color: transparent;\n",
              "      border-left-color: var(--fill-color);\n",
              "      border-top-color: var(--fill-color);\n",
              "    }\n",
              "    30% {\n",
              "      border-color: transparent;\n",
              "      border-left-color: var(--fill-color);\n",
              "      border-top-color: var(--fill-color);\n",
              "      border-right-color: var(--fill-color);\n",
              "    }\n",
              "    40% {\n",
              "      border-color: transparent;\n",
              "      border-right-color: var(--fill-color);\n",
              "      border-top-color: var(--fill-color);\n",
              "    }\n",
              "    60% {\n",
              "      border-color: transparent;\n",
              "      border-right-color: var(--fill-color);\n",
              "    }\n",
              "    80% {\n",
              "      border-color: transparent;\n",
              "      border-right-color: var(--fill-color);\n",
              "      border-bottom-color: var(--fill-color);\n",
              "    }\n",
              "    90% {\n",
              "      border-color: transparent;\n",
              "      border-bottom-color: var(--fill-color);\n",
              "    }\n",
              "  }\n",
              "</style>\n",
              "\n",
              "  <script>\n",
              "    async function quickchart(key) {\n",
              "      const quickchartButtonEl =\n",
              "        document.querySelector('#' + key + ' button');\n",
              "      quickchartButtonEl.disabled = true;  // To prevent multiple clicks.\n",
              "      quickchartButtonEl.classList.add('colab-df-spinner');\n",
              "      try {\n",
              "        const charts = await google.colab.kernel.invokeFunction(\n",
              "            'suggestCharts', [key], {});\n",
              "      } catch (error) {\n",
              "        console.error('Error during call to suggestCharts:', error);\n",
              "      }\n",
              "      quickchartButtonEl.classList.remove('colab-df-spinner');\n",
              "      quickchartButtonEl.classList.add('colab-df-quickchart-complete');\n",
              "    }\n",
              "    (() => {\n",
              "      let quickchartButtonEl =\n",
              "        document.querySelector('#df-3c81e7f0-e5dc-46bc-802f-9e61be698969 button');\n",
              "      quickchartButtonEl.style.display =\n",
              "        google.colab.kernel.accessAllowed ? 'block' : 'none';\n",
              "    })();\n",
              "  </script>\n",
              "</div>\n",
              "\n",
              "  <div id=\"id_ca28ce71-a374-4c72-8fe2-fd41da8c3131\">\n",
              "    <style>\n",
              "      .colab-df-generate {\n",
              "        background-color: #E8F0FE;\n",
              "        border: none;\n",
              "        border-radius: 50%;\n",
              "        cursor: pointer;\n",
              "        display: none;\n",
              "        fill: #1967D2;\n",
              "        height: 32px;\n",
              "        padding: 0 0 0 0;\n",
              "        width: 32px;\n",
              "      }\n",
              "\n",
              "      .colab-df-generate:hover {\n",
              "        background-color: #E2EBFA;\n",
              "        box-shadow: 0px 1px 2px rgba(60, 64, 67, 0.3), 0px 1px 3px 1px rgba(60, 64, 67, 0.15);\n",
              "        fill: #174EA6;\n",
              "      }\n",
              "\n",
              "      [theme=dark] .colab-df-generate {\n",
              "        background-color: #3B4455;\n",
              "        fill: #D2E3FC;\n",
              "      }\n",
              "\n",
              "      [theme=dark] .colab-df-generate:hover {\n",
              "        background-color: #434B5C;\n",
              "        box-shadow: 0px 1px 3px 1px rgba(0, 0, 0, 0.15);\n",
              "        filter: drop-shadow(0px 1px 2px rgba(0, 0, 0, 0.3));\n",
              "        fill: #FFFFFF;\n",
              "      }\n",
              "    </style>\n",
              "    <button class=\"colab-df-generate\" onclick=\"generateWithVariable('df_actual')\"\n",
              "            title=\"Generate code using this dataframe.\"\n",
              "            style=\"display:none;\">\n",
              "\n",
              "  <svg xmlns=\"http://www.w3.org/2000/svg\" height=\"24px\"viewBox=\"0 0 24 24\"\n",
              "       width=\"24px\">\n",
              "    <path d=\"M7,19H8.4L18.45,9,17,7.55,7,17.6ZM5,21V16.75L18.45,3.32a2,2,0,0,1,2.83,0l1.4,1.43a1.91,1.91,0,0,1,.58,1.4,1.91,1.91,0,0,1-.58,1.4L9.25,21ZM18.45,9,17,7.55Zm-12,3A5.31,5.31,0,0,0,4.9,8.1,5.31,5.31,0,0,0,1,6.5,5.31,5.31,0,0,0,4.9,4.9,5.31,5.31,0,0,0,6.5,1,5.31,5.31,0,0,0,8.1,4.9,5.31,5.31,0,0,0,12,6.5,5.46,5.46,0,0,0,6.5,12Z\"/>\n",
              "  </svg>\n",
              "    </button>\n",
              "    <script>\n",
              "      (() => {\n",
              "      const buttonEl =\n",
              "        document.querySelector('#id_ca28ce71-a374-4c72-8fe2-fd41da8c3131 button.colab-df-generate');\n",
              "      buttonEl.style.display =\n",
              "        google.colab.kernel.accessAllowed ? 'block' : 'none';\n",
              "\n",
              "      buttonEl.onclick = () => {\n",
              "        google.colab.notebook.generateWithVariable('df_actual');\n",
              "      }\n",
              "      })();\n",
              "    </script>\n",
              "  </div>\n",
              "\n",
              "    </div>\n",
              "  </div>\n"
            ],
            "application/vnd.google.colaboratory.intrinsic+json": {
              "type": "dataframe",
              "variable_name": "df_actual",
              "summary": "{\n  \"name\": \"df_actual\",\n  \"rows\": 149,\n  \"fields\": [\n    {\n      \"column\": \"Original Class\",\n      \"properties\": {\n        \"dtype\": \"category\",\n        \"num_unique_values\": 3,\n        \"samples\": [\n          \"SLOW\",\n          \"NORMAL\",\n          \"AGGRESSIVE\"\n        ],\n        \"semantic_type\": \"\",\n        \"description\": \"\"\n      }\n    }\n  ]\n}"
            }
          },
          "metadata": {},
          "execution_count": 32
        }
      ],
      "source": [
        "import numpy as np\n",
        "# Reverse the one hot encoded vector\n",
        "actual_y_test = np.argmax(y_test, axis=1)\n",
        "array_actual = labelEncoder.inverse_transform(actual_y_test)\n",
        "\n",
        "# Transform the given class array to a Dataframe\n",
        "df_actual = pd.DataFrame(array_actual, columns = ['Original Class'])\n",
        "df_actual"
      ]
    },
    {
      "cell_type": "code",
      "execution_count": 33,
      "id": "d5cf8a30",
      "metadata": {
        "execution": {
          "iopub.execute_input": "2022-06-05T13:46:34.156942Z",
          "iopub.status.busy": "2022-06-05T13:46:34.156235Z",
          "iopub.status.idle": "2022-06-05T13:46:34.171073Z",
          "shell.execute_reply": "2022-06-05T13:46:34.170417Z"
        },
        "papermill": {
          "duration": 0.031826,
          "end_time": "2022-06-05T13:46:34.172998",
          "exception": false,
          "start_time": "2022-06-05T13:46:34.141172",
          "status": "completed"
        },
        "tags": [],
        "colab": {
          "base_uri": "https://localhost:8080/",
          "height": 423
        },
        "id": "d5cf8a30",
        "outputId": "4857a0c1-8477-48c2-fa8c-865f87157adb"
      },
      "outputs": [
        {
          "output_type": "execute_result",
          "data": {
            "text/plain": [
              "     AGGRESSIVE    NORMAL      SLOW Original Class\n",
              "0      0.062607  0.361603  0.575790           SLOW\n",
              "1      0.062668  0.362977  0.574355           SLOW\n",
              "2      0.059955  0.359396  0.580650           SLOW\n",
              "3      0.059901  0.360850  0.579249           SLOW\n",
              "4      0.072945  0.369366  0.557688           SLOW\n",
              "..          ...       ...       ...            ...\n",
              "144    0.980233  0.015911  0.003856     AGGRESSIVE\n",
              "145    0.976427  0.018492  0.005081     AGGRESSIVE\n",
              "146    0.674110  0.188575  0.137316     AGGRESSIVE\n",
              "147    0.058363  0.357696  0.583941     AGGRESSIVE\n",
              "148    0.070250  0.379199  0.550552     AGGRESSIVE\n",
              "\n",
              "[149 rows x 4 columns]"
            ],
            "text/html": [
              "\n",
              "  <div id=\"df-5fcf200f-4a94-42c9-9db3-fb49aa50d953\" class=\"colab-df-container\">\n",
              "    <div>\n",
              "<style scoped>\n",
              "    .dataframe tbody tr th:only-of-type {\n",
              "        vertical-align: middle;\n",
              "    }\n",
              "\n",
              "    .dataframe tbody tr th {\n",
              "        vertical-align: top;\n",
              "    }\n",
              "\n",
              "    .dataframe thead th {\n",
              "        text-align: right;\n",
              "    }\n",
              "</style>\n",
              "<table border=\"1\" class=\"dataframe\">\n",
              "  <thead>\n",
              "    <tr style=\"text-align: right;\">\n",
              "      <th></th>\n",
              "      <th>AGGRESSIVE</th>\n",
              "      <th>NORMAL</th>\n",
              "      <th>SLOW</th>\n",
              "      <th>Original Class</th>\n",
              "    </tr>\n",
              "  </thead>\n",
              "  <tbody>\n",
              "    <tr>\n",
              "      <th>0</th>\n",
              "      <td>0.062607</td>\n",
              "      <td>0.361603</td>\n",
              "      <td>0.575790</td>\n",
              "      <td>SLOW</td>\n",
              "    </tr>\n",
              "    <tr>\n",
              "      <th>1</th>\n",
              "      <td>0.062668</td>\n",
              "      <td>0.362977</td>\n",
              "      <td>0.574355</td>\n",
              "      <td>SLOW</td>\n",
              "    </tr>\n",
              "    <tr>\n",
              "      <th>2</th>\n",
              "      <td>0.059955</td>\n",
              "      <td>0.359396</td>\n",
              "      <td>0.580650</td>\n",
              "      <td>SLOW</td>\n",
              "    </tr>\n",
              "    <tr>\n",
              "      <th>3</th>\n",
              "      <td>0.059901</td>\n",
              "      <td>0.360850</td>\n",
              "      <td>0.579249</td>\n",
              "      <td>SLOW</td>\n",
              "    </tr>\n",
              "    <tr>\n",
              "      <th>4</th>\n",
              "      <td>0.072945</td>\n",
              "      <td>0.369366</td>\n",
              "      <td>0.557688</td>\n",
              "      <td>SLOW</td>\n",
              "    </tr>\n",
              "    <tr>\n",
              "      <th>...</th>\n",
              "      <td>...</td>\n",
              "      <td>...</td>\n",
              "      <td>...</td>\n",
              "      <td>...</td>\n",
              "    </tr>\n",
              "    <tr>\n",
              "      <th>144</th>\n",
              "      <td>0.980233</td>\n",
              "      <td>0.015911</td>\n",
              "      <td>0.003856</td>\n",
              "      <td>AGGRESSIVE</td>\n",
              "    </tr>\n",
              "    <tr>\n",
              "      <th>145</th>\n",
              "      <td>0.976427</td>\n",
              "      <td>0.018492</td>\n",
              "      <td>0.005081</td>\n",
              "      <td>AGGRESSIVE</td>\n",
              "    </tr>\n",
              "    <tr>\n",
              "      <th>146</th>\n",
              "      <td>0.674110</td>\n",
              "      <td>0.188575</td>\n",
              "      <td>0.137316</td>\n",
              "      <td>AGGRESSIVE</td>\n",
              "    </tr>\n",
              "    <tr>\n",
              "      <th>147</th>\n",
              "      <td>0.058363</td>\n",
              "      <td>0.357696</td>\n",
              "      <td>0.583941</td>\n",
              "      <td>AGGRESSIVE</td>\n",
              "    </tr>\n",
              "    <tr>\n",
              "      <th>148</th>\n",
              "      <td>0.070250</td>\n",
              "      <td>0.379199</td>\n",
              "      <td>0.550552</td>\n",
              "      <td>AGGRESSIVE</td>\n",
              "    </tr>\n",
              "  </tbody>\n",
              "</table>\n",
              "<p>149 rows × 4 columns</p>\n",
              "</div>\n",
              "    <div class=\"colab-df-buttons\">\n",
              "\n",
              "  <div class=\"colab-df-container\">\n",
              "    <button class=\"colab-df-convert\" onclick=\"convertToInteractive('df-5fcf200f-4a94-42c9-9db3-fb49aa50d953')\"\n",
              "            title=\"Convert this dataframe to an interactive table.\"\n",
              "            style=\"display:none;\">\n",
              "\n",
              "  <svg xmlns=\"http://www.w3.org/2000/svg\" height=\"24px\" viewBox=\"0 -960 960 960\">\n",
              "    <path d=\"M120-120v-720h720v720H120Zm60-500h600v-160H180v160Zm220 220h160v-160H400v160Zm0 220h160v-160H400v160ZM180-400h160v-160H180v160Zm440 0h160v-160H620v160ZM180-180h160v-160H180v160Zm440 0h160v-160H620v160Z\"/>\n",
              "  </svg>\n",
              "    </button>\n",
              "\n",
              "  <style>\n",
              "    .colab-df-container {\n",
              "      display:flex;\n",
              "      gap: 12px;\n",
              "    }\n",
              "\n",
              "    .colab-df-convert {\n",
              "      background-color: #E8F0FE;\n",
              "      border: none;\n",
              "      border-radius: 50%;\n",
              "      cursor: pointer;\n",
              "      display: none;\n",
              "      fill: #1967D2;\n",
              "      height: 32px;\n",
              "      padding: 0 0 0 0;\n",
              "      width: 32px;\n",
              "    }\n",
              "\n",
              "    .colab-df-convert:hover {\n",
              "      background-color: #E2EBFA;\n",
              "      box-shadow: 0px 1px 2px rgba(60, 64, 67, 0.3), 0px 1px 3px 1px rgba(60, 64, 67, 0.15);\n",
              "      fill: #174EA6;\n",
              "    }\n",
              "\n",
              "    .colab-df-buttons div {\n",
              "      margin-bottom: 4px;\n",
              "    }\n",
              "\n",
              "    [theme=dark] .colab-df-convert {\n",
              "      background-color: #3B4455;\n",
              "      fill: #D2E3FC;\n",
              "    }\n",
              "\n",
              "    [theme=dark] .colab-df-convert:hover {\n",
              "      background-color: #434B5C;\n",
              "      box-shadow: 0px 1px 3px 1px rgba(0, 0, 0, 0.15);\n",
              "      filter: drop-shadow(0px 1px 2px rgba(0, 0, 0, 0.3));\n",
              "      fill: #FFFFFF;\n",
              "    }\n",
              "  </style>\n",
              "\n",
              "    <script>\n",
              "      const buttonEl =\n",
              "        document.querySelector('#df-5fcf200f-4a94-42c9-9db3-fb49aa50d953 button.colab-df-convert');\n",
              "      buttonEl.style.display =\n",
              "        google.colab.kernel.accessAllowed ? 'block' : 'none';\n",
              "\n",
              "      async function convertToInteractive(key) {\n",
              "        const element = document.querySelector('#df-5fcf200f-4a94-42c9-9db3-fb49aa50d953');\n",
              "        const dataTable =\n",
              "          await google.colab.kernel.invokeFunction('convertToInteractive',\n",
              "                                                    [key], {});\n",
              "        if (!dataTable) return;\n",
              "\n",
              "        const docLinkHtml = 'Like what you see? Visit the ' +\n",
              "          '<a target=\"_blank\" href=https://colab.research.google.com/notebooks/data_table.ipynb>data table notebook</a>'\n",
              "          + ' to learn more about interactive tables.';\n",
              "        element.innerHTML = '';\n",
              "        dataTable['output_type'] = 'display_data';\n",
              "        await google.colab.output.renderOutput(dataTable, element);\n",
              "        const docLink = document.createElement('div');\n",
              "        docLink.innerHTML = docLinkHtml;\n",
              "        element.appendChild(docLink);\n",
              "      }\n",
              "    </script>\n",
              "  </div>\n",
              "\n",
              "\n",
              "<div id=\"df-c41f12bc-d6e6-4565-b442-cb7d5023b518\">\n",
              "  <button class=\"colab-df-quickchart\" onclick=\"quickchart('df-c41f12bc-d6e6-4565-b442-cb7d5023b518')\"\n",
              "            title=\"Suggest charts\"\n",
              "            style=\"display:none;\">\n",
              "\n",
              "<svg xmlns=\"http://www.w3.org/2000/svg\" height=\"24px\"viewBox=\"0 0 24 24\"\n",
              "     width=\"24px\">\n",
              "    <g>\n",
              "        <path d=\"M19 3H5c-1.1 0-2 .9-2 2v14c0 1.1.9 2 2 2h14c1.1 0 2-.9 2-2V5c0-1.1-.9-2-2-2zM9 17H7v-7h2v7zm4 0h-2V7h2v10zm4 0h-2v-4h2v4z\"/>\n",
              "    </g>\n",
              "</svg>\n",
              "  </button>\n",
              "\n",
              "<style>\n",
              "  .colab-df-quickchart {\n",
              "      --bg-color: #E8F0FE;\n",
              "      --fill-color: #1967D2;\n",
              "      --hover-bg-color: #E2EBFA;\n",
              "      --hover-fill-color: #174EA6;\n",
              "      --disabled-fill-color: #AAA;\n",
              "      --disabled-bg-color: #DDD;\n",
              "  }\n",
              "\n",
              "  [theme=dark] .colab-df-quickchart {\n",
              "      --bg-color: #3B4455;\n",
              "      --fill-color: #D2E3FC;\n",
              "      --hover-bg-color: #434B5C;\n",
              "      --hover-fill-color: #FFFFFF;\n",
              "      --disabled-bg-color: #3B4455;\n",
              "      --disabled-fill-color: #666;\n",
              "  }\n",
              "\n",
              "  .colab-df-quickchart {\n",
              "    background-color: var(--bg-color);\n",
              "    border: none;\n",
              "    border-radius: 50%;\n",
              "    cursor: pointer;\n",
              "    display: none;\n",
              "    fill: var(--fill-color);\n",
              "    height: 32px;\n",
              "    padding: 0;\n",
              "    width: 32px;\n",
              "  }\n",
              "\n",
              "  .colab-df-quickchart:hover {\n",
              "    background-color: var(--hover-bg-color);\n",
              "    box-shadow: 0 1px 2px rgba(60, 64, 67, 0.3), 0 1px 3px 1px rgba(60, 64, 67, 0.15);\n",
              "    fill: var(--button-hover-fill-color);\n",
              "  }\n",
              "\n",
              "  .colab-df-quickchart-complete:disabled,\n",
              "  .colab-df-quickchart-complete:disabled:hover {\n",
              "    background-color: var(--disabled-bg-color);\n",
              "    fill: var(--disabled-fill-color);\n",
              "    box-shadow: none;\n",
              "  }\n",
              "\n",
              "  .colab-df-spinner {\n",
              "    border: 2px solid var(--fill-color);\n",
              "    border-color: transparent;\n",
              "    border-bottom-color: var(--fill-color);\n",
              "    animation:\n",
              "      spin 1s steps(1) infinite;\n",
              "  }\n",
              "\n",
              "  @keyframes spin {\n",
              "    0% {\n",
              "      border-color: transparent;\n",
              "      border-bottom-color: var(--fill-color);\n",
              "      border-left-color: var(--fill-color);\n",
              "    }\n",
              "    20% {\n",
              "      border-color: transparent;\n",
              "      border-left-color: var(--fill-color);\n",
              "      border-top-color: var(--fill-color);\n",
              "    }\n",
              "    30% {\n",
              "      border-color: transparent;\n",
              "      border-left-color: var(--fill-color);\n",
              "      border-top-color: var(--fill-color);\n",
              "      border-right-color: var(--fill-color);\n",
              "    }\n",
              "    40% {\n",
              "      border-color: transparent;\n",
              "      border-right-color: var(--fill-color);\n",
              "      border-top-color: var(--fill-color);\n",
              "    }\n",
              "    60% {\n",
              "      border-color: transparent;\n",
              "      border-right-color: var(--fill-color);\n",
              "    }\n",
              "    80% {\n",
              "      border-color: transparent;\n",
              "      border-right-color: var(--fill-color);\n",
              "      border-bottom-color: var(--fill-color);\n",
              "    }\n",
              "    90% {\n",
              "      border-color: transparent;\n",
              "      border-bottom-color: var(--fill-color);\n",
              "    }\n",
              "  }\n",
              "</style>\n",
              "\n",
              "  <script>\n",
              "    async function quickchart(key) {\n",
              "      const quickchartButtonEl =\n",
              "        document.querySelector('#' + key + ' button');\n",
              "      quickchartButtonEl.disabled = true;  // To prevent multiple clicks.\n",
              "      quickchartButtonEl.classList.add('colab-df-spinner');\n",
              "      try {\n",
              "        const charts = await google.colab.kernel.invokeFunction(\n",
              "            'suggestCharts', [key], {});\n",
              "      } catch (error) {\n",
              "        console.error('Error during call to suggestCharts:', error);\n",
              "      }\n",
              "      quickchartButtonEl.classList.remove('colab-df-spinner');\n",
              "      quickchartButtonEl.classList.add('colab-df-quickchart-complete');\n",
              "    }\n",
              "    (() => {\n",
              "      let quickchartButtonEl =\n",
              "        document.querySelector('#df-c41f12bc-d6e6-4565-b442-cb7d5023b518 button');\n",
              "      quickchartButtonEl.style.display =\n",
              "        google.colab.kernel.accessAllowed ? 'block' : 'none';\n",
              "    })();\n",
              "  </script>\n",
              "</div>\n",
              "\n",
              "  <div id=\"id_f3fd6a31-1517-46d1-8bcd-577991c580f6\">\n",
              "    <style>\n",
              "      .colab-df-generate {\n",
              "        background-color: #E8F0FE;\n",
              "        border: none;\n",
              "        border-radius: 50%;\n",
              "        cursor: pointer;\n",
              "        display: none;\n",
              "        fill: #1967D2;\n",
              "        height: 32px;\n",
              "        padding: 0 0 0 0;\n",
              "        width: 32px;\n",
              "      }\n",
              "\n",
              "      .colab-df-generate:hover {\n",
              "        background-color: #E2EBFA;\n",
              "        box-shadow: 0px 1px 2px rgba(60, 64, 67, 0.3), 0px 1px 3px 1px rgba(60, 64, 67, 0.15);\n",
              "        fill: #174EA6;\n",
              "      }\n",
              "\n",
              "      [theme=dark] .colab-df-generate {\n",
              "        background-color: #3B4455;\n",
              "        fill: #D2E3FC;\n",
              "      }\n",
              "\n",
              "      [theme=dark] .colab-df-generate:hover {\n",
              "        background-color: #434B5C;\n",
              "        box-shadow: 0px 1px 3px 1px rgba(0, 0, 0, 0.15);\n",
              "        filter: drop-shadow(0px 1px 2px rgba(0, 0, 0, 0.3));\n",
              "        fill: #FFFFFF;\n",
              "      }\n",
              "    </style>\n",
              "    <button class=\"colab-df-generate\" onclick=\"generateWithVariable('df_result')\"\n",
              "            title=\"Generate code using this dataframe.\"\n",
              "            style=\"display:none;\">\n",
              "\n",
              "  <svg xmlns=\"http://www.w3.org/2000/svg\" height=\"24px\"viewBox=\"0 0 24 24\"\n",
              "       width=\"24px\">\n",
              "    <path d=\"M7,19H8.4L18.45,9,17,7.55,7,17.6ZM5,21V16.75L18.45,3.32a2,2,0,0,1,2.83,0l1.4,1.43a1.91,1.91,0,0,1,.58,1.4,1.91,1.91,0,0,1-.58,1.4L9.25,21ZM18.45,9,17,7.55Zm-12,3A5.31,5.31,0,0,0,4.9,8.1,5.31,5.31,0,0,0,1,6.5,5.31,5.31,0,0,0,4.9,4.9,5.31,5.31,0,0,0,6.5,1,5.31,5.31,0,0,0,8.1,4.9,5.31,5.31,0,0,0,12,6.5,5.46,5.46,0,0,0,6.5,12Z\"/>\n",
              "  </svg>\n",
              "    </button>\n",
              "    <script>\n",
              "      (() => {\n",
              "      const buttonEl =\n",
              "        document.querySelector('#id_f3fd6a31-1517-46d1-8bcd-577991c580f6 button.colab-df-generate');\n",
              "      buttonEl.style.display =\n",
              "        google.colab.kernel.accessAllowed ? 'block' : 'none';\n",
              "\n",
              "      buttonEl.onclick = () => {\n",
              "        google.colab.notebook.generateWithVariable('df_result');\n",
              "      }\n",
              "      })();\n",
              "    </script>\n",
              "  </div>\n",
              "\n",
              "    </div>\n",
              "  </div>\n"
            ],
            "application/vnd.google.colaboratory.intrinsic+json": {
              "type": "dataframe",
              "variable_name": "df_result",
              "summary": "{\n  \"name\": \"df_result\",\n  \"rows\": 149,\n  \"fields\": [\n    {\n      \"column\": \"AGGRESSIVE\",\n      \"properties\": {\n        \"dtype\": \"float32\",\n        \"num_unique_values\": 149,\n        \"samples\": [\n          0.05895638093352318,\n          0.07816460728645325,\n          0.982619047164917\n        ],\n        \"semantic_type\": \"\",\n        \"description\": \"\"\n      }\n    },\n    {\n      \"column\": \"NORMAL\",\n      \"properties\": {\n        \"dtype\": \"float32\",\n        \"num_unique_values\": 149,\n        \"samples\": [\n          0.3577699363231659,\n          0.36816826462745667,\n          0.014141996391117573\n        ],\n        \"semantic_type\": \"\",\n        \"description\": \"\"\n      }\n    },\n    {\n      \"column\": \"SLOW\",\n      \"properties\": {\n        \"dtype\": \"float32\",\n        \"num_unique_values\": 149,\n        \"samples\": [\n          0.583273708820343,\n          0.5536671280860901,\n          0.003238988108932972\n        ],\n        \"semantic_type\": \"\",\n        \"description\": \"\"\n      }\n    },\n    {\n      \"column\": \"Original Class\",\n      \"properties\": {\n        \"dtype\": \"category\",\n        \"num_unique_values\": 3,\n        \"samples\": [\n          \"SLOW\",\n          \"NORMAL\",\n          \"AGGRESSIVE\"\n        ],\n        \"semantic_type\": \"\",\n        \"description\": \"\"\n      }\n    }\n  ]\n}"
            }
          },
          "metadata": {},
          "execution_count": 33
        }
      ],
      "source": [
        "# Combine the actual and resulted classes\n",
        "df_result = pd.concat([df_predicted, df_actual], axis=1)\n",
        "df_result"
      ]
    },
    {
      "cell_type": "code",
      "execution_count": 29,
      "id": "972d04a3",
      "metadata": {
        "execution": {
          "iopub.execute_input": "2022-06-05T13:46:34.203513Z",
          "iopub.status.busy": "2022-06-05T13:46:34.202829Z",
          "iopub.status.idle": "2022-06-05T13:46:34.452498Z",
          "shell.execute_reply": "2022-06-05T13:46:34.451439Z"
        },
        "papermill": {
          "duration": 0.267537,
          "end_time": "2022-06-05T13:46:34.454754",
          "exception": false,
          "start_time": "2022-06-05T13:46:34.187217",
          "status": "completed"
        },
        "tags": [],
        "colab": {
          "base_uri": "https://localhost:8080/",
          "height": 449
        },
        "id": "972d04a3",
        "outputId": "2c7f1c5c-47a4-4f6a-cf4b-cf21c1f1714c"
      },
      "outputs": [
        {
          "output_type": "display_data",
          "data": {
            "text/plain": [
              "<Figure size 640x480 with 2 Axes>"
            ],
            "image/png": "[encoded data removed]"
          },
          "metadata": {}
        }
      ],
      "source": [
        "from sklearn.metrics import confusion_matrix, ConfusionMatrixDisplay\n",
        "\n",
        "y_pred = np.argmax(y_pred, axis=1)\n",
        "cm = confusion_matrix(actual_y_test, y_pred)\n",
        "\n",
        "classes = ['AGGRESSIVE', 'NORMAL', 'SLOW']\n",
        "disp = ConfusionMatrixDisplay.from_predictions(actual_y_test, y_pred, display_labels=classes)\n",
        "\n",
        "plt.rcParams['figure.figsize'] = [20, 10]\n",
        "plt.show()\n"
      ]
    },
    {
      "cell_type": "code",
      "execution_count": null,
      "id": "3b546c70",
      "metadata": {
        "execution": {
          "iopub.execute_input": "2022-06-05T13:46:34.486712Z",
          "iopub.status.busy": "2022-06-05T13:46:34.486308Z",
          "iopub.status.idle": "2022-06-05T13:46:34.497314Z",
          "shell.execute_reply": "2022-06-05T13:46:34.496288Z"
        },
        "papermill": {
          "duration": 0.030649,
          "end_time": "2022-06-05T13:46:34.500099",
          "exception": false,
          "start_time": "2022-06-05T13:46:34.469450",
          "status": "completed"
        },
        "tags": [],
        "id": "3b546c70"
      },
      "outputs": [],
      "source": [
        "df_result.to_csv('lstm_20.csv')"
      ]
    },
    {
      "cell_type": "code",
      "source": [
        "best_model.summary()"
      ],
      "metadata": {
        "colab": {
          "base_uri": "https://localhost:8080/",
          "height": 321
        },
        "id": "D8rzLcZ0ylbs",
        "outputId": "bdec5ff4-590a-48f8-d62f-b9f1243f3748"
      },
      "id": "D8rzLcZ0ylbs",
      "execution_count": 30,
      "outputs": [
        {
          "output_type": "display_data",
          "data": {
            "text/plain": [
              "\u001b[1mModel: \"sequential\"\u001b[0m\n"
            ],
            "text/html": [
              "<pre style=\"white-space:pre;overflow-x:auto;line-height:normal;font-family:Menlo,'DejaVu Sans Mono',consolas,'Courier New',monospace\"><span style=\"font-weight: bold\">Model: \"sequential\"</span>\n",
              "</pre>\n"
            ]
          },
          "metadata": {}
        },
        {
          "output_type": "display_data",
          "data": {
            "text/plain": [
              "┏━━━━━━━━━━━━━━━━━━━━━━━━━━━━━━━━━━━━━━┳━━━━━━━━━━━━━━━━━━━━━━━━━━━━━┳━━━━━━━━━━━━━━━━━┓\n",
              "┃\u001b[1m \u001b[0m\u001b[1mLayer (type)                        \u001b[0m\u001b[1m \u001b[0m┃\u001b[1m \u001b[0m\u001b[1mOutput Shape               \u001b[0m\u001b[1m \u001b[0m┃\u001b[1m \u001b[0m\u001b[1m        Param #\u001b[0m\u001b[1m \u001b[0m┃\n",
              "┡━━━━━━━━━━━━━━━━━━━━━━━━━━━━━━━━━━━━━━╇━━━━━━━━━━━━━━━━━━━━━━━━━━━━━╇━━━━━━━━━━━━━━━━━┩\n",
              "│ lstm (\u001b[38;5;33mLSTM\u001b[0m)                          │ (\u001b[38;5;45mNone\u001b[0m, \u001b[38;5;34m20\u001b[0m, \u001b[38;5;34m96\u001b[0m)              │          \u001b[38;5;34m39,552\u001b[0m │\n",
              "├──────────────────────────────────────┼─────────────────────────────┼─────────────────┤\n",
              "│ lstm_1 (\u001b[38;5;33mLSTM\u001b[0m)                        │ (\u001b[38;5;45mNone\u001b[0m, \u001b[38;5;34m20\u001b[0m, \u001b[38;5;34m96\u001b[0m)              │          \u001b[38;5;34m74,112\u001b[0m │\n",
              "├──────────────────────────────────────┼─────────────────────────────┼─────────────────┤\n",
              "│ lstm_2 (\u001b[38;5;33mLSTM\u001b[0m)                        │ (\u001b[38;5;45mNone\u001b[0m, \u001b[38;5;34m192\u001b[0m)                 │         \u001b[38;5;34m221,952\u001b[0m │\n",
              "├──────────────────────────────────────┼─────────────────────────────┼─────────────────┤\n",
              "│ dropout (\u001b[38;5;33mDropout\u001b[0m)                    │ (\u001b[38;5;45mNone\u001b[0m, \u001b[38;5;34m192\u001b[0m)                 │               \u001b[38;5;34m0\u001b[0m │\n",
              "├──────────────────────────────────────┼─────────────────────────────┼─────────────────┤\n",
              "│ dense (\u001b[38;5;33mDense\u001b[0m)                        │ (\u001b[38;5;45mNone\u001b[0m, \u001b[38;5;34m224\u001b[0m)                 │          \u001b[38;5;34m43,232\u001b[0m │\n",
              "├──────────────────────────────────────┼─────────────────────────────┼─────────────────┤\n",
              "│ dense_1 (\u001b[38;5;33mDense\u001b[0m)                      │ (\u001b[38;5;45mNone\u001b[0m, \u001b[38;5;34m3\u001b[0m)                   │             \u001b[38;5;34m675\u001b[0m │\n",
              "└──────────────────────────────────────┴─────────────────────────────┴─────────────────┘\n"
            ],
            "text/html": [
              "<pre style=\"white-space:pre;overflow-x:auto;line-height:normal;font-family:Menlo,'DejaVu Sans Mono',consolas,'Courier New',monospace\">┏━━━━━━━━━━━━━━━━━━━━━━━━━━━━━━━━━━━━━━┳━━━━━━━━━━━━━━━━━━━━━━━━━━━━━┳━━━━━━━━━━━━━━━━━┓\n",
              "┃<span style=\"font-weight: bold\"> Layer (type)                         </span>┃<span style=\"font-weight: bold\"> Output Shape                </span>┃<span style=\"font-weight: bold\">         Param # </span>┃\n",
              "┡━━━━━━━━━━━━━━━━━━━━━━━━━━━━━━━━━━━━━━╇━━━━━━━━━━━━━━━━━━━━━━━━━━━━━╇━━━━━━━━━━━━━━━━━┩\n",
              "│ lstm (<span style=\"color: #0087ff; text-decoration-color: #0087ff\">LSTM</span>)                          │ (<span style=\"color: #00d7ff; text-decoration-color: #00d7ff\">None</span>, <span style=\"color: #00af00; text-decoration-color: #00af00\">20</span>, <span style=\"color: #00af00; text-decoration-color: #00af00\">96</span>)              │          <span style=\"color: #00af00; text-decoration-color: #00af00\">39,552</span> │\n",
              "├──────────────────────────────────────┼─────────────────────────────┼─────────────────┤\n",
              "│ lstm_1 (<span style=\"color: #0087ff; text-decoration-color: #0087ff\">LSTM</span>)                        │ (<span style=\"color: #00d7ff; text-decoration-color: #00d7ff\">None</span>, <span style=\"color: #00af00; text-decoration-color: #00af00\">20</span>, <span style=\"color: #00af00; text-decoration-color: #00af00\">96</span>)              │          <span style=\"color: #00af00; text-decoration-color: #00af00\">74,112</span> │\n",
              "├──────────────────────────────────────┼─────────────────────────────┼─────────────────┤\n",
              "│ lstm_2 (<span style=\"color: #0087ff; text-decoration-color: #0087ff\">LSTM</span>)                        │ (<span style=\"color: #00d7ff; text-decoration-color: #00d7ff\">None</span>, <span style=\"color: #00af00; text-decoration-color: #00af00\">192</span>)                 │         <span style=\"color: #00af00; text-decoration-color: #00af00\">221,952</span> │\n",
              "├──────────────────────────────────────┼─────────────────────────────┼─────────────────┤\n",
              "│ dropout (<span style=\"color: #0087ff; text-decoration-color: #0087ff\">Dropout</span>)                    │ (<span style=\"color: #00d7ff; text-decoration-color: #00d7ff\">None</span>, <span style=\"color: #00af00; text-decoration-color: #00af00\">192</span>)                 │               <span style=\"color: #00af00; text-decoration-color: #00af00\">0</span> │\n",
              "├──────────────────────────────────────┼─────────────────────────────┼─────────────────┤\n",
              "│ dense (<span style=\"color: #0087ff; text-decoration-color: #0087ff\">Dense</span>)                        │ (<span style=\"color: #00d7ff; text-decoration-color: #00d7ff\">None</span>, <span style=\"color: #00af00; text-decoration-color: #00af00\">224</span>)                 │          <span style=\"color: #00af00; text-decoration-color: #00af00\">43,232</span> │\n",
              "├──────────────────────────────────────┼─────────────────────────────┼─────────────────┤\n",
              "│ dense_1 (<span style=\"color: #0087ff; text-decoration-color: #0087ff\">Dense</span>)                      │ (<span style=\"color: #00d7ff; text-decoration-color: #00d7ff\">None</span>, <span style=\"color: #00af00; text-decoration-color: #00af00\">3</span>)                   │             <span style=\"color: #00af00; text-decoration-color: #00af00\">675</span> │\n",
              "└──────────────────────────────────────┴─────────────────────────────┴─────────────────┘\n",
              "</pre>\n"
            ]
          },
          "metadata": {}
        },
        {
          "output_type": "display_data",
          "data": {
            "text/plain": [
              "\u001b[1m Total params: \u001b[0m\u001b[38;5;34m379,523\u001b[0m (1.45 MB)\n"
            ],
            "text/html": [
              "<pre style=\"white-space:pre;overflow-x:auto;line-height:normal;font-family:Menlo,'DejaVu Sans Mono',consolas,'Courier New',monospace\"><span style=\"font-weight: bold\"> Total params: </span><span style=\"color: #00af00; text-decoration-color: #00af00\">379,523</span> (1.45 MB)\n",
              "</pre>\n"
            ]
          },
          "metadata": {}
        },
        {
          "output_type": "display_data",
          "data": {
            "text/plain": [
              "\u001b[1m Trainable params: \u001b[0m\u001b[38;5;34m379,523\u001b[0m (1.45 MB)\n"
            ],
            "text/html": [
              "<pre style=\"white-space:pre;overflow-x:auto;line-height:normal;font-family:Menlo,'DejaVu Sans Mono',consolas,'Courier New',monospace\"><span style=\"font-weight: bold\"> Trainable params: </span><span style=\"color: #00af00; text-decoration-color: #00af00\">379,523</span> (1.45 MB)\n",
              "</pre>\n"
            ]
          },
          "metadata": {}
        },
        {
          "output_type": "display_data",
          "data": {
            "text/plain": [
              "\u001b[1m Non-trainable params: \u001b[0m\u001b[38;5;34m0\u001b[0m (0.00 B)\n"
            ],
            "text/html": [
              "<pre style=\"white-space:pre;overflow-x:auto;line-height:normal;font-family:Menlo,'DejaVu Sans Mono',consolas,'Courier New',monospace\"><span style=\"font-weight: bold\"> Non-trainable params: </span><span style=\"color: #00af00; text-decoration-color: #00af00\">0</span> (0.00 B)\n",
              "</pre>\n"
            ]
          },
          "metadata": {}
        }
      ]
    },
    {
      "cell_type": "code",
      "source": [],
      "metadata": {
        "id": "lTdlwHfMypCh"
      },
      "id": "lTdlwHfMypCh",
      "execution_count": null,
      "outputs": []
    }
  ],
  "metadata": {
    "kernelspec": {
      "display_name": "Python 3",
      "language": "python",
      "name": "python3"
    },
    "language_info": {
      "codemirror_mode": {
        "name": "ipython",
        "version": 3
      },
      "file_extension": ".py",
      "mimetype": "text/x-python",
      "name": "python",
      "nbconvert_exporter": "python",
      "pygments_lexer": "ipython3",
      "version": "3.7.12"
    },
    "papermill": {
      "default_parameters": {},
      "duration": 2588.851084,
      "end_time": "2022-06-05T13:46:37.709296",
      "environment_variables": {},
      "exception": null,
      "input_path": "__notebook__.ipynb",
      "output_path": "__notebook__.ipynb",
      "parameters": {},
      "start_time": "2022-06-05T13:03:28.858212",
      "version": "2.3.4"
    },
    "colab": {
      "provenance": []
    }
  },
  "nbformat": 4,
  "nbformat_minor": 5
}