{
  "cells": [
    {
      "cell_type": "code",
      "source": [
        "!pip install keras-tuner"
      ],
      "metadata": {
        "colab": {
          "base_uri": "https://localhost:8080/"
        },
        "id": "W_YmpzstvGrL",
        "outputId": "2f29fac5-9a69-4205-f2b9-322f7f0fc371"
      },
      "id": "W_YmpzstvGrL",
      "execution_count": 1,
      "outputs": [
        {
          "output_type": "stream",
          "name": "stdout",
          "text": [
            "Collecting keras-tuner\n",
            "  Downloading keras_tuner-1.4.7-py3-none-any.whl.metadata (5.4 kB)\n",
            "Requirement already satisfied: keras in /usr/local/lib/python3.10/dist-packages (from keras-tuner) (3.4.1)\n",
            "Requirement already satisfied: packaging in /usr/local/lib/python3.10/dist-packages (from keras-tuner) (24.1)\n",
            "Requirement already satisfied: requests in /usr/local/lib/python3.10/dist-packages (from keras-tuner) (2.32.3)\n",
            "Collecting kt-legacy (from keras-tuner)\n",
            "  Downloading kt_legacy-1.0.5-py3-none-any.whl.metadata (221 bytes)\n",
            "Requirement already satisfied: absl-py in /usr/local/lib/python3.10/dist-packages (from keras->keras-tuner) (1.4.0)\n",
            "Requirement already satisfied: numpy in /usr/local/lib/python3.10/dist-packages (from keras->keras-tuner) (1.26.4)\n",
            "Requirement already satisfied: rich in /usr/local/lib/python3.10/dist-packages (from keras->keras-tuner) (13.9.2)\n",
            "Requirement already satisfied: namex in /usr/local/lib/python3.10/dist-packages (from keras->keras-tuner) (0.0.8)\n",
            "Requirement already satisfied: h5py in /usr/local/lib/python3.10/dist-packages (from keras->keras-tuner) (3.11.0)\n",
            "Requirement already satisfied: optree in /usr/local/lib/python3.10/dist-packages (from keras->keras-tuner) (0.13.0)\n",
            "Requirement already satisfied: ml-dtypes in /usr/local/lib/python3.10/dist-packages (from keras->keras-tuner) (0.4.1)\n",
            "Requirement already satisfied: charset-normalizer<4,>=2 in /usr/local/lib/python3.10/dist-packages (from requests->keras-tuner) (3.4.0)\n",
            "Requirement already satisfied: idna<4,>=2.5 in /usr/local/lib/python3.10/dist-packages (from requests->keras-tuner) (3.10)\n",
            "Requirement already satisfied: urllib3<3,>=1.21.1 in /usr/local/lib/python3.10/dist-packages (from requests->keras-tuner) (2.2.3)\n",
            "Requirement already satisfied: certifi>=2017.4.17 in /usr/local/lib/python3.10/dist-packages (from requests->keras-tuner) (2024.8.30)\n",
            "Requirement already satisfied: typing-extensions>=4.5.0 in /usr/local/lib/python3.10/dist-packages (from optree->keras->keras-tuner) (4.12.2)\n",
            "Requirement already satisfied: markdown-it-py>=2.2.0 in /usr/local/lib/python3.10/dist-packages (from rich->keras->keras-tuner) (3.0.0)\n",
            "Requirement already satisfied: pygments<3.0.0,>=2.13.0 in /usr/local/lib/python3.10/dist-packages (from rich->keras->keras-tuner) (2.18.0)\n",
            "Requirement already satisfied: mdurl~=0.1 in /usr/local/lib/python3.10/dist-packages (from markdown-it-py>=2.2.0->rich->keras->keras-tuner) (0.1.2)\n",
            "Downloading keras_tuner-1.4.7-py3-none-any.whl (129 kB)\n",
            "\u001b[2K   \u001b[90m━━━━━━━━━━━━━━━━━━━━━━━━━━━━━━━━━━━━━━━━\u001b[0m \u001b[32m129.1/129.1 kB\u001b[0m \u001b[31m4.4 MB/s\u001b[0m eta \u001b[36m0:00:00\u001b[0m\n",
            "\u001b[?25hDownloading kt_legacy-1.0.5-py3-none-any.whl (9.6 kB)\n",
            "Installing collected packages: kt-legacy, keras-tuner\n",
            "Successfully installed keras-tuner-1.4.7 kt-legacy-1.0.5\n"
          ]
        }
      ]
    },
    {
      "cell_type": "code",
      "execution_count": 2,
      "id": "05db7dd3",
      "metadata": {
        "execution": {
          "iopub.execute_input": "2022-06-05T16:35:32.490006Z",
          "iopub.status.busy": "2022-06-05T16:35:32.489308Z",
          "iopub.status.idle": "2022-06-05T16:35:32.545774Z",
          "shell.execute_reply": "2022-06-05T16:35:32.544953Z"
        },
        "papermill": {
          "duration": 0.072932,
          "end_time": "2022-06-05T16:35:32.548487",
          "exception": false,
          "start_time": "2022-06-05T16:35:32.475555",
          "status": "completed"
        },
        "tags": [],
        "colab": {
          "base_uri": "https://localhost:8080/"
        },
        "id": "05db7dd3",
        "outputId": "6c586700-4a9b-4b4a-a02d-587bc85c8f94"
      },
      "outputs": [
        {
          "output_type": "stream",
          "name": "stdout",
          "text": [
            "Mounted at /content/drive\n"
          ]
        }
      ],
      "source": [
        "from google.colab import drive\n",
        "drive.mount('/content/drive')\n",
        "\n",
        "\n",
        "import pandas as pd\n",
        "\n",
        "df_train = pd.read_csv('/content/drive/MyDrive/LSTM DATASET /train_motion_data.csv')\n",
        "df_test = pd.read_csv('/content/drive/MyDrive/LSTM DATASET /test_motion_data.csv')"
      ]
    },
    {
      "cell_type": "code",
      "execution_count": 3,
      "id": "4a40db4c",
      "metadata": {
        "execution": {
          "iopub.execute_input": "2022-06-05T16:35:32.566430Z",
          "iopub.status.busy": "2022-06-05T16:35:32.565774Z",
          "iopub.status.idle": "2022-06-05T16:35:32.569760Z",
          "shell.execute_reply": "2022-06-05T16:35:32.569099Z"
        },
        "papermill": {
          "duration": 0.015387,
          "end_time": "2022-06-05T16:35:32.571664",
          "exception": false,
          "start_time": "2022-06-05T16:35:32.556277",
          "status": "completed"
        },
        "tags": [],
        "id": "4a40db4c"
      },
      "outputs": [],
      "source": [
        "# Global constants\n",
        "TIMESTEPS = 20 # the number of sample to be fed to the NN\n",
        "FEATURES = 6\n",
        "LABELS = 2\n",
        "N_RECORDS = 11"
      ]
    },
    {
      "cell_type": "code",
      "execution_count": 4,
      "id": "366b4208",
      "metadata": {
        "execution": {
          "iopub.execute_input": "2022-06-05T16:35:32.588874Z",
          "iopub.status.busy": "2022-06-05T16:35:32.588164Z",
          "iopub.status.idle": "2022-06-05T16:35:32.609717Z",
          "shell.execute_reply": "2022-06-05T16:35:32.609001Z"
        },
        "papermill": {
          "duration": 0.032994,
          "end_time": "2022-06-05T16:35:32.612169",
          "exception": false,
          "start_time": "2022-06-05T16:35:32.579175",
          "status": "completed"
        },
        "tags": [],
        "id": "366b4208"
      },
      "outputs": [],
      "source": [
        "# Split the samples by class\n",
        "# so it can be trimmed to a desired shape\n",
        "df_train_normal = df_train.loc[df_train['Class'] == 'NORMAL']\n",
        "df_train_slow = df_train.loc[df_train['Class'] == 'SLOW']\n",
        "df_train_aggressive = df_train.loc[df_train['Class'] == 'AGGRESSIVE']\n",
        "\n",
        "df_test_normal = df_test.loc[df_test['Class'] == 'NORMAL']\n",
        "df_test_slow = df_test.loc[df_test['Class'] == 'SLOW']\n",
        "df_test_aggressive = df_test.loc[df_test['Class'] == 'AGGRESSIVE']"
      ]
    },
    {
      "cell_type": "code",
      "execution_count": 5,
      "id": "cd359904",
      "metadata": {
        "execution": {
          "iopub.execute_input": "2022-06-05T16:35:32.629867Z",
          "iopub.status.busy": "2022-06-05T16:35:32.629197Z",
          "iopub.status.idle": "2022-06-05T16:35:32.932263Z",
          "shell.execute_reply": "2022-06-05T16:35:32.931279Z"
        },
        "papermill": {
          "duration": 0.315514,
          "end_time": "2022-06-05T16:35:32.935781",
          "exception": false,
          "start_time": "2022-06-05T16:35:32.620267",
          "status": "completed"
        },
        "tags": [],
        "colab": {
          "base_uri": "https://localhost:8080/",
          "height": 472
        },
        "id": "cd359904",
        "outputId": "0db608d1-1754-4d6f-ada7-4e01c1d626f3"
      },
      "outputs": [
        {
          "output_type": "display_data",
          "data": {
            "text/plain": [
              "<Figure size 640x480 with 1 Axes>"
            ],
            "image/png": "[encoded data removed]"
          },
          "metadata": {}
        }
      ],
      "source": [
        "# Normal driving behavior's acceleration\n",
        "import matplotlib.pyplot as plt\n",
        "\n",
        "plt.plot(df_train_normal['Timestamp'], df_train_normal['AccX'], label='Acceleration X')\n",
        "plt.plot(df_train_normal['Timestamp'], df_train_normal['AccY'], label='Acceleration Y')\n",
        "plt.plot(df_train_normal['Timestamp'], df_train_normal['AccZ'], label='Acceleration Z')\n",
        "\n",
        "plt.title('Normal driving [Acceleration]')\n",
        "plt.xlabel('Timestamp')\n",
        "plt.legend()\n",
        "plt.show()"
      ]
    },
    {
      "cell_type": "code",
      "execution_count": 6,
      "id": "59fd92d5",
      "metadata": {
        "execution": {
          "iopub.execute_input": "2022-06-05T16:35:32.954525Z",
          "iopub.status.busy": "2022-06-05T16:35:32.954084Z",
          "iopub.status.idle": "2022-06-05T16:35:33.185437Z",
          "shell.execute_reply": "2022-06-05T16:35:33.184210Z"
        },
        "papermill": {
          "duration": 0.243994,
          "end_time": "2022-06-05T16:35:33.188276",
          "exception": false,
          "start_time": "2022-06-05T16:35:32.944282",
          "status": "completed"
        },
        "tags": [],
        "colab": {
          "base_uri": "https://localhost:8080/",
          "height": 472
        },
        "id": "59fd92d5",
        "outputId": "0f80a8b7-e826-478f-cef6-7d48e021f87d"
      },
      "outputs": [
        {
          "output_type": "display_data",
          "data": {
            "text/plain": [
              "<Figure size 640x480 with 1 Axes>"
            ],
            "image/png": "[encoded data removed]"
          },
          "metadata": {}
        }
      ],
      "source": [
        "# Slow driving behavior's acceleration\n",
        "import matplotlib.pyplot as plt\n",
        "\n",
        "plt.plot(df_train_slow['Timestamp'], df_train_slow['AccX'], label='Acceleration X')\n",
        "plt.plot(df_train_slow['Timestamp'], df_train_slow['AccY'], label='Acceleration Y')\n",
        "plt.plot(df_train_slow['Timestamp'], df_train_slow['AccZ'], label='Acceleration Z')\n",
        "\n",
        "plt.title('Slow driving [Acceleration]')\n",
        "plt.xlabel('Timestamp')\n",
        "plt.legend()\n",
        "plt.show()"
      ]
    },
    {
      "cell_type": "code",
      "execution_count": null,
      "id": "32e441de",
      "metadata": {
        "execution": {
          "iopub.execute_input": "2022-06-05T16:35:33.209973Z",
          "iopub.status.busy": "2022-06-05T16:35:33.209528Z",
          "iopub.status.idle": "2022-06-05T16:35:33.412489Z",
          "shell.execute_reply": "2022-06-05T16:35:33.411407Z"
        },
        "papermill": {
          "duration": 0.216862,
          "end_time": "2022-06-05T16:35:33.415490",
          "exception": false,
          "start_time": "2022-06-05T16:35:33.198628",
          "status": "completed"
        },
        "tags": [],
        "id": "32e441de",
        "outputId": "622bbb90-ef7e-4593-ef21-56893ca53d0a"
      },
      "outputs": [
        {
          "data": {
            "image/png": "[encoded data removed]",
            "text/plain": [
              "<Figure size 432x288 with 1 Axes>"
            ]
          },
          "metadata": {
            "needs_background": "light"
          },
          "output_type": "display_data"
        }
      ],
      "source": [
        "# Aggresive driving behavior's acceleration\n",
        "import matplotlib.pyplot as plt\n",
        "\n",
        "plt.plot(df_train_aggressive['Timestamp'], df_train_aggressive['AccX'], label='Acceleration X')\n",
        "plt.plot(df_train_aggressive['Timestamp'], df_train_aggressive['AccY'], label='Acceleration Y')\n",
        "plt.plot(df_train_aggressive['Timestamp'], df_train_aggressive['AccZ'], label='Acceleration Z')\n",
        "\n",
        "plt.title('Aggressive driving [Acceleration]')\n",
        "plt.xlabel('Timestamp')\n",
        "plt.legend()\n",
        "plt.show()"
      ]
    },
    {
      "cell_type": "code",
      "execution_count": null,
      "id": "f6e1594e",
      "metadata": {
        "execution": {
          "iopub.execute_input": "2022-06-05T16:35:33.437528Z",
          "iopub.status.busy": "2022-06-05T16:35:33.437045Z",
          "iopub.status.idle": "2022-06-05T16:35:33.654479Z",
          "shell.execute_reply": "2022-06-05T16:35:33.653123Z"
        },
        "papermill": {
          "duration": 0.231254,
          "end_time": "2022-06-05T16:35:33.656709",
          "exception": false,
          "start_time": "2022-06-05T16:35:33.425455",
          "status": "completed"
        },
        "tags": [],
        "id": "f6e1594e",
        "outputId": "54ad4759-1e3f-4769-b243-e5346deeb3a0"
      },
      "outputs": [
        {
          "data": {
            "image/png": "[encoded data removed]",
            "text/plain": [
              "<Figure size 432x288 with 1 Axes>"
            ]
          },
          "metadata": {
            "needs_background": "light"
          },
          "output_type": "display_data"
        }
      ],
      "source": [
        "# Normal driving behavior's gyroscope orientation\n",
        "import matplotlib.pyplot as plt\n",
        "\n",
        "plt.plot(df_train_normal['Timestamp'], df_train_normal['GyroX'], label='Gyro X')\n",
        "plt.plot(df_train_normal['Timestamp'], df_train_normal['GyroY'], label='Gyro Y')\n",
        "plt.plot(df_train_normal['Timestamp'], df_train_normal['GyroZ'], label='Gyro Z')\n",
        "\n",
        "plt.title('Normal driving [Gyroscope]')\n",
        "plt.xlabel('Timestamp')\n",
        "plt.legend()\n",
        "plt.show()"
      ]
    },
    {
      "cell_type": "code",
      "execution_count": null,
      "id": "f808df50",
      "metadata": {
        "execution": {
          "iopub.execute_input": "2022-06-05T16:35:33.680016Z",
          "iopub.status.busy": "2022-06-05T16:35:33.678981Z",
          "iopub.status.idle": "2022-06-05T16:35:33.878133Z",
          "shell.execute_reply": "2022-06-05T16:35:33.877182Z"
        },
        "papermill": {
          "duration": 0.213555,
          "end_time": "2022-06-05T16:35:33.880646",
          "exception": false,
          "start_time": "2022-06-05T16:35:33.667091",
          "status": "completed"
        },
        "tags": [],
        "id": "f808df50",
        "outputId": "7364cbbf-bfe9-4697-ffef-6487a4108ca7"
      },
      "outputs": [
        {
          "data": {
            "image/png": "[encoded data removed]",
            "text/plain": [
              "<Figure size 432x288 with 1 Axes>"
            ]
          },
          "metadata": {
            "needs_background": "light"
          },
          "output_type": "display_data"
        }
      ],
      "source": [
        "# Slow driving behavior's gyroscope orientation\n",
        "import matplotlib.pyplot as plt\n",
        "\n",
        "plt.plot(df_train_slow['Timestamp'], df_train_slow['GyroX'], label='Gyro X')\n",
        "plt.plot(df_train_slow['Timestamp'], df_train_slow['GyroY'], label='Gyro Y')\n",
        "plt.plot(df_train_slow['Timestamp'], df_train_slow['GyroZ'], label='Gyro Z')\n",
        "\n",
        "plt.title('Slow driving [Gyroscope]')\n",
        "plt.xlabel('Timestamp')\n",
        "plt.legend()\n",
        "plt.show()"
      ]
    },
    {
      "cell_type": "code",
      "execution_count": null,
      "id": "fb8a43be",
      "metadata": {
        "execution": {
          "iopub.execute_input": "2022-06-05T16:35:33.903963Z",
          "iopub.status.busy": "2022-06-05T16:35:33.903547Z",
          "iopub.status.idle": "2022-06-05T16:35:34.190420Z",
          "shell.execute_reply": "2022-06-05T16:35:34.189107Z"
        },
        "papermill": {
          "duration": 0.30387,
          "end_time": "2022-06-05T16:35:34.195420",
          "exception": false,
          "start_time": "2022-06-05T16:35:33.891550",
          "status": "completed"
        },
        "tags": [],
        "id": "fb8a43be",
        "outputId": "51a1f4c7-9c9f-4aa1-dde5-67f572579ff3"
      },
      "outputs": [
        {
          "data": {
            "image/png": "[encoded data removed]",
            "text/plain": [
              "<Figure size 432x288 with 1 Axes>"
            ]
          },
          "metadata": {
            "needs_background": "light"
          },
          "output_type": "display_data"
        }
      ],
      "source": [
        "# Agressive driving behavior's gyroscope orientation\n",
        "import matplotlib.pyplot as plt\n",
        "\n",
        "plt.plot(df_train_aggressive['Timestamp'], df_train_aggressive['GyroX'], label='Gyro X')\n",
        "plt.plot(df_train_aggressive['Timestamp'], df_train_aggressive['GyroY'], label='Gyro Y')\n",
        "plt.plot(df_train_aggressive['Timestamp'], df_train_aggressive['GyroZ'], label='Gyro Z')\n",
        "\n",
        "plt.title('Aggressive driving [Gyroscope]')\n",
        "plt.xlabel('Timestamp')\n",
        "plt.legend()\n",
        "plt.show()"
      ]
    },
    {
      "cell_type": "code",
      "execution_count": 6,
      "id": "2201e2cb",
      "metadata": {
        "execution": {
          "iopub.execute_input": "2022-06-05T16:35:34.222430Z",
          "iopub.status.busy": "2022-06-05T16:35:34.221825Z",
          "iopub.status.idle": "2022-06-05T16:35:34.230851Z",
          "shell.execute_reply": "2022-06-05T16:35:34.230178Z"
        },
        "papermill": {
          "duration": 0.024239,
          "end_time": "2022-06-05T16:35:34.232883",
          "exception": false,
          "start_time": "2022-06-05T16:35:34.208644",
          "status": "completed"
        },
        "tags": [],
        "id": "2201e2cb"
      },
      "outputs": [],
      "source": [
        "# As it may be noticed, there is some noice\n",
        "# at the beggin and end of every time series\n",
        "# It is caused because of the class switching\n",
        "# ---------------------------------------------\n",
        "# A solution would be to just remove the first and last N samples\n",
        "df_train_slow = df_train_slow.iloc[N_RECORDS:]\n",
        "df_train_slow = df_train_slow.iloc[:-N_RECORDS]\n",
        "\n",
        "df_test_slow = df_test_slow.iloc[N_RECORDS:]\n",
        "df_test_slow = df_test_slow.iloc[:-N_RECORDS]\n",
        "\n",
        "df_train_normal = df_train_normal.iloc[N_RECORDS:]\n",
        "df_train_normal = df_train_normal.iloc[:-N_RECORDS]\n",
        "\n",
        "df_test_normal = df_test_normal.iloc[N_RECORDS:]\n",
        "df_test_normal = df_test_normal.iloc[:-N_RECORDS]\n",
        "\n",
        "df_train_aggressive = df_train_aggressive.iloc[N_RECORDS:]\n",
        "df_train_aggressive = df_train_aggressive.iloc[:-N_RECORDS]\n",
        "\n",
        "df_test_aggressive = df_test_aggressive.iloc[N_RECORDS:]\n",
        "df_test_aggressive = df_test_aggressive.iloc[:-N_RECORDS]"
      ]
    },
    {
      "cell_type": "code",
      "execution_count": 7,
      "id": "dc0eeebe",
      "metadata": {
        "execution": {
          "iopub.execute_input": "2022-06-05T16:35:34.257810Z",
          "iopub.status.busy": "2022-06-05T16:35:34.256855Z",
          "iopub.status.idle": "2022-06-05T16:35:34.265342Z",
          "shell.execute_reply": "2022-06-05T16:35:34.264224Z"
        },
        "papermill": {
          "duration": 0.023897,
          "end_time": "2022-06-05T16:35:34.268103",
          "exception": false,
          "start_time": "2022-06-05T16:35:34.244206",
          "status": "completed"
        },
        "tags": [],
        "colab": {
          "base_uri": "https://localhost:8080/"
        },
        "id": "dc0eeebe",
        "outputId": "e953edda-e1eb-4aee-bef6-76442a3c9396"
      },
      "outputs": [
        {
          "output_type": "stream",
          "name": "stdout",
          "text": [
            "---Train---\n",
            "Slow samples: 1309\n",
            "Normal samples: 1178\n",
            "Aggressive samples: 1091\n"
          ]
        }
      ],
      "source": [
        "# Check train data per label\n",
        "train_slow_samples = df_train_slow.__len__()\n",
        "train_normal_samples = df_train_normal.__len__()\n",
        "train_aggressive_samples = df_train_aggressive.__len__()\n",
        "\n",
        "print('---Train---')\n",
        "print('Slow samples: ' + str(train_slow_samples))\n",
        "print('Normal samples: ' + str(train_normal_samples))\n",
        "print('Aggressive samples: ' + str(train_aggressive_samples))\n",
        "\n",
        "df_train_slow = df_train_slow.tail(1300)\n",
        "df_train_normal = df_train_normal.tail(1160)\n",
        "df_train_aggressive = df_train_aggressive.tail(1080)"
      ]
    },
    {
      "cell_type": "code",
      "execution_count": 8,
      "id": "ebe307c1",
      "metadata": {
        "execution": {
          "iopub.execute_input": "2022-06-05T16:35:34.293607Z",
          "iopub.status.busy": "2022-06-05T16:35:34.293096Z",
          "iopub.status.idle": "2022-06-05T16:35:34.300891Z",
          "shell.execute_reply": "2022-06-05T16:35:34.299988Z"
        },
        "papermill": {
          "duration": 0.022702,
          "end_time": "2022-06-05T16:35:34.303115",
          "exception": false,
          "start_time": "2022-06-05T16:35:34.280413",
          "status": "completed"
        },
        "tags": [],
        "colab": {
          "base_uri": "https://localhost:8080/"
        },
        "id": "ebe307c1",
        "outputId": "6adfef06-5f7a-4593-8153-74efa1d3df7f"
      },
      "outputs": [
        {
          "output_type": "stream",
          "name": "stdout",
          "text": [
            "---Test---\n",
            "Slow samples: 1251\n",
            "Normal samples: 975\n",
            "Aggressive samples: 792\n"
          ]
        }
      ],
      "source": [
        "# Check test data per label\n",
        "test_slow_samples = df_test_slow.__len__()\n",
        "test_normal_samples = df_test_normal.__len__()\n",
        "test_aggressive_samples = df_test_aggressive.__len__()\n",
        "\n",
        "print('---Test---')\n",
        "print('Slow samples: ' + str(test_slow_samples))\n",
        "print('Normal samples: ' + str(test_normal_samples))\n",
        "print('Aggressive samples: ' + str(test_aggressive_samples))\n",
        "\n",
        "df_test_slow = df_test_slow.tail(1240)\n",
        "df_test_normal = df_test_normal.tail(960)\n",
        "df_test_aggressive = df_test_aggressive.tail(780)"
      ]
    },
    {
      "cell_type": "code",
      "execution_count": 9,
      "id": "dc650a11",
      "metadata": {
        "execution": {
          "iopub.execute_input": "2022-06-05T16:35:34.327952Z",
          "iopub.status.busy": "2022-06-05T16:35:34.327206Z",
          "iopub.status.idle": "2022-06-05T16:35:34.336711Z",
          "shell.execute_reply": "2022-06-05T16:35:34.335991Z"
        },
        "papermill": {
          "duration": 0.024253,
          "end_time": "2022-06-05T16:35:34.338694",
          "exception": false,
          "start_time": "2022-06-05T16:35:34.314441",
          "status": "completed"
        },
        "tags": [],
        "id": "dc650a11"
      },
      "outputs": [],
      "source": [
        "# Separating features from labels\n",
        "\n",
        "# Features\n",
        "X_train_normal = df_train_normal.iloc[: , :FEATURES]\n",
        "X_train_slow = df_train_slow.iloc[: , :FEATURES]\n",
        "X_train_aggressive = df_train_aggressive.iloc[: , :FEATURES]\n",
        "\n",
        "X_test_normal = df_test_normal.iloc[: , :FEATURES]\n",
        "X_test_slow = df_test_slow.iloc[: , :FEATURES]\n",
        "X_test_aggressive = df_test_aggressive.iloc[: , :FEATURES]\n",
        "\n",
        "# Labels\n",
        "y_train_normal = df_train_normal.Class\n",
        "y_train_slow = df_train_slow.Class\n",
        "y_train_aggressive = df_train_aggressive.Class\n",
        "\n",
        "y_test_normal = df_test_normal.Class\n",
        "y_test_slow = df_test_slow.Class\n",
        "y_test_aggressive = df_test_aggressive.Class"
      ]
    },
    {
      "cell_type": "code",
      "execution_count": 10,
      "id": "7141852b",
      "metadata": {
        "execution": {
          "iopub.execute_input": "2022-06-05T16:35:34.363937Z",
          "iopub.status.busy": "2022-06-05T16:35:34.363184Z",
          "iopub.status.idle": "2022-06-05T16:35:34.370824Z",
          "shell.execute_reply": "2022-06-05T16:35:34.370125Z"
        },
        "papermill": {
          "duration": 0.022691,
          "end_time": "2022-06-05T16:35:34.372745",
          "exception": false,
          "start_time": "2022-06-05T16:35:34.350054",
          "status": "completed"
        },
        "tags": [],
        "id": "7141852b"
      },
      "outputs": [],
      "source": [
        "# Combine all the samples intro a train dataset\n",
        "X_train = pd.concat([X_train_normal, X_train_aggressive])\n",
        "y_train = pd.concat([y_train_normal, y_train_aggressive])\n",
        "\n",
        "X_test = pd.concat([X_test_normal, X_test_aggressive])\n",
        "y_test = pd.concat([y_test_normal, y_test_aggressive])"
      ]
    },
    {
      "cell_type": "code",
      "execution_count": 11,
      "id": "af4a919f",
      "metadata": {
        "execution": {
          "iopub.execute_input": "2022-06-05T16:35:34.397742Z",
          "iopub.status.busy": "2022-06-05T16:35:34.397046Z",
          "iopub.status.idle": "2022-06-05T16:35:35.435782Z",
          "shell.execute_reply": "2022-06-05T16:35:35.434437Z"
        },
        "papermill": {
          "duration": 1.054686,
          "end_time": "2022-06-05T16:35:35.438858",
          "exception": false,
          "start_time": "2022-06-05T16:35:34.384172",
          "status": "completed"
        },
        "tags": [],
        "id": "af4a919f"
      },
      "outputs": [],
      "source": [
        "# As ML/DL algorithms are working with numbers\n",
        "# the labels should be mapped to numbers\n",
        "from sklearn.preprocessing import LabelEncoder\n",
        "\n",
        "labelEncoder = LabelEncoder()\n",
        "y_train = labelEncoder.fit_transform(y_train)\n",
        "y_test = labelEncoder.transform(y_test)"
      ]
    },
    {
      "cell_type": "code",
      "execution_count": 12,
      "id": "97d1e764",
      "metadata": {
        "execution": {
          "iopub.execute_input": "2022-06-05T16:35:35.465122Z",
          "iopub.status.busy": "2022-06-05T16:35:35.464224Z",
          "iopub.status.idle": "2022-06-05T16:35:41.756471Z",
          "shell.execute_reply": "2022-06-05T16:35:41.755302Z"
        },
        "papermill": {
          "duration": 6.308746,
          "end_time": "2022-06-05T16:35:41.759554",
          "exception": false,
          "start_time": "2022-06-05T16:35:35.450808",
          "status": "completed"
        },
        "tags": [],
        "id": "97d1e764"
      },
      "outputs": [],
      "source": [
        "# Because I'm using CategoricalCrossentropy loss function\n",
        "# I have to convert my labels to one-hot encoded vectors\n",
        "from tensorflow.keras.utils import to_categorical\n",
        "\n",
        "y_train = to_categorical(y_train, num_classes=LABELS)\n",
        "y_test = to_categorical(y_test, num_classes=LABELS)"
      ]
    },
    {
      "cell_type": "code",
      "execution_count": 13,
      "id": "ef3a423e",
      "metadata": {
        "execution": {
          "iopub.execute_input": "2022-06-05T16:35:41.786152Z",
          "iopub.status.busy": "2022-06-05T16:35:41.785447Z",
          "iopub.status.idle": "2022-06-05T16:35:41.796799Z",
          "shell.execute_reply": "2022-06-05T16:35:41.795746Z"
        },
        "papermill": {
          "duration": 0.027588,
          "end_time": "2022-06-05T16:35:41.799264",
          "exception": false,
          "start_time": "2022-06-05T16:35:41.771676",
          "status": "completed"
        },
        "tags": [],
        "id": "ef3a423e"
      },
      "outputs": [],
      "source": [
        "# As the dataset contains variables that are different in scale,\n",
        "# a good solution will be to standardize it\n",
        "from sklearn.preprocessing import StandardScaler\n",
        "\n",
        "scaler = StandardScaler(with_mean=True, with_std=True)\n",
        "X_train = scaler.fit_transform(X_train)\n",
        "X_test = scaler.transform(X_test)"
      ]
    },
    {
      "cell_type": "code",
      "execution_count": 14,
      "id": "7ffaf7cd",
      "metadata": {
        "execution": {
          "iopub.execute_input": "2022-06-05T16:35:41.825995Z",
          "iopub.status.busy": "2022-06-05T16:35:41.825369Z",
          "iopub.status.idle": "2022-06-05T16:35:41.831447Z",
          "shell.execute_reply": "2022-06-05T16:35:41.830812Z"
        },
        "papermill": {
          "duration": 0.023226,
          "end_time": "2022-06-05T16:35:41.834901",
          "exception": false,
          "start_time": "2022-06-05T16:35:41.811675",
          "status": "completed"
        },
        "tags": [],
        "colab": {
          "base_uri": "https://localhost:8080/"
        },
        "id": "7ffaf7cd",
        "outputId": "ad602339-b5c7-4853-ac53-bb00797e4986"
      },
      "outputs": [
        {
          "output_type": "stream",
          "name": "stdout",
          "text": [
            "Train features shape: 112\n",
            "Test features shape: 87\n"
          ]
        }
      ],
      "source": [
        "# Reshaping the input for the Conv-LSTM network (Features)\n",
        "train_samples = X_train.shape[0]//TIMESTEPS\n",
        "X_train = X_train.reshape(train_samples, TIMESTEPS, FEATURES)\n",
        "\n",
        "test_samples = X_test.shape[0]//TIMESTEPS\n",
        "X_test = X_test.reshape(test_samples, TIMESTEPS, FEATURES)\n",
        "\n",
        "print('Train features shape: ' + str(X_train.shape[0]))\n",
        "print('Test features shape: ' + str(X_test.shape[0]))"
      ]
    },
    {
      "cell_type": "code",
      "execution_count": 15,
      "id": "b14d20fa",
      "metadata": {
        "execution": {
          "iopub.execute_input": "2022-06-05T16:35:41.863567Z",
          "iopub.status.busy": "2022-06-05T16:35:41.863153Z",
          "iopub.status.idle": "2022-06-05T16:35:41.868881Z",
          "shell.execute_reply": "2022-06-05T16:35:41.867856Z"
        },
        "papermill": {
          "duration": 0.022971,
          "end_time": "2022-06-05T16:35:41.871792",
          "exception": false,
          "start_time": "2022-06-05T16:35:41.848821",
          "status": "completed"
        },
        "tags": [],
        "colab": {
          "base_uri": "https://localhost:8080/"
        },
        "id": "b14d20fa",
        "outputId": "ce6363bc-300b-4b2c-8d81-4be169210b67"
      },
      "outputs": [
        {
          "output_type": "stream",
          "name": "stdout",
          "text": [
            "Train labels shape: 112\n",
            "Test labels shape: 87\n"
          ]
        }
      ],
      "source": [
        "y_train = y_train[::TIMESTEPS]\n",
        "y_test = y_test[::TIMESTEPS]\n",
        "\n",
        "print('Train labels shape: ' + str(y_train.shape[0]))\n",
        "print('Test labels shape: ' + str(y_test.shape[0]))"
      ]
    },
    {
      "cell_type": "code",
      "execution_count": 16,
      "id": "e5bef6f7",
      "metadata": {
        "execution": {
          "iopub.execute_input": "2022-06-05T16:35:41.898534Z",
          "iopub.status.busy": "2022-06-05T16:35:41.898117Z",
          "iopub.status.idle": "2022-06-05T16:35:42.095637Z",
          "shell.execute_reply": "2022-06-05T16:35:42.094208Z"
        },
        "papermill": {
          "duration": 0.214063,
          "end_time": "2022-06-05T16:35:42.098453",
          "exception": false,
          "start_time": "2022-06-05T16:35:41.884390",
          "status": "completed"
        },
        "tags": [],
        "id": "e5bef6f7"
      },
      "outputs": [],
      "source": [
        "import tensorflow as tf\n",
        "from tensorflow import keras, lite\n",
        "from tensorflow.keras.layers import Dense, Dropout, Flatten, ConvLSTM2D, LSTM, RepeatVector\n",
        "import keras_tuner as kt\n",
        "\n",
        "# Set a global random seed for a better random result\n",
        "tf.random.set_seed(42)\n",
        "\n",
        "# Build the model by assigning\n",
        "# the number of layers and number of neurons for each layer\n",
        "# the learning rate\n",
        "# the number of epochs\n",
        "# ------------------------------------------------------------------------\n",
        "# To get these optimal parameters I will use the Keras Tuner library\n",
        "# so it will get the optimal parameters for the NN\n",
        "# and pass it to the model_builder function\n",
        "def model_builder(hp):\n",
        "    model = tf.keras.Sequential()\n",
        "\n",
        "    model.add(LSTM(hp.Int('input_unit', min_value=32, max_value=512, step=32), input_shape=(TIMESTEPS, FEATURES), return_sequences=True))\n",
        "\n",
        "    for i in range(hp.Int('n_layers', 1, 4)):\n",
        "        model.add(LSTM(\n",
        "            hp.Int(f'lstm_{i}_units', min_value=32, max_value=512, step=32),\n",
        "            dropout=hp.Float(f'dropout_{i}_rate', min_value=0, max_value=0.5, step=0.1),\n",
        "            return_sequences=True\n",
        "        ))\n",
        "\n",
        "    model.add(LSTM(hp.Int('lstm_output_neurons', min_value=32, max_value=512, step=32), return_sequences=False))\n",
        "\n",
        "    model.add(Dropout(hp.Float('output_dropout_rate', min_value=0, max_value=0.5, step=0.1)))\n",
        "\n",
        "    model.add(Dense(hp.Int('dense_neurons', min_value=32, max_value=512, step=32)))\n",
        "\n",
        "    model.add(Dense(LABELS, activation='softmax'))\n",
        "\n",
        "\n",
        "    # Tune the learning rate for the optimizer\n",
        "    # Choose an optimal value from 0.1, 0.01, 0.001, or 0.0001\n",
        "    hp_learning_rate = hp.Choice('learning_rate', values=[1e-1, 1e-2, 1e-3, 1e-4])\n",
        "\n",
        "    model.compile(\n",
        "        loss=tf.keras.losses.BinaryCrossentropy(),\n",
        "        optimizer=tf.keras.optimizers.Adam(learning_rate=hp_learning_rate),\n",
        "        metrics=[\n",
        "            tf.keras.metrics.BinaryAccuracy(name='accuracy'),\n",
        "            tf.keras.metrics.Precision(name='precision'),\n",
        "            tf.keras.metrics.Recall(name='recall')\n",
        "        ]\n",
        "    )\n",
        "\n",
        "    return model"
      ]
    },
    {
      "cell_type": "code",
      "execution_count": 17,
      "id": "6e4479e2",
      "metadata": {
        "execution": {
          "iopub.execute_input": "2022-06-05T16:35:42.127578Z",
          "iopub.status.busy": "2022-06-05T16:35:42.126213Z",
          "iopub.status.idle": "2022-06-05T16:35:42.986601Z",
          "shell.execute_reply": "2022-06-05T16:35:42.985880Z"
        },
        "papermill": {
          "duration": 0.87793,
          "end_time": "2022-06-05T16:35:42.989193",
          "exception": false,
          "start_time": "2022-06-05T16:35:42.111263",
          "status": "completed"
        },
        "tags": [],
        "colab": {
          "base_uri": "https://localhost:8080/"
        },
        "id": "6e4479e2",
        "outputId": "962f7510-4b7d-4841-daec-53b8671c326c"
      },
      "outputs": [
        {
          "output_type": "stream",
          "name": "stderr",
          "text": [
            "/usr/local/lib/python3.10/dist-packages/keras/src/layers/rnn/rnn.py:204: UserWarning: Do not pass an `input_shape`/`input_dim` argument to a layer. When using Sequential models, prefer using an `Input(shape)` object as the first layer in the model instead.\n",
            "  super().__init__(**kwargs)\n"
          ]
        }
      ],
      "source": [
        "# To be able to get the optimal parameters for our network\n",
        "# we have to create a Tuner with the following setup\n",
        "# 'objective' -> will use to create test models\n",
        "# 'max_epochs' -> the maximum number of epochs to train one model\n",
        "# 'factor' -> the reduction factor for the number of epochs and number of models for each bracket\n",
        "# 'directory' -> will save the training history there\n",
        "tuner = kt.Hyperband(model_builder,\n",
        "                     objective='val_accuracy',\n",
        "                     max_epochs=50,\n",
        "                     factor=3,\n",
        "                     directory='bin_lstm_dir',\n",
        "                     project_name='driving_behavior')"
      ]
    },
    {
      "cell_type": "code",
      "execution_count": 18,
      "id": "e24d8b07",
      "metadata": {
        "execution": {
          "iopub.execute_input": "2022-06-05T16:35:43.018612Z",
          "iopub.status.busy": "2022-06-05T16:35:43.017962Z",
          "iopub.status.idle": "2022-06-05T16:35:43.022747Z",
          "shell.execute_reply": "2022-06-05T16:35:43.021736Z"
        },
        "papermill": {
          "duration": 0.022693,
          "end_time": "2022-06-05T16:35:43.024852",
          "exception": false,
          "start_time": "2022-06-05T16:35:43.002159",
          "status": "completed"
        },
        "tags": [],
        "id": "e24d8b07"
      },
      "outputs": [],
      "source": [
        "# Define an event that will stop the training\n",
        "# depending of the value of \"val_loss\"\n",
        "# ------------------------------------------------------------------\n",
        "# Will stop training if the \"val_loss\" hasn't improved in 5 epochs.\n",
        "stop_early = tf.keras.callbacks.EarlyStopping(monitor='val_loss', patience=5)"
      ]
    },
    {
      "cell_type": "code",
      "execution_count": 19,
      "id": "2efcadcd",
      "metadata": {
        "execution": {
          "iopub.execute_input": "2022-06-05T16:35:43.052038Z",
          "iopub.status.busy": "2022-06-05T16:35:43.051342Z",
          "iopub.status.idle": "2022-06-05T17:08:22.047801Z",
          "shell.execute_reply": "2022-06-05T17:08:22.046614Z"
        },
        "papermill": {
          "duration": 1959.014719,
          "end_time": "2022-06-05T17:08:22.052077",
          "exception": false,
          "start_time": "2022-06-05T16:35:43.037358",
          "status": "completed"
        },
        "tags": [],
        "colab": {
          "base_uri": "https://localhost:8080/"
        },
        "id": "2efcadcd",
        "outputId": "2c0e8a86-ff83-45d5-9adc-5d2339121aa7"
      },
      "outputs": [
        {
          "output_type": "stream",
          "name": "stdout",
          "text": [
            "Trial 90 Complete [00h 00m 11s]\n",
            "val_accuracy: 0.7011494040489197\n",
            "\n",
            "Best val_accuracy So Far: 0.7241379022598267\n",
            "Total elapsed time: 00h 14m 09s\n"
          ]
        }
      ],
      "source": [
        "# The algorithm trains a large number of models for a few epochs and\n",
        "# carries forward only the top-performing half of models to the next round.\n",
        "tuner.search(\n",
        "        x=X_train,\n",
        "        y=y_train,\n",
        "        epochs=50,\n",
        "        validation_data=(X_test, y_test),\n",
        "        callbacks=[stop_early],\n",
        "        shuffle=True\n",
        ")"
      ]
    },
    {
      "cell_type": "code",
      "execution_count": 20,
      "id": "de5ee7d5",
      "metadata": {
        "execution": {
          "iopub.execute_input": "2022-06-05T17:08:22.084356Z",
          "iopub.status.busy": "2022-06-05T17:08:22.083757Z",
          "iopub.status.idle": "2022-06-05T17:08:42.792310Z",
          "shell.execute_reply": "2022-06-05T17:08:42.791138Z"
        },
        "papermill": {
          "duration": 20.728158,
          "end_time": "2022-06-05T17:08:42.795442",
          "exception": false,
          "start_time": "2022-06-05T17:08:22.067284",
          "status": "completed"
        },
        "tags": [],
        "id": "de5ee7d5"
      },
      "outputs": [],
      "source": [
        "# Get best hyperparameters that were found during the search\n",
        "best_model = tuner.get_best_models()[0]"
      ]
    },
    {
      "cell_type": "code",
      "execution_count": 21,
      "id": "b9848780",
      "metadata": {
        "execution": {
          "iopub.execute_input": "2022-06-05T17:08:42.824940Z",
          "iopub.status.busy": "2022-06-05T17:08:42.824463Z",
          "iopub.status.idle": "2022-06-05T17:08:45.894066Z",
          "shell.execute_reply": "2022-06-05T17:08:45.893285Z"
        },
        "papermill": {
          "duration": 3.087172,
          "end_time": "2022-06-05T17:08:45.896355",
          "exception": false,
          "start_time": "2022-06-05T17:08:42.809183",
          "status": "completed"
        },
        "tags": [],
        "colab": {
          "base_uri": "https://localhost:8080/"
        },
        "id": "b9848780",
        "outputId": "f866d4ee-616c-458b-8626-c2e42a341d9f"
      },
      "outputs": [
        {
          "output_type": "stream",
          "name": "stdout",
          "text": [
            "\u001b[1m3/3\u001b[0m \u001b[32m━━━━━━━━━━━━━━━━━━━━\u001b[0m\u001b[37m\u001b[0m \u001b[1m1s\u001b[0m 21ms/step - accuracy: 0.7702 - loss: 0.8398 - precision: 0.7702 - recall: 0.7702 \n"
          ]
        }
      ],
      "source": [
        "# Get the metrics for our trained model\n",
        "eval_result = best_model.evaluate(X_test, y_test)"
      ]
    },
    {
      "cell_type": "code",
      "execution_count": 23,
      "id": "95d45e1e",
      "metadata": {
        "execution": {
          "iopub.execute_input": "2022-06-05T17:08:45.925991Z",
          "iopub.status.busy": "2022-06-05T17:08:45.925577Z",
          "iopub.status.idle": "2022-06-05T17:08:48.671647Z",
          "shell.execute_reply": "2022-06-05T17:08:48.670584Z"
        },
        "papermill": {
          "duration": 2.764273,
          "end_time": "2022-06-05T17:08:48.674268",
          "exception": false,
          "start_time": "2022-06-05T17:08:45.909995",
          "status": "completed"
        },
        "tags": [],
        "colab": {
          "base_uri": "https://localhost:8080/"
        },
        "id": "95d45e1e",
        "outputId": "c49c6fcd-00fe-4a77-e91b-46c231d40902"
      },
      "outputs": [
        {
          "output_type": "stream",
          "name": "stdout",
          "text": [
            "\u001b[1m3/3\u001b[0m \u001b[32m━━━━━━━━━━━━━━━━━━━━\u001b[0m\u001b[37m\u001b[0m \u001b[1m0s\u001b[0m 8ms/step \n"
          ]
        }
      ],
      "source": [
        "# Get the predictions\n",
        "y_pred=best_model.predict(x=X_test)"
      ]
    },
    {
      "cell_type": "code",
      "execution_count": 24,
      "id": "bf64468d",
      "metadata": {
        "execution": {
          "iopub.execute_input": "2022-06-05T17:08:48.709459Z",
          "iopub.status.busy": "2022-06-05T17:08:48.708592Z",
          "iopub.status.idle": "2022-06-05T17:08:48.737041Z",
          "shell.execute_reply": "2022-06-05T17:08:48.735764Z"
        },
        "papermill": {
          "duration": 0.051789,
          "end_time": "2022-06-05T17:08:48.741368",
          "exception": false,
          "start_time": "2022-06-05T17:08:48.689579",
          "status": "completed"
        },
        "tags": [],
        "colab": {
          "base_uri": "https://localhost:8080/",
          "height": 423
        },
        "id": "bf64468d",
        "outputId": "e7e69ff8-2023-4264-f757-1a8910f2cea1"
      },
      "outputs": [
        {
          "output_type": "execute_result",
          "data": {
            "text/plain": [
              "    AGGRESSIVE        NORMAL\n",
              "0     0.015625  9.843746e-01\n",
              "1     0.010244  9.897562e-01\n",
              "2     0.022089  9.779112e-01\n",
              "3     0.009426  9.905736e-01\n",
              "4     0.029229  9.707708e-01\n",
              "..         ...           ...\n",
              "82    0.021595  9.784051e-01\n",
              "83    1.000000  2.365234e-07\n",
              "84    0.006043  9.939574e-01\n",
              "85    0.007515  9.924849e-01\n",
              "86    0.000633  9.993666e-01\n",
              "\n",
              "[87 rows x 2 columns]"
            ],
            "text/html": [
              "\n",
              "  <div id=\"df-3c0b091a-fb68-49d8-91bc-f4fc20da1fe2\" class=\"colab-df-container\">\n",
              "    <div>\n",
              "<style scoped>\n",
              "    .dataframe tbody tr th:only-of-type {\n",
              "        vertical-align: middle;\n",
              "    }\n",
              "\n",
              "    .dataframe tbody tr th {\n",
              "        vertical-align: top;\n",
              "    }\n",
              "\n",
              "    .dataframe thead th {\n",
              "        text-align: right;\n",
              "    }\n",
              "</style>\n",
              "<table border=\"1\" class=\"dataframe\">\n",
              "  <thead>\n",
              "    <tr style=\"text-align: right;\">\n",
              "      <th></th>\n",
              "      <th>AGGRESSIVE</th>\n",
              "      <th>NORMAL</th>\n",
              "    </tr>\n",
              "  </thead>\n",
              "  <tbody>\n",
              "    <tr>\n",
              "      <th>0</th>\n",
              "      <td>0.015625</td>\n",
              "      <td>9.843746e-01</td>\n",
              "    </tr>\n",
              "    <tr>\n",
              "      <th>1</th>\n",
              "      <td>0.010244</td>\n",
              "      <td>9.897562e-01</td>\n",
              "    </tr>\n",
              "    <tr>\n",
              "      <th>2</th>\n",
              "      <td>0.022089</td>\n",
              "      <td>9.779112e-01</td>\n",
              "    </tr>\n",
              "    <tr>\n",
              "      <th>3</th>\n",
              "      <td>0.009426</td>\n",
              "      <td>9.905736e-01</td>\n",
              "    </tr>\n",
              "    <tr>\n",
              "      <th>4</th>\n",
              "      <td>0.029229</td>\n",
              "      <td>9.707708e-01</td>\n",
              "    </tr>\n",
              "    <tr>\n",
              "      <th>...</th>\n",
              "      <td>...</td>\n",
              "      <td>...</td>\n",
              "    </tr>\n",
              "    <tr>\n",
              "      <th>82</th>\n",
              "      <td>0.021595</td>\n",
              "      <td>9.784051e-01</td>\n",
              "    </tr>\n",
              "    <tr>\n",
              "      <th>83</th>\n",
              "      <td>1.000000</td>\n",
              "      <td>2.365234e-07</td>\n",
              "    </tr>\n",
              "    <tr>\n",
              "      <th>84</th>\n",
              "      <td>0.006043</td>\n",
              "      <td>9.939574e-01</td>\n",
              "    </tr>\n",
              "    <tr>\n",
              "      <th>85</th>\n",
              "      <td>0.007515</td>\n",
              "      <td>9.924849e-01</td>\n",
              "    </tr>\n",
              "    <tr>\n",
              "      <th>86</th>\n",
              "      <td>0.000633</td>\n",
              "      <td>9.993666e-01</td>\n",
              "    </tr>\n",
              "  </tbody>\n",
              "</table>\n",
              "<p>87 rows × 2 columns</p>\n",
              "</div>\n",
              "    <div class=\"colab-df-buttons\">\n",
              "\n",
              "  <div class=\"colab-df-container\">\n",
              "    <button class=\"colab-df-convert\" onclick=\"convertToInteractive('df-3c0b091a-fb68-49d8-91bc-f4fc20da1fe2')\"\n",
              "            title=\"Convert this dataframe to an interactive table.\"\n",
              "            style=\"display:none;\">\n",
              "\n",
              "  <svg xmlns=\"http://www.w3.org/2000/svg\" height=\"24px\" viewBox=\"0 -960 960 960\">\n",
              "    <path d=\"M120-120v-720h720v720H120Zm60-500h600v-160H180v160Zm220 220h160v-160H400v160Zm0 220h160v-160H400v160ZM180-400h160v-160H180v160Zm440 0h160v-160H620v160ZM180-180h160v-160H180v160Zm440 0h160v-160H620v160Z\"/>\n",
              "  </svg>\n",
              "    </button>\n",
              "\n",
              "  <style>\n",
              "    .colab-df-container {\n",
              "      display:flex;\n",
              "      gap: 12px;\n",
              "    }\n",
              "\n",
              "    .colab-df-convert {\n",
              "      background-color: #E8F0FE;\n",
              "      border: none;\n",
              "      border-radius: 50%;\n",
              "      cursor: pointer;\n",
              "      display: none;\n",
              "      fill: #1967D2;\n",
              "      height: 32px;\n",
              "      padding: 0 0 0 0;\n",
              "      width: 32px;\n",
              "    }\n",
              "\n",
              "    .colab-df-convert:hover {\n",
              "      background-color: #E2EBFA;\n",
              "      box-shadow: 0px 1px 2px rgba(60, 64, 67, 0.3), 0px 1px 3px 1px rgba(60, 64, 67, 0.15);\n",
              "      fill: #174EA6;\n",
              "    }\n",
              "\n",
              "    .colab-df-buttons div {\n",
              "      margin-bottom: 4px;\n",
              "    }\n",
              "\n",
              "    [theme=dark] .colab-df-convert {\n",
              "      background-color: #3B4455;\n",
              "      fill: #D2E3FC;\n",
              "    }\n",
              "\n",
              "    [theme=dark] .colab-df-convert:hover {\n",
              "      background-color: #434B5C;\n",
              "      box-shadow: 0px 1px 3px 1px rgba(0, 0, 0, 0.15);\n",
              "      filter: drop-shadow(0px 1px 2px rgba(0, 0, 0, 0.3));\n",
              "      fill: #FFFFFF;\n",
              "    }\n",
              "  </style>\n",
              "\n",
              "    <script>\n",
              "      const buttonEl =\n",
              "        document.querySelector('#df-3c0b091a-fb68-49d8-91bc-f4fc20da1fe2 button.colab-df-convert');\n",
              "      buttonEl.style.display =\n",
              "        google.colab.kernel.accessAllowed ? 'block' : 'none';\n",
              "\n",
              "      async function convertToInteractive(key) {\n",
              "        const element = document.querySelector('#df-3c0b091a-fb68-49d8-91bc-f4fc20da1fe2');\n",
              "        const dataTable =\n",
              "          await google.colab.kernel.invokeFunction('convertToInteractive',\n",
              "                                                    [key], {});\n",
              "        if (!dataTable) return;\n",
              "\n",
              "        const docLinkHtml = 'Like what you see? Visit the ' +\n",
              "          '<a target=\"_blank\" href=https://colab.research.google.com/notebooks/data_table.ipynb>data table notebook</a>'\n",
              "          + ' to learn more about interactive tables.';\n",
              "        element.innerHTML = '';\n",
              "        dataTable['output_type'] = 'display_data';\n",
              "        await google.colab.output.renderOutput(dataTable, element);\n",
              "        const docLink = document.createElement('div');\n",
              "        docLink.innerHTML = docLinkHtml;\n",
              "        element.appendChild(docLink);\n",
              "      }\n",
              "    </script>\n",
              "  </div>\n",
              "\n",
              "\n",
              "<div id=\"df-193d0083-1441-4e84-a96f-f9c595674513\">\n",
              "  <button class=\"colab-df-quickchart\" onclick=\"quickchart('df-193d0083-1441-4e84-a96f-f9c595674513')\"\n",
              "            title=\"Suggest charts\"\n",
              "            style=\"display:none;\">\n",
              "\n",
              "<svg xmlns=\"http://www.w3.org/2000/svg\" height=\"24px\"viewBox=\"0 0 24 24\"\n",
              "     width=\"24px\">\n",
              "    <g>\n",
              "        <path d=\"M19 3H5c-1.1 0-2 .9-2 2v14c0 1.1.9 2 2 2h14c1.1 0 2-.9 2-2V5c0-1.1-.9-2-2-2zM9 17H7v-7h2v7zm4 0h-2V7h2v10zm4 0h-2v-4h2v4z\"/>\n",
              "    </g>\n",
              "</svg>\n",
              "  </button>\n",
              "\n",
              "<style>\n",
              "  .colab-df-quickchart {\n",
              "      --bg-color: #E8F0FE;\n",
              "      --fill-color: #1967D2;\n",
              "      --hover-bg-color: #E2EBFA;\n",
              "      --hover-fill-color: #174EA6;\n",
              "      --disabled-fill-color: #AAA;\n",
              "      --disabled-bg-color: #DDD;\n",
              "  }\n",
              "\n",
              "  [theme=dark] .colab-df-quickchart {\n",
              "      --bg-color: #3B4455;\n",
              "      --fill-color: #D2E3FC;\n",
              "      --hover-bg-color: #434B5C;\n",
              "      --hover-fill-color: #FFFFFF;\n",
              "      --disabled-bg-color: #3B4455;\n",
              "      --disabled-fill-color: #666;\n",
              "  }\n",
              "\n",
              "  .colab-df-quickchart {\n",
              "    background-color: var(--bg-color);\n",
              "    border: none;\n",
              "    border-radius: 50%;\n",
              "    cursor: pointer;\n",
              "    display: none;\n",
              "    fill: var(--fill-color);\n",
              "    height: 32px;\n",
              "    padding: 0;\n",
              "    width: 32px;\n",
              "  }\n",
              "\n",
              "  .colab-df-quickchart:hover {\n",
              "    background-color: var(--hover-bg-color);\n",
              "    box-shadow: 0 1px 2px rgba(60, 64, 67, 0.3), 0 1px 3px 1px rgba(60, 64, 67, 0.15);\n",
              "    fill: var(--button-hover-fill-color);\n",
              "  }\n",
              "\n",
              "  .colab-df-quickchart-complete:disabled,\n",
              "  .colab-df-quickchart-complete:disabled:hover {\n",
              "    background-color: var(--disabled-bg-color);\n",
              "    fill: var(--disabled-fill-color);\n",
              "    box-shadow: none;\n",
              "  }\n",
              "\n",
              "  .colab-df-spinner {\n",
              "    border: 2px solid var(--fill-color);\n",
              "    border-color: transparent;\n",
              "    border-bottom-color: var(--fill-color);\n",
              "    animation:\n",
              "      spin 1s steps(1) infinite;\n",
              "  }\n",
              "\n",
              "  @keyframes spin {\n",
              "    0% {\n",
              "      border-color: transparent;\n",
              "      border-bottom-color: var(--fill-color);\n",
              "      border-left-color: var(--fill-color);\n",
              "    }\n",
              "    20% {\n",
              "      border-color: transparent;\n",
              "      border-left-color: var(--fill-color);\n",
              "      border-top-color: var(--fill-color);\n",
              "    }\n",
              "    30% {\n",
              "      border-color: transparent;\n",
              "      border-left-color: var(--fill-color);\n",
              "      border-top-color: var(--fill-color);\n",
              "      border-right-color: var(--fill-color);\n",
              "    }\n",
              "    40% {\n",
              "      border-color: transparent;\n",
              "      border-right-color: var(--fill-color);\n",
              "      border-top-color: var(--fill-color);\n",
              "    }\n",
              "    60% {\n",
              "      border-color: transparent;\n",
              "      border-right-color: var(--fill-color);\n",
              "    }\n",
              "    80% {\n",
              "      border-color: transparent;\n",
              "      border-right-color: var(--fill-color);\n",
              "      border-bottom-color: var(--fill-color);\n",
              "    }\n",
              "    90% {\n",
              "      border-color: transparent;\n",
              "      border-bottom-color: var(--fill-color);\n",
              "    }\n",
              "  }\n",
              "</style>\n",
              "\n",
              "  <script>\n",
              "    async function quickchart(key) {\n",
              "      const quickchartButtonEl =\n",
              "        document.querySelector('#' + key + ' button');\n",
              "      quickchartButtonEl.disabled = true;  // To prevent multiple clicks.\n",
              "      quickchartButtonEl.classList.add('colab-df-spinner');\n",
              "      try {\n",
              "        const charts = await google.colab.kernel.invokeFunction(\n",
              "            'suggestCharts', [key], {});\n",
              "      } catch (error) {\n",
              "        console.error('Error during call to suggestCharts:', error);\n",
              "      }\n",
              "      quickchartButtonEl.classList.remove('colab-df-spinner');\n",
              "      quickchartButtonEl.classList.add('colab-df-quickchart-complete');\n",
              "    }\n",
              "    (() => {\n",
              "      let quickchartButtonEl =\n",
              "        document.querySelector('#df-193d0083-1441-4e84-a96f-f9c595674513 button');\n",
              "      quickchartButtonEl.style.display =\n",
              "        google.colab.kernel.accessAllowed ? 'block' : 'none';\n",
              "    })();\n",
              "  </script>\n",
              "</div>\n",
              "\n",
              "  <div id=\"id_402f3f12-7e5c-4163-bca9-66d0a2ec76b9\">\n",
              "    <style>\n",
              "      .colab-df-generate {\n",
              "        background-color: #E8F0FE;\n",
              "        border: none;\n",
              "        border-radius: 50%;\n",
              "        cursor: pointer;\n",
              "        display: none;\n",
              "        fill: #1967D2;\n",
              "        height: 32px;\n",
              "        padding: 0 0 0 0;\n",
              "        width: 32px;\n",
              "      }\n",
              "\n",
              "      .colab-df-generate:hover {\n",
              "        background-color: #E2EBFA;\n",
              "        box-shadow: 0px 1px 2px rgba(60, 64, 67, 0.3), 0px 1px 3px 1px rgba(60, 64, 67, 0.15);\n",
              "        fill: #174EA6;\n",
              "      }\n",
              "\n",
              "      [theme=dark] .colab-df-generate {\n",
              "        background-color: #3B4455;\n",
              "        fill: #D2E3FC;\n",
              "      }\n",
              "\n",
              "      [theme=dark] .colab-df-generate:hover {\n",
              "        background-color: #434B5C;\n",
              "        box-shadow: 0px 1px 3px 1px rgba(0, 0, 0, 0.15);\n",
              "        filter: drop-shadow(0px 1px 2px rgba(0, 0, 0, 0.3));\n",
              "        fill: #FFFFFF;\n",
              "      }\n",
              "    </style>\n",
              "    <button class=\"colab-df-generate\" onclick=\"generateWithVariable('df_predicted')\"\n",
              "            title=\"Generate code using this dataframe.\"\n",
              "            style=\"display:none;\">\n",
              "\n",
              "  <svg xmlns=\"http://www.w3.org/2000/svg\" height=\"24px\"viewBox=\"0 0 24 24\"\n",
              "       width=\"24px\">\n",
              "    <path d=\"M7,19H8.4L18.45,9,17,7.55,7,17.6ZM5,21V16.75L18.45,3.32a2,2,0,0,1,2.83,0l1.4,1.43a1.91,1.91,0,0,1,.58,1.4,1.91,1.91,0,0,1-.58,1.4L9.25,21ZM18.45,9,17,7.55Zm-12,3A5.31,5.31,0,0,0,4.9,8.1,5.31,5.31,0,0,0,1,6.5,5.31,5.31,0,0,0,4.9,4.9,5.31,5.31,0,0,0,6.5,1,5.31,5.31,0,0,0,8.1,4.9,5.31,5.31,0,0,0,12,6.5,5.46,5.46,0,0,0,6.5,12Z\"/>\n",
              "  </svg>\n",
              "    </button>\n",
              "    <script>\n",
              "      (() => {\n",
              "      const buttonEl =\n",
              "        document.querySelector('#id_402f3f12-7e5c-4163-bca9-66d0a2ec76b9 button.colab-df-generate');\n",
              "      buttonEl.style.display =\n",
              "        google.colab.kernel.accessAllowed ? 'block' : 'none';\n",
              "\n",
              "      buttonEl.onclick = () => {\n",
              "        google.colab.notebook.generateWithVariable('df_predicted');\n",
              "      }\n",
              "      })();\n",
              "    </script>\n",
              "  </div>\n",
              "\n",
              "    </div>\n",
              "  </div>\n"
            ],
            "application/vnd.google.colaboratory.intrinsic+json": {
              "type": "dataframe",
              "variable_name": "df_predicted",
              "summary": "{\n  \"name\": \"df_predicted\",\n  \"rows\": 87,\n  \"fields\": [\n    {\n      \"column\": \"AGGRESSIVE\",\n      \"properties\": {\n        \"dtype\": \"float32\",\n        \"num_unique_values\": 81,\n        \"samples\": [\n          0.0452958419919014,\n          0.015625441446900368,\n          0.9999997615814209\n        ],\n        \"semantic_type\": \"\",\n        \"description\": \"\"\n      }\n    },\n    {\n      \"column\": \"NORMAL\",\n      \"properties\": {\n        \"dtype\": \"float32\",\n        \"num_unique_values\": 87,\n        \"samples\": [\n          1.6838664862461883e-07,\n          0.9843745827674866,\n          5.268778477329761e-05\n        ],\n        \"semantic_type\": \"\",\n        \"description\": \"\"\n      }\n    }\n  ]\n}"
            }
          },
          "metadata": {},
          "execution_count": 24
        }
      ],
      "source": [
        "# Transform the predicted scores array to a pretty Dataframe ^^\n",
        "df_predicted = pd.DataFrame(y_pred, columns=['AGGRESSIVE', 'NORMAL'])\n",
        "df_predicted"
      ]
    },
    {
      "cell_type": "code",
      "execution_count": 25,
      "id": "6c7c643b",
      "metadata": {
        "execution": {
          "iopub.execute_input": "2022-06-05T17:08:48.772092Z",
          "iopub.status.busy": "2022-06-05T17:08:48.771605Z",
          "iopub.status.idle": "2022-06-05T17:08:48.790413Z",
          "shell.execute_reply": "2022-06-05T17:08:48.789318Z"
        },
        "papermill": {
          "duration": 0.037151,
          "end_time": "2022-06-05T17:08:48.792629",
          "exception": false,
          "start_time": "2022-06-05T17:08:48.755478",
          "status": "completed"
        },
        "tags": [],
        "colab": {
          "base_uri": "https://localhost:8080/",
          "height": 423
        },
        "id": "6c7c643b",
        "outputId": "f36b043e-fa5d-4fcd-b197-00117e8433ca"
      },
      "outputs": [
        {
          "output_type": "execute_result",
          "data": {
            "text/plain": [
              "   Original Class\n",
              "0          NORMAL\n",
              "1          NORMAL\n",
              "2          NORMAL\n",
              "3          NORMAL\n",
              "4          NORMAL\n",
              "..            ...\n",
              "82     AGGRESSIVE\n",
              "83     AGGRESSIVE\n",
              "84     AGGRESSIVE\n",
              "85     AGGRESSIVE\n",
              "86     AGGRESSIVE\n",
              "\n",
              "[87 rows x 1 columns]"
            ],
            "text/html": [
              "\n",
              "  <div id=\"df-a5cd62a3-4329-47fc-bc68-cbbbbcaf2fb8\" class=\"colab-df-container\">\n",
              "    <div>\n",
              "<style scoped>\n",
              "    .dataframe tbody tr th:only-of-type {\n",
              "        vertical-align: middle;\n",
              "    }\n",
              "\n",
              "    .dataframe tbody tr th {\n",
              "        vertical-align: top;\n",
              "    }\n",
              "\n",
              "    .dataframe thead th {\n",
              "        text-align: right;\n",
              "    }\n",
              "</style>\n",
              "<table border=\"1\" class=\"dataframe\">\n",
              "  <thead>\n",
              "    <tr style=\"text-align: right;\">\n",
              "      <th></th>\n",
              "      <th>Original Class</th>\n",
              "    </tr>\n",
              "  </thead>\n",
              "  <tbody>\n",
              "    <tr>\n",
              "      <th>0</th>\n",
              "      <td>NORMAL</td>\n",
              "    </tr>\n",
              "    <tr>\n",
              "      <th>1</th>\n",
              "      <td>NORMAL</td>\n",
              "    </tr>\n",
              "    <tr>\n",
              "      <th>2</th>\n",
              "      <td>NORMAL</td>\n",
              "    </tr>\n",
              "    <tr>\n",
              "      <th>3</th>\n",
              "      <td>NORMAL</td>\n",
              "    </tr>\n",
              "    <tr>\n",
              "      <th>4</th>\n",
              "      <td>NORMAL</td>\n",
              "    </tr>\n",
              "    <tr>\n",
              "      <th>...</th>\n",
              "      <td>...</td>\n",
              "    </tr>\n",
              "    <tr>\n",
              "      <th>82</th>\n",
              "      <td>AGGRESSIVE</td>\n",
              "    </tr>\n",
              "    <tr>\n",
              "      <th>83</th>\n",
              "      <td>AGGRESSIVE</td>\n",
              "    </tr>\n",
              "    <tr>\n",
              "      <th>84</th>\n",
              "      <td>AGGRESSIVE</td>\n",
              "    </tr>\n",
              "    <tr>\n",
              "      <th>85</th>\n",
              "      <td>AGGRESSIVE</td>\n",
              "    </tr>\n",
              "    <tr>\n",
              "      <th>86</th>\n",
              "      <td>AGGRESSIVE</td>\n",
              "    </tr>\n",
              "  </tbody>\n",
              "</table>\n",
              "<p>87 rows × 1 columns</p>\n",
              "</div>\n",
              "    <div class=\"colab-df-buttons\">\n",
              "\n",
              "  <div class=\"colab-df-container\">\n",
              "    <button class=\"colab-df-convert\" onclick=\"convertToInteractive('df-a5cd62a3-4329-47fc-bc68-cbbbbcaf2fb8')\"\n",
              "            title=\"Convert this dataframe to an interactive table.\"\n",
              "            style=\"display:none;\">\n",
              "\n",
              "  <svg xmlns=\"http://www.w3.org/2000/svg\" height=\"24px\" viewBox=\"0 -960 960 960\">\n",
              "    <path d=\"M120-120v-720h720v720H120Zm60-500h600v-160H180v160Zm220 220h160v-160H400v160Zm0 220h160v-160H400v160ZM180-400h160v-160H180v160Zm440 0h160v-160H620v160ZM180-180h160v-160H180v160Zm440 0h160v-160H620v160Z\"/>\n",
              "  </svg>\n",
              "    </button>\n",
              "\n",
              "  <style>\n",
              "    .colab-df-container {\n",
              "      display:flex;\n",
              "      gap: 12px;\n",
              "    }\n",
              "\n",
              "    .colab-df-convert {\n",
              "      background-color: #E8F0FE;\n",
              "      border: none;\n",
              "      border-radius: 50%;\n",
              "      cursor: pointer;\n",
              "      display: none;\n",
              "      fill: #1967D2;\n",
              "      height: 32px;\n",
              "      padding: 0 0 0 0;\n",
              "      width: 32px;\n",
              "    }\n",
              "\n",
              "    .colab-df-convert:hover {\n",
              "      background-color: #E2EBFA;\n",
              "      box-shadow: 0px 1px 2px rgba(60, 64, 67, 0.3), 0px 1px 3px 1px rgba(60, 64, 67, 0.15);\n",
              "      fill: #174EA6;\n",
              "    }\n",
              "\n",
              "    .colab-df-buttons div {\n",
              "      margin-bottom: 4px;\n",
              "    }\n",
              "\n",
              "    [theme=dark] .colab-df-convert {\n",
              "      background-color: #3B4455;\n",
              "      fill: #D2E3FC;\n",
              "    }\n",
              "\n",
              "    [theme=dark] .colab-df-convert:hover {\n",
              "      background-color: #434B5C;\n",
              "      box-shadow: 0px 1px 3px 1px rgba(0, 0, 0, 0.15);\n",
              "      filter: drop-shadow(0px 1px 2px rgba(0, 0, 0, 0.3));\n",
              "      fill: #FFFFFF;\n",
              "    }\n",
              "  </style>\n",
              "\n",
              "    <script>\n",
              "      const buttonEl =\n",
              "        document.querySelector('#df-a5cd62a3-4329-47fc-bc68-cbbbbcaf2fb8 button.colab-df-convert');\n",
              "      buttonEl.style.display =\n",
              "        google.colab.kernel.accessAllowed ? 'block' : 'none';\n",
              "\n",
              "      async function convertToInteractive(key) {\n",
              "        const element = document.querySelector('#df-a5cd62a3-4329-47fc-bc68-cbbbbcaf2fb8');\n",
              "        const dataTable =\n",
              "          await google.colab.kernel.invokeFunction('convertToInteractive',\n",
              "                                                    [key], {});\n",
              "        if (!dataTable) return;\n",
              "\n",
              "        const docLinkHtml = 'Like what you see? Visit the ' +\n",
              "          '<a target=\"_blank\" href=https://colab.research.google.com/notebooks/data_table.ipynb>data table notebook</a>'\n",
              "          + ' to learn more about interactive tables.';\n",
              "        element.innerHTML = '';\n",
              "        dataTable['output_type'] = 'display_data';\n",
              "        await google.colab.output.renderOutput(dataTable, element);\n",
              "        const docLink = document.createElement('div');\n",
              "        docLink.innerHTML = docLinkHtml;\n",
              "        element.appendChild(docLink);\n",
              "      }\n",
              "    </script>\n",
              "  </div>\n",
              "\n",
              "\n",
              "<div id=\"df-1f384dac-1d1d-4d87-84ee-72cda01d5dff\">\n",
              "  <button class=\"colab-df-quickchart\" onclick=\"quickchart('df-1f384dac-1d1d-4d87-84ee-72cda01d5dff')\"\n",
              "            title=\"Suggest charts\"\n",
              "            style=\"display:none;\">\n",
              "\n",
              "<svg xmlns=\"http://www.w3.org/2000/svg\" height=\"24px\"viewBox=\"0 0 24 24\"\n",
              "     width=\"24px\">\n",
              "    <g>\n",
              "        <path d=\"M19 3H5c-1.1 0-2 .9-2 2v14c0 1.1.9 2 2 2h14c1.1 0 2-.9 2-2V5c0-1.1-.9-2-2-2zM9 17H7v-7h2v7zm4 0h-2V7h2v10zm4 0h-2v-4h2v4z\"/>\n",
              "    </g>\n",
              "</svg>\n",
              "  </button>\n",
              "\n",
              "<style>\n",
              "  .colab-df-quickchart {\n",
              "      --bg-color: #E8F0FE;\n",
              "      --fill-color: #1967D2;\n",
              "      --hover-bg-color: #E2EBFA;\n",
              "      --hover-fill-color: #174EA6;\n",
              "      --disabled-fill-color: #AAA;\n",
              "      --disabled-bg-color: #DDD;\n",
              "  }\n",
              "\n",
              "  [theme=dark] .colab-df-quickchart {\n",
              "      --bg-color: #3B4455;\n",
              "      --fill-color: #D2E3FC;\n",
              "      --hover-bg-color: #434B5C;\n",
              "      --hover-fill-color: #FFFFFF;\n",
              "      --disabled-bg-color: #3B4455;\n",
              "      --disabled-fill-color: #666;\n",
              "  }\n",
              "\n",
              "  .colab-df-quickchart {\n",
              "    background-color: var(--bg-color);\n",
              "    border: none;\n",
              "    border-radius: 50%;\n",
              "    cursor: pointer;\n",
              "    display: none;\n",
              "    fill: var(--fill-color);\n",
              "    height: 32px;\n",
              "    padding: 0;\n",
              "    width: 32px;\n",
              "  }\n",
              "\n",
              "  .colab-df-quickchart:hover {\n",
              "    background-color: var(--hover-bg-color);\n",
              "    box-shadow: 0 1px 2px rgba(60, 64, 67, 0.3), 0 1px 3px 1px rgba(60, 64, 67, 0.15);\n",
              "    fill: var(--button-hover-fill-color);\n",
              "  }\n",
              "\n",
              "  .colab-df-quickchart-complete:disabled,\n",
              "  .colab-df-quickchart-complete:disabled:hover {\n",
              "    background-color: var(--disabled-bg-color);\n",
              "    fill: var(--disabled-fill-color);\n",
              "    box-shadow: none;\n",
              "  }\n",
              "\n",
              "  .colab-df-spinner {\n",
              "    border: 2px solid var(--fill-color);\n",
              "    border-color: transparent;\n",
              "    border-bottom-color: var(--fill-color);\n",
              "    animation:\n",
              "      spin 1s steps(1) infinite;\n",
              "  }\n",
              "\n",
              "  @keyframes spin {\n",
              "    0% {\n",
              "      border-color: transparent;\n",
              "      border-bottom-color: var(--fill-color);\n",
              "      border-left-color: var(--fill-color);\n",
              "    }\n",
              "    20% {\n",
              "      border-color: transparent;\n",
              "      border-left-color: var(--fill-color);\n",
              "      border-top-color: var(--fill-color);\n",
              "    }\n",
              "    30% {\n",
              "      border-color: transparent;\n",
              "      border-left-color: var(--fill-color);\n",
              "      border-top-color: var(--fill-color);\n",
              "      border-right-color: var(--fill-color);\n",
              "    }\n",
              "    40% {\n",
              "      border-color: transparent;\n",
              "      border-right-color: var(--fill-color);\n",
              "      border-top-color: var(--fill-color);\n",
              "    }\n",
              "    60% {\n",
              "      border-color: transparent;\n",
              "      border-right-color: var(--fill-color);\n",
              "    }\n",
              "    80% {\n",
              "      border-color: transparent;\n",
              "      border-right-color: var(--fill-color);\n",
              "      border-bottom-color: var(--fill-color);\n",
              "    }\n",
              "    90% {\n",
              "      border-color: transparent;\n",
              "      border-bottom-color: var(--fill-color);\n",
              "    }\n",
              "  }\n",
              "</style>\n",
              "\n",
              "  <script>\n",
              "    async function quickchart(key) {\n",
              "      const quickchartButtonEl =\n",
              "        document.querySelector('#' + key + ' button');\n",
              "      quickchartButtonEl.disabled = true;  // To prevent multiple clicks.\n",
              "      quickchartButtonEl.classList.add('colab-df-spinner');\n",
              "      try {\n",
              "        const charts = await google.colab.kernel.invokeFunction(\n",
              "            'suggestCharts', [key], {});\n",
              "      } catch (error) {\n",
              "        console.error('Error during call to suggestCharts:', error);\n",
              "      }\n",
              "      quickchartButtonEl.classList.remove('colab-df-spinner');\n",
              "      quickchartButtonEl.classList.add('colab-df-quickchart-complete');\n",
              "    }\n",
              "    (() => {\n",
              "      let quickchartButtonEl =\n",
              "        document.querySelector('#df-1f384dac-1d1d-4d87-84ee-72cda01d5dff button');\n",
              "      quickchartButtonEl.style.display =\n",
              "        google.colab.kernel.accessAllowed ? 'block' : 'none';\n",
              "    })();\n",
              "  </script>\n",
              "</div>\n",
              "\n",
              "  <div id=\"id_7f4d3580-dbd0-417d-bc9d-ce6aadd46955\">\n",
              "    <style>\n",
              "      .colab-df-generate {\n",
              "        background-color: #E8F0FE;\n",
              "        border: none;\n",
              "        border-radius: 50%;\n",
              "        cursor: pointer;\n",
              "        display: none;\n",
              "        fill: #1967D2;\n",
              "        height: 32px;\n",
              "        padding: 0 0 0 0;\n",
              "        width: 32px;\n",
              "      }\n",
              "\n",
              "      .colab-df-generate:hover {\n",
              "        background-color: #E2EBFA;\n",
              "        box-shadow: 0px 1px 2px rgba(60, 64, 67, 0.3), 0px 1px 3px 1px rgba(60, 64, 67, 0.15);\n",
              "        fill: #174EA6;\n",
              "      }\n",
              "\n",
              "      [theme=dark] .colab-df-generate {\n",
              "        background-color: #3B4455;\n",
              "        fill: #D2E3FC;\n",
              "      }\n",
              "\n",
              "      [theme=dark] .colab-df-generate:hover {\n",
              "        background-color: #434B5C;\n",
              "        box-shadow: 0px 1px 3px 1px rgba(0, 0, 0, 0.15);\n",
              "        filter: drop-shadow(0px 1px 2px rgba(0, 0, 0, 0.3));\n",
              "        fill: #FFFFFF;\n",
              "      }\n",
              "    </style>\n",
              "    <button class=\"colab-df-generate\" onclick=\"generateWithVariable('df_actual')\"\n",
              "            title=\"Generate code using this dataframe.\"\n",
              "            style=\"display:none;\">\n",
              "\n",
              "  <svg xmlns=\"http://www.w3.org/2000/svg\" height=\"24px\"viewBox=\"0 0 24 24\"\n",
              "       width=\"24px\">\n",
              "    <path d=\"M7,19H8.4L18.45,9,17,7.55,7,17.6ZM5,21V16.75L18.45,3.32a2,2,0,0,1,2.83,0l1.4,1.43a1.91,1.91,0,0,1,.58,1.4,1.91,1.91,0,0,1-.58,1.4L9.25,21ZM18.45,9,17,7.55Zm-12,3A5.31,5.31,0,0,0,4.9,8.1,5.31,5.31,0,0,0,1,6.5,5.31,5.31,0,0,0,4.9,4.9,5.31,5.31,0,0,0,6.5,1,5.31,5.31,0,0,0,8.1,4.9,5.31,5.31,0,0,0,12,6.5,5.46,5.46,0,0,0,6.5,12Z\"/>\n",
              "  </svg>\n",
              "    </button>\n",
              "    <script>\n",
              "      (() => {\n",
              "      const buttonEl =\n",
              "        document.querySelector('#id_7f4d3580-dbd0-417d-bc9d-ce6aadd46955 button.colab-df-generate');\n",
              "      buttonEl.style.display =\n",
              "        google.colab.kernel.accessAllowed ? 'block' : 'none';\n",
              "\n",
              "      buttonEl.onclick = () => {\n",
              "        google.colab.notebook.generateWithVariable('df_actual');\n",
              "      }\n",
              "      })();\n",
              "    </script>\n",
              "  </div>\n",
              "\n",
              "    </div>\n",
              "  </div>\n"
            ],
            "application/vnd.google.colaboratory.intrinsic+json": {
              "type": "dataframe",
              "variable_name": "df_actual",
              "summary": "{\n  \"name\": \"df_actual\",\n  \"rows\": 87,\n  \"fields\": [\n    {\n      \"column\": \"Original Class\",\n      \"properties\": {\n        \"dtype\": \"category\",\n        \"num_unique_values\": 2,\n        \"samples\": [\n          \"AGGRESSIVE\",\n          \"NORMAL\"\n        ],\n        \"semantic_type\": \"\",\n        \"description\": \"\"\n      }\n    }\n  ]\n}"
            }
          },
          "metadata": {},
          "execution_count": 25
        }
      ],
      "source": [
        "import numpy as np\n",
        "# Reverse the one hot encoded vector\n",
        "actual_y_test = np.argmax(y_test, axis=1)\n",
        "array_actual = labelEncoder.inverse_transform(actual_y_test)\n",
        "\n",
        "# Transform the given class array to a Dataframe\n",
        "df_actual = pd.DataFrame(array_actual, columns = ['Original Class'])\n",
        "df_actual"
      ]
    },
    {
      "cell_type": "code",
      "execution_count": 26,
      "id": "927e6a8f",
      "metadata": {
        "execution": {
          "iopub.execute_input": "2022-06-05T17:08:48.823302Z",
          "iopub.status.busy": "2022-06-05T17:08:48.822594Z",
          "iopub.status.idle": "2022-06-05T17:08:48.838647Z",
          "shell.execute_reply": "2022-06-05T17:08:48.837660Z"
        },
        "papermill": {
          "duration": 0.034082,
          "end_time": "2022-06-05T17:08:48.840808",
          "exception": false,
          "start_time": "2022-06-05T17:08:48.806726",
          "status": "completed"
        },
        "tags": [],
        "colab": {
          "base_uri": "https://localhost:8080/",
          "height": 423
        },
        "id": "927e6a8f",
        "outputId": "945e589b-7d29-4618-ebfe-89e5014a2c5c"
      },
      "outputs": [
        {
          "output_type": "execute_result",
          "data": {
            "text/plain": [
              "    AGGRESSIVE        NORMAL Original Class\n",
              "0     0.015625  9.843746e-01         NORMAL\n",
              "1     0.010244  9.897562e-01         NORMAL\n",
              "2     0.022089  9.779112e-01         NORMAL\n",
              "3     0.009426  9.905736e-01         NORMAL\n",
              "4     0.029229  9.707708e-01         NORMAL\n",
              "..         ...           ...            ...\n",
              "82    0.021595  9.784051e-01     AGGRESSIVE\n",
              "83    1.000000  2.365234e-07     AGGRESSIVE\n",
              "84    0.006043  9.939574e-01     AGGRESSIVE\n",
              "85    0.007515  9.924849e-01     AGGRESSIVE\n",
              "86    0.000633  9.993666e-01     AGGRESSIVE\n",
              "\n",
              "[87 rows x 3 columns]"
            ],
            "text/html": [
              "\n",
              "  <div id=\"df-a2bfd909-7dfd-4048-9677-5bf183c51399\" class=\"colab-df-container\">\n",
              "    <div>\n",
              "<style scoped>\n",
              "    .dataframe tbody tr th:only-of-type {\n",
              "        vertical-align: middle;\n",
              "    }\n",
              "\n",
              "    .dataframe tbody tr th {\n",
              "        vertical-align: top;\n",
              "    }\n",
              "\n",
              "    .dataframe thead th {\n",
              "        text-align: right;\n",
              "    }\n",
              "</style>\n",
              "<table border=\"1\" class=\"dataframe\">\n",
              "  <thead>\n",
              "    <tr style=\"text-align: right;\">\n",
              "      <th></th>\n",
              "      <th>AGGRESSIVE</th>\n",
              "      <th>NORMAL</th>\n",
              "      <th>Original Class</th>\n",
              "    </tr>\n",
              "  </thead>\n",
              "  <tbody>\n",
              "    <tr>\n",
              "      <th>0</th>\n",
              "      <td>0.015625</td>\n",
              "      <td>9.843746e-01</td>\n",
              "      <td>NORMAL</td>\n",
              "    </tr>\n",
              "    <tr>\n",
              "      <th>1</th>\n",
              "      <td>0.010244</td>\n",
              "      <td>9.897562e-01</td>\n",
              "      <td>NORMAL</td>\n",
              "    </tr>\n",
              "    <tr>\n",
              "      <th>2</th>\n",
              "      <td>0.022089</td>\n",
              "      <td>9.779112e-01</td>\n",
              "      <td>NORMAL</td>\n",
              "    </tr>\n",
              "    <tr>\n",
              "      <th>3</th>\n",
              "      <td>0.009426</td>\n",
              "      <td>9.905736e-01</td>\n",
              "      <td>NORMAL</td>\n",
              "    </tr>\n",
              "    <tr>\n",
              "      <th>4</th>\n",
              "      <td>0.029229</td>\n",
              "      <td>9.707708e-01</td>\n",
              "      <td>NORMAL</td>\n",
              "    </tr>\n",
              "    <tr>\n",
              "      <th>...</th>\n",
              "      <td>...</td>\n",
              "      <td>...</td>\n",
              "      <td>...</td>\n",
              "    </tr>\n",
              "    <tr>\n",
              "      <th>82</th>\n",
              "      <td>0.021595</td>\n",
              "      <td>9.784051e-01</td>\n",
              "      <td>AGGRESSIVE</td>\n",
              "    </tr>\n",
              "    <tr>\n",
              "      <th>83</th>\n",
              "      <td>1.000000</td>\n",
              "      <td>2.365234e-07</td>\n",
              "      <td>AGGRESSIVE</td>\n",
              "    </tr>\n",
              "    <tr>\n",
              "      <th>84</th>\n",
              "      <td>0.006043</td>\n",
              "      <td>9.939574e-01</td>\n",
              "      <td>AGGRESSIVE</td>\n",
              "    </tr>\n",
              "    <tr>\n",
              "      <th>85</th>\n",
              "      <td>0.007515</td>\n",
              "      <td>9.924849e-01</td>\n",
              "      <td>AGGRESSIVE</td>\n",
              "    </tr>\n",
              "    <tr>\n",
              "      <th>86</th>\n",
              "      <td>0.000633</td>\n",
              "      <td>9.993666e-01</td>\n",
              "      <td>AGGRESSIVE</td>\n",
              "    </tr>\n",
              "  </tbody>\n",
              "</table>\n",
              "<p>87 rows × 3 columns</p>\n",
              "</div>\n",
              "    <div class=\"colab-df-buttons\">\n",
              "\n",
              "  <div class=\"colab-df-container\">\n",
              "    <button class=\"colab-df-convert\" onclick=\"convertToInteractive('df-a2bfd909-7dfd-4048-9677-5bf183c51399')\"\n",
              "            title=\"Convert this dataframe to an interactive table.\"\n",
              "            style=\"display:none;\">\n",
              "\n",
              "  <svg xmlns=\"http://www.w3.org/2000/svg\" height=\"24px\" viewBox=\"0 -960 960 960\">\n",
              "    <path d=\"M120-120v-720h720v720H120Zm60-500h600v-160H180v160Zm220 220h160v-160H400v160Zm0 220h160v-160H400v160ZM180-400h160v-160H180v160Zm440 0h160v-160H620v160ZM180-180h160v-160H180v160Zm440 0h160v-160H620v160Z\"/>\n",
              "  </svg>\n",
              "    </button>\n",
              "\n",
              "  <style>\n",
              "    .colab-df-container {\n",
              "      display:flex;\n",
              "      gap: 12px;\n",
              "    }\n",
              "\n",
              "    .colab-df-convert {\n",
              "      background-color: #E8F0FE;\n",
              "      border: none;\n",
              "      border-radius: 50%;\n",
              "      cursor: pointer;\n",
              "      display: none;\n",
              "      fill: #1967D2;\n",
              "      height: 32px;\n",
              "      padding: 0 0 0 0;\n",
              "      width: 32px;\n",
              "    }\n",
              "\n",
              "    .colab-df-convert:hover {\n",
              "      background-color: #E2EBFA;\n",
              "      box-shadow: 0px 1px 2px rgba(60, 64, 67, 0.3), 0px 1px 3px 1px rgba(60, 64, 67, 0.15);\n",
              "      fill: #174EA6;\n",
              "    }\n",
              "\n",
              "    .colab-df-buttons div {\n",
              "      margin-bottom: 4px;\n",
              "    }\n",
              "\n",
              "    [theme=dark] .colab-df-convert {\n",
              "      background-color: #3B4455;\n",
              "      fill: #D2E3FC;\n",
              "    }\n",
              "\n",
              "    [theme=dark] .colab-df-convert:hover {\n",
              "      background-color: #434B5C;\n",
              "      box-shadow: 0px 1px 3px 1px rgba(0, 0, 0, 0.15);\n",
              "      filter: drop-shadow(0px 1px 2px rgba(0, 0, 0, 0.3));\n",
              "      fill: #FFFFFF;\n",
              "    }\n",
              "  </style>\n",
              "\n",
              "    <script>\n",
              "      const buttonEl =\n",
              "        document.querySelector('#df-a2bfd909-7dfd-4048-9677-5bf183c51399 button.colab-df-convert');\n",
              "      buttonEl.style.display =\n",
              "        google.colab.kernel.accessAllowed ? 'block' : 'none';\n",
              "\n",
              "      async function convertToInteractive(key) {\n",
              "        const element = document.querySelector('#df-a2bfd909-7dfd-4048-9677-5bf183c51399');\n",
              "        const dataTable =\n",
              "          await google.colab.kernel.invokeFunction('convertToInteractive',\n",
              "                                                    [key], {});\n",
              "        if (!dataTable) return;\n",
              "\n",
              "        const docLinkHtml = 'Like what you see? Visit the ' +\n",
              "          '<a target=\"_blank\" href=https://colab.research.google.com/notebooks/data_table.ipynb>data table notebook</a>'\n",
              "          + ' to learn more about interactive tables.';\n",
              "        element.innerHTML = '';\n",
              "        dataTable['output_type'] = 'display_data';\n",
              "        await google.colab.output.renderOutput(dataTable, element);\n",
              "        const docLink = document.createElement('div');\n",
              "        docLink.innerHTML = docLinkHtml;\n",
              "        element.appendChild(docLink);\n",
              "      }\n",
              "    </script>\n",
              "  </div>\n",
              "\n",
              "\n",
              "<div id=\"df-0d054ec3-59f1-4882-bd38-c95f36d37d45\">\n",
              "  <button class=\"colab-df-quickchart\" onclick=\"quickchart('df-0d054ec3-59f1-4882-bd38-c95f36d37d45')\"\n",
              "            title=\"Suggest charts\"\n",
              "            style=\"display:none;\">\n",
              "\n",
              "<svg xmlns=\"http://www.w3.org/2000/svg\" height=\"24px\"viewBox=\"0 0 24 24\"\n",
              "     width=\"24px\">\n",
              "    <g>\n",
              "        <path d=\"M19 3H5c-1.1 0-2 .9-2 2v14c0 1.1.9 2 2 2h14c1.1 0 2-.9 2-2V5c0-1.1-.9-2-2-2zM9 17H7v-7h2v7zm4 0h-2V7h2v10zm4 0h-2v-4h2v4z\"/>\n",
              "    </g>\n",
              "</svg>\n",
              "  </button>\n",
              "\n",
              "<style>\n",
              "  .colab-df-quickchart {\n",
              "      --bg-color: #E8F0FE;\n",
              "      --fill-color: #1967D2;\n",
              "      --hover-bg-color: #E2EBFA;\n",
              "      --hover-fill-color: #174EA6;\n",
              "      --disabled-fill-color: #AAA;\n",
              "      --disabled-bg-color: #DDD;\n",
              "  }\n",
              "\n",
              "  [theme=dark] .colab-df-quickchart {\n",
              "      --bg-color: #3B4455;\n",
              "      --fill-color: #D2E3FC;\n",
              "      --hover-bg-color: #434B5C;\n",
              "      --hover-fill-color: #FFFFFF;\n",
              "      --disabled-bg-color: #3B4455;\n",
              "      --disabled-fill-color: #666;\n",
              "  }\n",
              "\n",
              "  .colab-df-quickchart {\n",
              "    background-color: var(--bg-color);\n",
              "    border: none;\n",
              "    border-radius: 50%;\n",
              "    cursor: pointer;\n",
              "    display: none;\n",
              "    fill: var(--fill-color);\n",
              "    height: 32px;\n",
              "    padding: 0;\n",
              "    width: 32px;\n",
              "  }\n",
              "\n",
              "  .colab-df-quickchart:hover {\n",
              "    background-color: var(--hover-bg-color);\n",
              "    box-shadow: 0 1px 2px rgba(60, 64, 67, 0.3), 0 1px 3px 1px rgba(60, 64, 67, 0.15);\n",
              "    fill: var(--button-hover-fill-color);\n",
              "  }\n",
              "\n",
              "  .colab-df-quickchart-complete:disabled,\n",
              "  .colab-df-quickchart-complete:disabled:hover {\n",
              "    background-color: var(--disabled-bg-color);\n",
              "    fill: var(--disabled-fill-color);\n",
              "    box-shadow: none;\n",
              "  }\n",
              "\n",
              "  .colab-df-spinner {\n",
              "    border: 2px solid var(--fill-color);\n",
              "    border-color: transparent;\n",
              "    border-bottom-color: var(--fill-color);\n",
              "    animation:\n",
              "      spin 1s steps(1) infinite;\n",
              "  }\n",
              "\n",
              "  @keyframes spin {\n",
              "    0% {\n",
              "      border-color: transparent;\n",
              "      border-bottom-color: var(--fill-color);\n",
              "      border-left-color: var(--fill-color);\n",
              "    }\n",
              "    20% {\n",
              "      border-color: transparent;\n",
              "      border-left-color: var(--fill-color);\n",
              "      border-top-color: var(--fill-color);\n",
              "    }\n",
              "    30% {\n",
              "      border-color: transparent;\n",
              "      border-left-color: var(--fill-color);\n",
              "      border-top-color: var(--fill-color);\n",
              "      border-right-color: var(--fill-color);\n",
              "    }\n",
              "    40% {\n",
              "      border-color: transparent;\n",
              "      border-right-color: var(--fill-color);\n",
              "      border-top-color: var(--fill-color);\n",
              "    }\n",
              "    60% {\n",
              "      border-color: transparent;\n",
              "      border-right-color: var(--fill-color);\n",
              "    }\n",
              "    80% {\n",
              "      border-color: transparent;\n",
              "      border-right-color: var(--fill-color);\n",
              "      border-bottom-color: var(--fill-color);\n",
              "    }\n",
              "    90% {\n",
              "      border-color: transparent;\n",
              "      border-bottom-color: var(--fill-color);\n",
              "    }\n",
              "  }\n",
              "</style>\n",
              "\n",
              "  <script>\n",
              "    async function quickchart(key) {\n",
              "      const quickchartButtonEl =\n",
              "        document.querySelector('#' + key + ' button');\n",
              "      quickchartButtonEl.disabled = true;  // To prevent multiple clicks.\n",
              "      quickchartButtonEl.classList.add('colab-df-spinner');\n",
              "      try {\n",
              "        const charts = await google.colab.kernel.invokeFunction(\n",
              "            'suggestCharts', [key], {});\n",
              "      } catch (error) {\n",
              "        console.error('Error during call to suggestCharts:', error);\n",
              "      }\n",
              "      quickchartButtonEl.classList.remove('colab-df-spinner');\n",
              "      quickchartButtonEl.classList.add('colab-df-quickchart-complete');\n",
              "    }\n",
              "    (() => {\n",
              "      let quickchartButtonEl =\n",
              "        document.querySelector('#df-0d054ec3-59f1-4882-bd38-c95f36d37d45 button');\n",
              "      quickchartButtonEl.style.display =\n",
              "        google.colab.kernel.accessAllowed ? 'block' : 'none';\n",
              "    })();\n",
              "  </script>\n",
              "</div>\n",
              "\n",
              "  <div id=\"id_d2e3f5d9-4531-4b1a-a5a6-ad05358fcdf3\">\n",
              "    <style>\n",
              "      .colab-df-generate {\n",
              "        background-color: #E8F0FE;\n",
              "        border: none;\n",
              "        border-radius: 50%;\n",
              "        cursor: pointer;\n",
              "        display: none;\n",
              "        fill: #1967D2;\n",
              "        height: 32px;\n",
              "        padding: 0 0 0 0;\n",
              "        width: 32px;\n",
              "      }\n",
              "\n",
              "      .colab-df-generate:hover {\n",
              "        background-color: #E2EBFA;\n",
              "        box-shadow: 0px 1px 2px rgba(60, 64, 67, 0.3), 0px 1px 3px 1px rgba(60, 64, 67, 0.15);\n",
              "        fill: #174EA6;\n",
              "      }\n",
              "\n",
              "      [theme=dark] .colab-df-generate {\n",
              "        background-color: #3B4455;\n",
              "        fill: #D2E3FC;\n",
              "      }\n",
              "\n",
              "      [theme=dark] .colab-df-generate:hover {\n",
              "        background-color: #434B5C;\n",
              "        box-shadow: 0px 1px 3px 1px rgba(0, 0, 0, 0.15);\n",
              "        filter: drop-shadow(0px 1px 2px rgba(0, 0, 0, 0.3));\n",
              "        fill: #FFFFFF;\n",
              "      }\n",
              "    </style>\n",
              "    <button class=\"colab-df-generate\" onclick=\"generateWithVariable('df_result')\"\n",
              "            title=\"Generate code using this dataframe.\"\n",
              "            style=\"display:none;\">\n",
              "\n",
              "  <svg xmlns=\"http://www.w3.org/2000/svg\" height=\"24px\"viewBox=\"0 0 24 24\"\n",
              "       width=\"24px\">\n",
              "    <path d=\"M7,19H8.4L18.45,9,17,7.55,7,17.6ZM5,21V16.75L18.45,3.32a2,2,0,0,1,2.83,0l1.4,1.43a1.91,1.91,0,0,1,.58,1.4,1.91,1.91,0,0,1-.58,1.4L9.25,21ZM18.45,9,17,7.55Zm-12,3A5.31,5.31,0,0,0,4.9,8.1,5.31,5.31,0,0,0,1,6.5,5.31,5.31,0,0,0,4.9,4.9,5.31,5.31,0,0,0,6.5,1,5.31,5.31,0,0,0,8.1,4.9,5.31,5.31,0,0,0,12,6.5,5.46,5.46,0,0,0,6.5,12Z\"/>\n",
              "  </svg>\n",
              "    </button>\n",
              "    <script>\n",
              "      (() => {\n",
              "      const buttonEl =\n",
              "        document.querySelector('#id_d2e3f5d9-4531-4b1a-a5a6-ad05358fcdf3 button.colab-df-generate');\n",
              "      buttonEl.style.display =\n",
              "        google.colab.kernel.accessAllowed ? 'block' : 'none';\n",
              "\n",
              "      buttonEl.onclick = () => {\n",
              "        google.colab.notebook.generateWithVariable('df_result');\n",
              "      }\n",
              "      })();\n",
              "    </script>\n",
              "  </div>\n",
              "\n",
              "    </div>\n",
              "  </div>\n"
            ],
            "application/vnd.google.colaboratory.intrinsic+json": {
              "type": "dataframe",
              "variable_name": "df_result",
              "summary": "{\n  \"name\": \"df_result\",\n  \"rows\": 87,\n  \"fields\": [\n    {\n      \"column\": \"AGGRESSIVE\",\n      \"properties\": {\n        \"dtype\": \"float32\",\n        \"num_unique_values\": 81,\n        \"samples\": [\n          0.0452958419919014,\n          0.015625441446900368,\n          0.9999997615814209\n        ],\n        \"semantic_type\": \"\",\n        \"description\": \"\"\n      }\n    },\n    {\n      \"column\": \"NORMAL\",\n      \"properties\": {\n        \"dtype\": \"float32\",\n        \"num_unique_values\": 87,\n        \"samples\": [\n          1.6838664862461883e-07,\n          0.9843745827674866,\n          5.268778477329761e-05\n        ],\n        \"semantic_type\": \"\",\n        \"description\": \"\"\n      }\n    },\n    {\n      \"column\": \"Original Class\",\n      \"properties\": {\n        \"dtype\": \"category\",\n        \"num_unique_values\": 2,\n        \"samples\": [\n          \"AGGRESSIVE\",\n          \"NORMAL\"\n        ],\n        \"semantic_type\": \"\",\n        \"description\": \"\"\n      }\n    }\n  ]\n}"
            }
          },
          "metadata": {},
          "execution_count": 26
        }
      ],
      "source": [
        "# Combine the actual and resulted classes\n",
        "df_result = pd.concat([df_predicted, df_actual], axis=1)\n",
        "df_result"
      ]
    },
    {
      "cell_type": "code",
      "execution_count": 27,
      "id": "4cf2d240",
      "metadata": {
        "execution": {
          "iopub.execute_input": "2022-06-05T17:08:48.872973Z",
          "iopub.status.busy": "2022-06-05T17:08:48.872380Z",
          "iopub.status.idle": "2022-06-05T17:08:49.068890Z",
          "shell.execute_reply": "2022-06-05T17:08:49.067738Z"
        },
        "papermill": {
          "duration": 0.215887,
          "end_time": "2022-06-05T17:08:49.071615",
          "exception": false,
          "start_time": "2022-06-05T17:08:48.855728",
          "status": "completed"
        },
        "tags": [],
        "colab": {
          "base_uri": "https://localhost:8080/",
          "height": 449
        },
        "id": "4cf2d240",
        "outputId": "2f1d03c8-136e-4359-ad4f-2de0381af870"
      },
      "outputs": [
        {
          "output_type": "display_data",
          "data": {
            "text/plain": [
              "<Figure size 640x480 with 2 Axes>"
            ],
            "image/png": "[encoded data removed]"
          },
          "metadata": {}
        }
      ],
      "source": [
        "from sklearn.metrics import confusion_matrix, ConfusionMatrixDisplay\n",
        "\n",
        "y_pred = np.argmax(y_pred, axis=1)\n",
        "cm = confusion_matrix(actual_y_test, y_pred)\n",
        "\n",
        "classes = ['AGGRESSIVE', 'NORMAL']\n",
        "disp = ConfusionMatrixDisplay.from_predictions(actual_y_test, y_pred, display_labels=classes)\n",
        "\n",
        "plt.rcParams['figure.figsize'] = [20, 10]\n",
        "plt.show()\n"
      ]
    },
    {
      "cell_type": "code",
      "source": [
        "best_model.summary()"
      ],
      "metadata": {
        "colab": {
          "base_uri": "https://localhost:8080/",
          "height": 353
        },
        "id": "W-LFMhpWzsOa",
        "outputId": "98a3034d-334e-45c7-fcba-95b5ea41abf1"
      },
      "id": "W-LFMhpWzsOa",
      "execution_count": 28,
      "outputs": [
        {
          "output_type": "display_data",
          "data": {
            "text/plain": [
              "\u001b[1mModel: \"sequential\"\u001b[0m\n"
            ],
            "text/html": [
              "<pre style=\"white-space:pre;overflow-x:auto;line-height:normal;font-family:Menlo,'DejaVu Sans Mono',consolas,'Courier New',monospace\"><span style=\"font-weight: bold\">Model: \"sequential\"</span>\n",
              "</pre>\n"
            ]
          },
          "metadata": {}
        },
        {
          "output_type": "display_data",
          "data": {
            "text/plain": [
              "┏━━━━━━━━━━━━━━━━━━━━━━━━━━━━━━━━━━━━━━┳━━━━━━━━━━━━━━━━━━━━━━━━━━━━━┳━━━━━━━━━━━━━━━━━┓\n",
              "┃\u001b[1m \u001b[0m\u001b[1mLayer (type)                        \u001b[0m\u001b[1m \u001b[0m┃\u001b[1m \u001b[0m\u001b[1mOutput Shape               \u001b[0m\u001b[1m \u001b[0m┃\u001b[1m \u001b[0m\u001b[1m        Param #\u001b[0m\u001b[1m \u001b[0m┃\n",
              "┡━━━━━━━━━━━━━━━━━━━━━━━━━━━━━━━━━━━━━━╇━━━━━━━━━━━━━━━━━━━━━━━━━━━━━╇━━━━━━━━━━━━━━━━━┩\n",
              "│ lstm (\u001b[38;5;33mLSTM\u001b[0m)                          │ (\u001b[38;5;45mNone\u001b[0m, \u001b[38;5;34m20\u001b[0m, \u001b[38;5;34m288\u001b[0m)             │         \u001b[38;5;34m339,840\u001b[0m │\n",
              "├──────────────────────────────────────┼─────────────────────────────┼─────────────────┤\n",
              "│ lstm_1 (\u001b[38;5;33mLSTM\u001b[0m)                        │ (\u001b[38;5;45mNone\u001b[0m, \u001b[38;5;34m20\u001b[0m, \u001b[38;5;34m288\u001b[0m)             │         \u001b[38;5;34m664,704\u001b[0m │\n",
              "├──────────────────────────────────────┼─────────────────────────────┼─────────────────┤\n",
              "│ lstm_2 (\u001b[38;5;33mLSTM\u001b[0m)                        │ (\u001b[38;5;45mNone\u001b[0m, \u001b[38;5;34m20\u001b[0m, \u001b[38;5;34m352\u001b[0m)             │         \u001b[38;5;34m902,528\u001b[0m │\n",
              "├──────────────────────────────────────┼─────────────────────────────┼─────────────────┤\n",
              "│ lstm_3 (\u001b[38;5;33mLSTM\u001b[0m)                        │ (\u001b[38;5;45mNone\u001b[0m, \u001b[38;5;34m160\u001b[0m)                 │         \u001b[38;5;34m328,320\u001b[0m │\n",
              "├──────────────────────────────────────┼─────────────────────────────┼─────────────────┤\n",
              "│ dropout (\u001b[38;5;33mDropout\u001b[0m)                    │ (\u001b[38;5;45mNone\u001b[0m, \u001b[38;5;34m160\u001b[0m)                 │               \u001b[38;5;34m0\u001b[0m │\n",
              "├──────────────────────────────────────┼─────────────────────────────┼─────────────────┤\n",
              "│ dense (\u001b[38;5;33mDense\u001b[0m)                        │ (\u001b[38;5;45mNone\u001b[0m, \u001b[38;5;34m256\u001b[0m)                 │          \u001b[38;5;34m41,216\u001b[0m │\n",
              "├──────────────────────────────────────┼─────────────────────────────┼─────────────────┤\n",
              "│ dense_1 (\u001b[38;5;33mDense\u001b[0m)                      │ (\u001b[38;5;45mNone\u001b[0m, \u001b[38;5;34m2\u001b[0m)                   │             \u001b[38;5;34m514\u001b[0m │\n",
              "└──────────────────────────────────────┴─────────────────────────────┴─────────────────┘\n"
            ],
            "text/html": [
              "<pre style=\"white-space:pre;overflow-x:auto;line-height:normal;font-family:Menlo,'DejaVu Sans Mono',consolas,'Courier New',monospace\">┏━━━━━━━━━━━━━━━━━━━━━━━━━━━━━━━━━━━━━━┳━━━━━━━━━━━━━━━━━━━━━━━━━━━━━┳━━━━━━━━━━━━━━━━━┓\n",
              "┃<span style=\"font-weight: bold\"> Layer (type)                         </span>┃<span style=\"font-weight: bold\"> Output Shape                </span>┃<span style=\"font-weight: bold\">         Param # </span>┃\n",
              "┡━━━━━━━━━━━━━━━━━━━━━━━━━━━━━━━━━━━━━━╇━━━━━━━━━━━━━━━━━━━━━━━━━━━━━╇━━━━━━━━━━━━━━━━━┩\n",
              "│ lstm (<span style=\"color: #0087ff; text-decoration-color: #0087ff\">LSTM</span>)                          │ (<span style=\"color: #00d7ff; text-decoration-color: #00d7ff\">None</span>, <span style=\"color: #00af00; text-decoration-color: #00af00\">20</span>, <span style=\"color: #00af00; text-decoration-color: #00af00\">288</span>)             │         <span style=\"color: #00af00; text-decoration-color: #00af00\">339,840</span> │\n",
              "├──────────────────────────────────────┼─────────────────────────────┼─────────────────┤\n",
              "│ lstm_1 (<span style=\"color: #0087ff; text-decoration-color: #0087ff\">LSTM</span>)                        │ (<span style=\"color: #00d7ff; text-decoration-color: #00d7ff\">None</span>, <span style=\"color: #00af00; text-decoration-color: #00af00\">20</span>, <span style=\"color: #00af00; text-decoration-color: #00af00\">288</span>)             │         <span style=\"color: #00af00; text-decoration-color: #00af00\">664,704</span> │\n",
              "├──────────────────────────────────────┼─────────────────────────────┼─────────────────┤\n",
              "│ lstm_2 (<span style=\"color: #0087ff; text-decoration-color: #0087ff\">LSTM</span>)                        │ (<span style=\"color: #00d7ff; text-decoration-color: #00d7ff\">None</span>, <span style=\"color: #00af00; text-decoration-color: #00af00\">20</span>, <span style=\"color: #00af00; text-decoration-color: #00af00\">352</span>)             │         <span style=\"color: #00af00; text-decoration-color: #00af00\">902,528</span> │\n",
              "├──────────────────────────────────────┼─────────────────────────────┼─────────────────┤\n",
              "│ lstm_3 (<span style=\"color: #0087ff; text-decoration-color: #0087ff\">LSTM</span>)                        │ (<span style=\"color: #00d7ff; text-decoration-color: #00d7ff\">None</span>, <span style=\"color: #00af00; text-decoration-color: #00af00\">160</span>)                 │         <span style=\"color: #00af00; text-decoration-color: #00af00\">328,320</span> │\n",
              "├──────────────────────────────────────┼─────────────────────────────┼─────────────────┤\n",
              "│ dropout (<span style=\"color: #0087ff; text-decoration-color: #0087ff\">Dropout</span>)                    │ (<span style=\"color: #00d7ff; text-decoration-color: #00d7ff\">None</span>, <span style=\"color: #00af00; text-decoration-color: #00af00\">160</span>)                 │               <span style=\"color: #00af00; text-decoration-color: #00af00\">0</span> │\n",
              "├──────────────────────────────────────┼─────────────────────────────┼─────────────────┤\n",
              "│ dense (<span style=\"color: #0087ff; text-decoration-color: #0087ff\">Dense</span>)                        │ (<span style=\"color: #00d7ff; text-decoration-color: #00d7ff\">None</span>, <span style=\"color: #00af00; text-decoration-color: #00af00\">256</span>)                 │          <span style=\"color: #00af00; text-decoration-color: #00af00\">41,216</span> │\n",
              "├──────────────────────────────────────┼─────────────────────────────┼─────────────────┤\n",
              "│ dense_1 (<span style=\"color: #0087ff; text-decoration-color: #0087ff\">Dense</span>)                      │ (<span style=\"color: #00d7ff; text-decoration-color: #00d7ff\">None</span>, <span style=\"color: #00af00; text-decoration-color: #00af00\">2</span>)                   │             <span style=\"color: #00af00; text-decoration-color: #00af00\">514</span> │\n",
              "└──────────────────────────────────────┴─────────────────────────────┴─────────────────┘\n",
              "</pre>\n"
            ]
          },
          "metadata": {}
        },
        {
          "output_type": "display_data",
          "data": {
            "text/plain": [
              "\u001b[1m Total params: \u001b[0m\u001b[38;5;34m2,277,122\u001b[0m (8.69 MB)\n"
            ],
            "text/html": [
              "<pre style=\"white-space:pre;overflow-x:auto;line-height:normal;font-family:Menlo,'DejaVu Sans Mono',consolas,'Courier New',monospace\"><span style=\"font-weight: bold\"> Total params: </span><span style=\"color: #00af00; text-decoration-color: #00af00\">2,277,122</span> (8.69 MB)\n",
              "</pre>\n"
            ]
          },
          "metadata": {}
        },
        {
          "output_type": "display_data",
          "data": {
            "text/plain": [
              "\u001b[1m Trainable params: \u001b[0m\u001b[38;5;34m2,277,122\u001b[0m (8.69 MB)\n"
            ],
            "text/html": [
              "<pre style=\"white-space:pre;overflow-x:auto;line-height:normal;font-family:Menlo,'DejaVu Sans Mono',consolas,'Courier New',monospace\"><span style=\"font-weight: bold\"> Trainable params: </span><span style=\"color: #00af00; text-decoration-color: #00af00\">2,277,122</span> (8.69 MB)\n",
              "</pre>\n"
            ]
          },
          "metadata": {}
        },
        {
          "output_type": "display_data",
          "data": {
            "text/plain": [
              "\u001b[1m Non-trainable params: \u001b[0m\u001b[38;5;34m0\u001b[0m (0.00 B)\n"
            ],
            "text/html": [
              "<pre style=\"white-space:pre;overflow-x:auto;line-height:normal;font-family:Menlo,'DejaVu Sans Mono',consolas,'Courier New',monospace\"><span style=\"font-weight: bold\"> Non-trainable params: </span><span style=\"color: #00af00; text-decoration-color: #00af00\">0</span> (0.00 B)\n",
              "</pre>\n"
            ]
          },
          "metadata": {}
        }
      ]
    },
    {
      "cell_type": "code",
      "execution_count": 29,
      "id": "a77aa53a",
      "metadata": {
        "execution": {
          "iopub.execute_input": "2022-06-05T17:08:49.104480Z",
          "iopub.status.busy": "2022-06-05T17:08:49.103630Z",
          "iopub.status.idle": "2022-06-05T17:08:49.115918Z",
          "shell.execute_reply": "2022-06-05T17:08:49.114815Z"
        },
        "papermill": {
          "duration": 0.032149,
          "end_time": "2022-06-05T17:08:49.118817",
          "exception": false,
          "start_time": "2022-06-05T17:08:49.086668",
          "status": "completed"
        },
        "tags": [],
        "id": "a77aa53a"
      },
      "outputs": [],
      "source": [
        "df_result.to_csv('bin_lstm_20.csv')"
      ]
    }
  ],
  "metadata": {
    "kernelspec": {
      "display_name": "Python 3",
      "name": "python3"
    },
    "language_info": {
      "codemirror_mode": {
        "name": "ipython",
        "version": 3
      },
      "file_extension": ".py",
      "mimetype": "text/x-python",
      "name": "python",
      "nbconvert_exporter": "python",
      "pygments_lexer": "ipython3",
      "version": "3.7.12"
    },
    "papermill": {
      "default_parameters": {},
      "duration": 2009.788446,
      "end_time": "2022-06-05T17:08:52.103777",
      "environment_variables": {},
      "exception": null,
      "input_path": "__notebook__.ipynb",
      "output_path": "__notebook__.ipynb",
      "parameters": {},
      "start_time": "2022-06-05T16:35:22.315331",
      "version": "2.3.4"
    },
    "colab": {
      "provenance": [],
      "gpuType": "T4"
    },
    "accelerator": "GPU"
  },
  "nbformat": 4,
  "nbformat_minor": 5
}